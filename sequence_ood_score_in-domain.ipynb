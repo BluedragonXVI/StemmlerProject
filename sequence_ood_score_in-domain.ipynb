{
 "cells": [
  {
   "cell_type": "code",
   "execution_count": 1,
   "id": "d6ace74a-f6f3-4529-b9d1-bfe196e9db0a",
   "metadata": {},
   "outputs": [
    {
     "name": "stderr",
     "output_type": "stream",
     "text": [
      "/home/paul/anaconda3/envs/stemmler/lib/python3.8/site-packages/tqdm/auto.py:22: TqdmWarning: IProgress not found. Please update jupyter and ipywidgets. See https://ipywidgets.readthedocs.io/en/stable/user_install.html\n",
      "  from .autonotebook import tqdm as notebook_tqdm\n"
     ]
    }
   ],
   "source": [
    "import os\n",
    "import pickle\n",
    "\n",
    "import numpy as np\n",
    "import pandas as pd\n",
    "import tqdm\n",
    "\n",
    "import torch \n",
    "\n",
    "import sklearn\n",
    "import sklearn.covariance\n",
    "from sklearn import svm\n",
    "\n",
    "import matplotlib.pyplot as plt"
   ]
  },
  {
   "cell_type": "code",
   "execution_count": 2,
   "id": "3ffc5311-558e-496d-aee4-3ae9fadb15cb",
   "metadata": {},
   "outputs": [],
   "source": [
    "import re"
   ]
  },
  {
   "cell_type": "code",
   "execution_count": 3,
   "id": "0b9ae9e0-29ab-412a-976a-81b43a7ce7b1",
   "metadata": {},
   "outputs": [],
   "source": [
    "from icd9cms.icd9 import search\n",
    "\n",
    "with open(\"./data/pcode_dict.txt\", \"rb\") as fp: \n",
    "    icd9_pcode_dict = pickle.load(fp)"
   ]
  },
  {
   "cell_type": "code",
   "execution_count": 4,
   "id": "a55360d7-bd07-4071-abd6-823f9b2b5e96",
   "metadata": {},
   "outputs": [],
   "source": [
    "from transformers import AutoTokenizer\n",
    "NTDBGPT2_tokenizer = AutoTokenizer.from_pretrained('dracoglacius/NTDB-GPT2')"
   ]
  },
  {
   "cell_type": "markdown",
   "id": "0753465d-87c6-47b5-b5d0-bde4b4ef8de6",
   "metadata": {
    "tags": []
   },
   "source": [
    "## Overview\n",
    "\n",
    "We have the intuition that given a distribution with center of the hyper-elliposid $c$ and the shape of the ellipsoid defined by $\\Sigma$, $c$ and $\\sigma$ should not deviate from the empirical mean ($\\hat{c}$) and the covariance estimations ($\\hat{\\Sigma}$) taken from the training data. \n",
    "\n",
    "To obtain these estimates we need to:\n",
    "\n",
    "1. Feed the NTDB model with the training data (length $n$) and from the last token get the features of each layer ($n$ x 13 x 768)\n",
    "1. Calculate the sample mean ($\\hat{c}$) and the covariance estimate ($\\hat{\\Sigma}$), while also getting the estimated pseudo-inverse (called `.precision_` in sklearn)\n",
    "\n",
    "To obtain the OOD estimation we need to:\n",
    "\n",
    "1. Calculate the Mahalanobis Distance Feature (MDF) using the generated data (should be a vector equal to the number of layers)\n",
    "1. Calculate the Anomaly Score\n",
    "  1. This is a one-class SVM with a linear kernel with MDF as features"
   ]
  },
  {
   "cell_type": "markdown",
   "id": "b3e05a44-c2ff-4439-96e0-3183998dffe6",
   "metadata": {
    "tags": []
   },
   "source": [
    "## Helper Functions"
   ]
  },
  {
   "cell_type": "code",
   "execution_count": 5,
   "id": "c6198917-68b4-4d41-83ad-6c664d0e27b6",
   "metadata": {},
   "outputs": [],
   "source": [
    "def metric(dir_name, stypes = ['Bas', 'Gau'], verbose=False):\n",
    "    tp, fp, tnr_at_tpr95 = get_curve(dir_name, stypes)\n",
    "    results = dict()\n",
    "    mtypes = ['TNR', 'AUROC', 'DTACC', 'AUIN', 'AUOUT']\n",
    "    if verbose:\n",
    "        print('      ', end='')\n",
    "        for mtype in mtypes:\n",
    "            print(' {mtype:6s}'.format(mtype=mtype), end='')\n",
    "        print('')\n",
    "        \n",
    "    for stype in stypes:\n",
    "        if verbose:\n",
    "            print('{stype:5s} '.format(stype=stype), end='')\n",
    "        results[stype] = dict()\n",
    "        \n",
    "        # TNR\n",
    "        mtype = 'TNR'\n",
    "        results[stype][mtype] = tnr_at_tpr95[stype]\n",
    "        if verbose:\n",
    "            print(' {val:6.3f}'.format(val=100.*results[stype][mtype]), end='')\n",
    "        \n",
    "        # AUROC\n",
    "        mtype = 'AUROC'\n",
    "        tpr = np.concatenate([[1.], tp[stype]/tp[stype][0], [0.]])\n",
    "        fpr = np.concatenate([[1.], fp[stype]/fp[stype][0], [0.]])\n",
    "        results[stype][mtype] = -np.trapz(1.-fpr, tpr)\n",
    "        if verbose:\n",
    "            print(' {val:6.3f}'.format(val=100.*results[stype][mtype]), end='')\n",
    "        \n",
    "        # DTACC\n",
    "        mtype = 'DTACC'\n",
    "        results[stype][mtype] = .5 * (tp[stype]/tp[stype][0] + 1.-fp[stype]/fp[stype][0]).max()\n",
    "        if verbose:\n",
    "            print(' {val:6.3f}'.format(val=100.*results[stype][mtype]), end='')\n",
    "        \n",
    "        # AUIN\n",
    "        mtype = 'AUIN'\n",
    "        denom = tp[stype]+fp[stype]\n",
    "        denom[denom == 0.] = -1.\n",
    "        pin_ind = np.concatenate([[True], denom > 0., [True]])\n",
    "        pin = np.concatenate([[.5], tp[stype]/denom, [0.]])\n",
    "        results[stype][mtype] = -np.trapz(pin[pin_ind], tpr[pin_ind])\n",
    "        if verbose:\n",
    "            print(' {val:6.3f}'.format(val=100.*results[stype][mtype]), end='')\n",
    "        \n",
    "        # AUOUT\n",
    "        mtype = 'AUOUT'\n",
    "        denom = tp[stype][0]-tp[stype]+fp[stype][0]-fp[stype]\n",
    "        denom[denom == 0.] = -1.\n",
    "        pout_ind = np.concatenate([[True], denom > 0., [True]])\n",
    "        pout = np.concatenate([[0.], (fp[stype][0]-fp[stype])/denom, [.5]])\n",
    "        results[stype][mtype] = np.trapz(pout[pout_ind], 1.-fpr[pout_ind])\n",
    "        if verbose:\n",
    "            print(' {val:6.3f}'.format(val=100.*results[stype][mtype]), end='')\n",
    "            print('')\n",
    "    return results"
   ]
  },
  {
   "cell_type": "code",
   "execution_count": 6,
   "id": "df8b5bb4-93db-465d-89fd-1587f3f3dac0",
   "metadata": {},
   "outputs": [],
   "source": [
    "def get_curve(dir_name, stypes = ['Baseline', 'Gaussian_LDA']):\n",
    "    tp, fp = dict(), dict()\n",
    "    tnr_at_tpr95 = dict()\n",
    "    for stype in stypes:\n",
    "        known = np.loadtxt('{}/confidence_{}_In.txt'.format(dir_name, stype), delimiter='\\n')\n",
    "        novel = np.loadtxt('{}/confidence_{}_Out.txt'.format(dir_name, stype), delimiter='\\n')\n",
    "        known.sort()\n",
    "        novel.sort()\n",
    "        end = np.max([np.max(known), np.max(novel)])\n",
    "        start = np.min([np.min(known),np.min(novel)])\n",
    "        num_k = known.shape[0]\n",
    "        num_n = novel.shape[0]\n",
    "        tp[stype] = -np.ones([num_k+num_n+1], dtype=int)\n",
    "        fp[stype] = -np.ones([num_k+num_n+1], dtype=int)\n",
    "        tp[stype][0], fp[stype][0] = num_k, num_n\n",
    "        k, n = 0, 0\n",
    "        for l in range(num_k+num_n):\n",
    "            if k == num_k:\n",
    "                tp[stype][l+1:] = tp[stype][l]\n",
    "                fp[stype][l+1:] = np.arange(fp[stype][l]-1, -1, -1)\n",
    "                break\n",
    "            elif n == num_n:\n",
    "                tp[stype][l+1:] = np.arange(tp[stype][l]-1, -1, -1)\n",
    "                fp[stype][l+1:] = fp[stype][l]\n",
    "                break\n",
    "            else:\n",
    "                if novel[n] < known[k]:\n",
    "                    n += 1\n",
    "                    tp[stype][l+1] = tp[stype][l]\n",
    "                    fp[stype][l+1] = fp[stype][l] - 1\n",
    "                else:\n",
    "                    k += 1\n",
    "                    tp[stype][l+1] = tp[stype][l] - 1\n",
    "                    fp[stype][l+1] = fp[stype][l]\n",
    "        tpr95_pos = np.abs(tp[stype] / num_k - .95).argmin()\n",
    "        tnr_at_tpr95[stype] = 1. - fp[stype][tpr95_pos] / num_n\n",
    "    return tp, fp, tnr_at_tpr95"
   ]
  },
  {
   "cell_type": "code",
   "execution_count": 7,
   "id": "afa5f568-13a1-4a5d-a775-3ad5476a6a22",
   "metadata": {},
   "outputs": [],
   "source": [
    "def detection_performance(scores, Y, outf, tag='TMP'):\n",
    "    \"\"\"\n",
    "    Measure the detection performance\n",
    "    return: detection metrics\n",
    "    \"\"\"\n",
    "    os.makedirs(outf, exist_ok=True)\n",
    "    num_samples = scores.shape[0]\n",
    "    l1 = open('%s/confidence_%s_In.txt'%(outf, tag), 'w')\n",
    "    l2 = open('%s/confidence_%s_Out.txt'%(outf, tag), 'w')\n",
    "    y_pred = scores # regressor.predict_proba(X)[:, 1]\n",
    "\n",
    "    for i in range(num_samples):\n",
    "        if Y[i] == 0:\n",
    "            l1.write(\"{}\\n\".format(-y_pred[i]))\n",
    "        else:\n",
    "            l2.write(\"{}\\n\".format(-y_pred[i]))\n",
    "    l1.close()\n",
    "    l2.close()\n",
    "    results = metric(outf, [tag])\n",
    "    return results"
   ]
  },
  {
   "cell_type": "markdown",
   "id": "6b770e1d-3678-41a3-b37b-bb953913f9ec",
   "metadata": {
    "tags": []
   },
   "source": [
    "## MDF Functions"
   ]
  },
  {
   "cell_type": "code",
   "execution_count": 8,
   "id": "6b0be5b4-36f0-40a9-8ef9-b45561763cb6",
   "metadata": {},
   "outputs": [],
   "source": [
    "def get_empirical_mean_cov(cov_estimator, layer_embeddings, num_layers=13):\n",
    "    mean_list = []\n",
    "    precision_list = []\n",
    "\n",
    "    for l in tqdm.tqdm(range(num_layers)):\n",
    "        sample_mean = torch.mean(layer_embeddings[:,l,:], axis=0)\n",
    "        X = layer_embeddings[:,l,:] - sample_mean\n",
    "        cov_estimator.fit(X.numpy())\n",
    "        temp_precision = cov_estimator.precision_\n",
    "        temp_precision = torch.from_numpy(temp_precision).float()\n",
    "        mean_list.append(sample_mean)#.to(device))\n",
    "        precision_list.append(temp_precision)#.to(device))\n",
    "    return mean_list, precision_list"
   ]
  },
  {
   "cell_type": "code",
   "execution_count": 9,
   "id": "58c706f5-536f-4f99-9128-6b79a99063e1",
   "metadata": {},
   "outputs": [],
   "source": [
    "def get_mdf(test_layer_embeddings, layer_mean, layer_precision, num_layers=13):\n",
    "    mdf_list = []\n",
    "    \n",
    "    for l in tqdm.tqdm(range(num_layers)):\n",
    "        zero_f = test_layer_embeddings[:,l,:] - layer_mean[l]\n",
    "        gaussian_score = -0.5 * ((zero_f @ layer_precision[l]) @ zero_f.t()).diag()\n",
    "        mdf_list.append(gaussian_score)\n",
    "    \n",
    "    return torch.stack(mdf_list).transpose(1,0)"
   ]
  },
  {
   "cell_type": "code",
   "execution_count": 10,
   "id": "8bc6a0fe-7f67-4994-85e1-0f4480a63690",
   "metadata": {},
   "outputs": [],
   "source": [
    "def get_score(trn_mdf, test_mdf, ood_mdf, label):\n",
    "    \n",
    "    candidate_list = [1e-15, 1e-12, 1e-9, 1e-7, 1e-5, 1e-3, 0.01, 0.1, 0.2, 0.5, 1]\n",
    "\n",
    "    ood_labels = np.ones(shape=(ood_mdf.shape[0], ))\n",
    "    test_labels = np.zeros(shape=(test_mdf.shape[0], ))\n",
    "\n",
    "    np.random.shuffle(test_mdf)\n",
    "    np.random.shuffle(ood_mdf)\n",
    "    best_ours_results = None\n",
    "    best_ours_AUROC = 0.0\n",
    "    best_model = None\n",
    "    # for k in ['poly', 'linear']:\n",
    "    for k in ['linear']:\n",
    "        for nuu in tqdm.tqdm(candidate_list):\n",
    "            print (\"running ---:\", \"kernel:\", k, \"nuu:\", nuu)\n",
    "            \n",
    "            c_lr = svm.OneClassSVM(nu=nuu, kernel=k, degree=2, tol=1e-5)\n",
    "            #c_lr = sklearn.linear_model.SGDOneClassSVM(nu=nuu, random_state=42)\n",
    "            c_lr.fit(trn_mdf)\n",
    "            \n",
    "            test_scores = c_lr.score_samples(test_mdf)\n",
    "            ood_scores = c_lr.score_samples(ood_mdf)\n",
    "            X_scores = np.concatenate((ood_scores, test_scores))\n",
    "            Y_test = np.concatenate((ood_labels, test_labels))\n",
    "\n",
    "            results = detection_performance(X_scores, Y_test, 'mah_logs', tag='TMP')\n",
    "            neg_resuls = detection_performance(-X_scores, Y_test, 'feats_logs', tag='TMP')\n",
    "            if sum(results[\"TMP\"].values()) < sum(neg_resuls[\"TMP\"].values()):\n",
    "                results = neg_resuls\n",
    "\n",
    "            if results['TMP']['AUROC'] > best_ours_AUROC:\n",
    "                best_ours_AUROC = results['TMP']['AUROC']\n",
    "                best_ours_results = results\n",
    "                best_hypers = '{}-{}'.format(k, nuu)\n",
    "                # save data for plotting\n",
    "                best_model = c_lr\n",
    "                d = {\"X_scores\": X_scores, \"Y_test\": Y_test, \"Features\": np.concatenate((test_scores, ood_scores))}\n",
    "    mtypes = ['AUROC', 'DTACC', 'AUIN', 'AUOUT']\n",
    "    for mtype in mtypes:\n",
    "        print(' {mtype:6s}'.format(mtype=mtype), end='')\n",
    "    print('\\n{val:6.2f}'.format(val=100.*best_ours_results['TMP']['AUROC']), end='')\n",
    "    print(' {val:6.2f}'.format(val=100.*best_ours_results['TMP']['DTACC']), end='')\n",
    "    print(' {val:6.2f}'.format(val=100.*best_ours_results['TMP']['AUIN']), end='')\n",
    "    print(' {val:6.2f}\\n'.format(val=100.*best_ours_results['TMP']['AUOUT']), end='')\n",
    "    print(\"best hyper %s\"%(best_hypers)) \n",
    "    print (\"saving data for plotting\")\n",
    "    with open(\"./outputs/{}_{}.pkl\".format('NTDB', label), \"wb\") as f:\n",
    "        pickle.dump(d, f)\n",
    "    print('-------------------------------')\n",
    "    \n",
    "    return d, best_model"
   ]
  },
  {
   "cell_type": "code",
   "execution_count": 11,
   "id": "1e637653-546e-40fd-93bd-c9602ebcc5c6",
   "metadata": {},
   "outputs": [],
   "source": [
    "def plot_scores(score_df, ft='X_scores'):\n",
    "    plt.hist(score_df[score_df['Y_test']==1][ft], 100, alpha=0.7, label='Out of Distribution')\n",
    "    plt.hist(score_df[score_df['Y_test']==0][ft], 100, alpha=0.7, label='In-Distribution')\n",
    "    plt.legend(loc='upper right')\n",
    "    plt.show()"
   ]
  },
  {
   "cell_type": "code",
   "execution_count": 12,
   "id": "162a892b-7c03-4a43-9b21-d81714886054",
   "metadata": {},
   "outputs": [],
   "source": [
    "def print_seq_dsc(seq):\n",
    "    cds = seq.split()\n",
    "    tp = 'START'\n",
    "    for c in cds:\n",
    "        if c == '<START>':\n",
    "            print('=' * 9 + ' START ' + '=' * 9)\n",
    "        elif c == '<DSTART>':\n",
    "            tp = 'DX'\n",
    "            print('=' * 10 + ' DXS ' + '=' * 10)\n",
    "        elif c == '<PSTART>':\n",
    "            tp = 'PR'\n",
    "            print('=' * 10 + ' PRS ' + '=' * 10)\n",
    "        elif c == '<END>':\n",
    "            print('=' * 10 + ' END ' + '=' * 10)\n",
    "        elif c == '<UNK>':\n",
    "            print(f'{c}:Unknown Code')\n",
    "        else:\n",
    "            if tp == 'DX':\n",
    "                d = search(c)\n",
    "                if d:\n",
    "                    print(d)\n",
    "            if tp == 'PR':\n",
    "                pr_cd = re.sub(r'\\.', '', c)\n",
    "                if pr_cd in icd9_pcode_dict:\n",
    "                    print(f\"{pr_cd}:{icd9_pcode_dict[pr_cd]}\")\n",
    "                else:\n",
    "                    print(f'{pr_cd}:Unknown Code')"
   ]
  },
  {
   "cell_type": "markdown",
   "id": "b95ff2e7-2b38-443c-ba76-ed8b2dccc3eb",
   "metadata": {},
   "source": [
    "# Configurations"
   ]
  },
  {
   "cell_type": "code",
   "execution_count": 13,
   "id": "62b2dfff-c404-4e7e-b5e5-5f0541f2aed4",
   "metadata": {},
   "outputs": [],
   "source": [
    "PRINT_SEQUENCES = 20\n",
    "TRN_FRAC = 0.9"
   ]
  },
  {
   "cell_type": "markdown",
   "id": "a3587570-6e01-4818-8eb8-35b2e24423ce",
   "metadata": {},
   "source": [
    "## Load Data"
   ]
  },
  {
   "cell_type": "code",
   "execution_count": 14,
   "id": "beddd712-029e-47fe-bf0f-5b1213c76389",
   "metadata": {},
   "outputs": [],
   "source": [
    "def filter_token_length(sequences, tok_len=19):\n",
    "    filtered_sequences = []\n",
    "    for seq in sequences:\n",
    "        seq_ids = NTDBGPT2_tokenizer.encode(seq, return_tensors='pt')\n",
    "        if len(seq_ids[0]) < 20:\n",
    "            filtered_sequences.append(seq)\n",
    "    return filtered_sequences"
   ]
  },
  {
   "cell_type": "code",
   "execution_count": 15,
   "id": "38c8ac3e-17d0-4870-aad4-d34d434db0b2",
   "metadata": {},
   "outputs": [],
   "source": [
    "trn_seq = np.load(\"./data/25k_train_seqs_3_22_E8859_E8120_E9660_E9654_E9240.npy\")\n",
    "\n",
    "e8120_trn_seq = filter_token_length([x for x in trn_seq if 'E812.0' in x]) # 5000 items\n",
    "e8859_trn_seq = filter_token_length([x for x in trn_seq if 'E885.9' in x]) # 5000 items\n",
    "e9660_trn_seq = filter_token_length([x for x in trn_seq if 'E966.0' in x]) # 5000 items\n",
    "e9654_trn_seq = filter_token_length([x for x in trn_seq if 'E965.4' in x]) # 5000 items\n",
    "e9240_trn_seq = filter_token_length([x for x in trn_seq if 'E924.0' in x]) # 5000 items"
   ]
  },
  {
   "cell_type": "markdown",
   "id": "d7fb0775-9467-4707-aec6-264beb9ba5fb",
   "metadata": {
    "tags": []
   },
   "source": [
    "# E812.0 vs E965.4"
   ]
  },
  {
   "cell_type": "markdown",
   "id": "50b747e2-58af-47b1-8508-21631be62461",
   "metadata": {},
   "source": [
    "#### E812.0 Common Data"
   ]
  },
  {
   "cell_type": "code",
   "execution_count": 16,
   "id": "3af4eb70-fde4-428f-b13a-e839f56b87b6",
   "metadata": {},
   "outputs": [
    {
     "name": "stderr",
     "output_type": "stream",
     "text": [
      "100%|███████████████████████████████████████████████████████████████| 13/13 [00:00<00:00, 17.58it/s]\n",
      "100%|███████████████████████████████████████████████████████████████| 13/13 [00:00<00:00, 25.36it/s]\n",
      "100%|██████████████████████████████████████████████████████████████| 13/13 [00:00<00:00, 266.51it/s]\n"
     ]
    }
   ],
   "source": [
    "e8120_trn_all_token_layer_embeddings = np.load(\"./outputs/e8120_trn_all_em.npy\", allow_pickle=True)\n",
    "e8120_trn_end_token_layer_embeddings = torch.stack([x[-1,:,:] for x in e8120_trn_all_token_layer_embeddings])\n",
    "\n",
    "e8120_trn_end_token_layer_embeddings = e8120_trn_end_token_layer_embeddings[:int(len(e8120_trn_end_token_layer_embeddings)*TRN_FRAC),:,:]\n",
    "e8120_tst_end_token_layer_embeddings = e8120_trn_end_token_layer_embeddings[int(len(e8120_trn_end_token_layer_embeddings)*TRN_FRAC):,:,:]\n",
    "\n",
    "cov_estimator1 = sklearn.covariance.EmpiricalCovariance(assume_centered=False)\n",
    "\n",
    "e8120_trn_end_token_mean, e8120_trn_end_token_inv_cov = get_empirical_mean_cov(cov_estimator1, e8120_trn_end_token_layer_embeddings)\n",
    "e8120_trn_mdf = get_mdf(torch.Tensor(e8120_trn_end_token_layer_embeddings), e8120_trn_end_token_mean, e8120_trn_end_token_inv_cov)\n",
    "e8120_tst_mdf = get_mdf(torch.Tensor(e8120_tst_end_token_layer_embeddings), e8120_trn_end_token_mean, e8120_trn_end_token_inv_cov)"
   ]
  },
  {
   "cell_type": "code",
   "execution_count": 18,
   "id": "0895134c-69c3-4329-bdc7-c9fb0d1e534a",
   "metadata": {},
   "outputs": [
    {
     "name": "stderr",
     "output_type": "stream",
     "text": [
      "100%|███████████████████████████████████████████████████████████████| 13/13 [00:00<00:00, 20.73it/s]\n"
     ]
    }
   ],
   "source": [
    "e9654_trn_all_token_layer_embeddings = np.load(\"./outputs/e9654_trn_all_em.npy\", allow_pickle=True)\n",
    "e9654_trn_end_token_layer_embeddings = torch.stack([x[-1,:,:] for x in e9654_trn_all_token_layer_embeddings])\n",
    "\n",
    "e8120_e9654_ood_mdf = get_mdf(torch.Tensor(e9654_trn_end_token_layer_embeddings), e8120_trn_end_token_mean, e8120_trn_end_token_inv_cov)"
   ]
  },
  {
   "cell_type": "code",
   "execution_count": 19,
   "id": "462edf5e-2150-480a-b30a-7045d94039ab",
   "metadata": {},
   "outputs": [
    {
     "name": "stderr",
     "output_type": "stream",
     "text": [
      "/tmp/ipykernel_257551/963709382.py:8: UserWarning: you are shuffling a 'Tensor' object which is not a subclass of 'Sequence'; `shuffle` is not guaranteed to behave correctly. E.g., non-numpy array/tensor objects with view semantics may contain duplicates after shuffling.\n",
      "  np.random.shuffle(test_mdf)\n",
      "/tmp/ipykernel_257551/963709382.py:9: UserWarning: you are shuffling a 'Tensor' object which is not a subclass of 'Sequence'; `shuffle` is not guaranteed to behave correctly. E.g., non-numpy array/tensor objects with view semantics may contain duplicates after shuffling.\n",
      "  np.random.shuffle(ood_mdf)\n",
      " 36%|███████████████████████▎                                        | 4/11 [00:00<00:00, 32.32it/s]"
     ]
    },
    {
     "name": "stdout",
     "output_type": "stream",
     "text": [
      "running ---: kernel: linear nuu: 1e-15\n",
      "running ---: kernel: linear nuu: 1e-12\n",
      "running ---: kernel: linear nuu: 1e-09\n",
      "running ---: kernel: linear nuu: 1e-07\n",
      "running ---: kernel: linear nuu: 1e-05\n",
      "running ---: kernel: linear nuu: 0.001\n",
      "running ---: kernel: linear nuu: 0.01\n"
     ]
    },
    {
     "name": "stderr",
     "output_type": "stream",
     "text": [
      " 73%|██████████████████████████████████████████████▌                 | 8/11 [00:00<00:00, 23.74it/s]"
     ]
    },
    {
     "name": "stdout",
     "output_type": "stream",
     "text": [
      "running ---: kernel: linear nuu: 0.1\n",
      "running ---: kernel: linear nuu: 0.2\n",
      "running ---: kernel: linear nuu: 0.5\n",
      "running ---: kernel: linear nuu: 1\n"
     ]
    },
    {
     "name": "stderr",
     "output_type": "stream",
     "text": [
      "/home/paul/anaconda3/envs/stemmler/lib/python3.8/site-packages/sklearn/svm/_classes.py:1661: RuntimeWarning: invalid value encountered in add\n",
      "  return self.decision_function(X) + self.offset_\n",
      "/home/paul/anaconda3/envs/stemmler/lib/python3.8/site-packages/sklearn/svm/_classes.py:1661: RuntimeWarning: invalid value encountered in add\n",
      "  return self.decision_function(X) + self.offset_\n",
      "100%|███████████████████████████████████████████████████████████████| 11/11 [00:01<00:00,  8.23it/s]"
     ]
    },
    {
     "name": "stdout",
     "output_type": "stream",
     "text": [
      " AUROC  DTACC  AUIN   AUOUT \n",
      "100.00 100.00  99.86  99.99\n",
      "best hyper linear-1e-15\n",
      "saving data for plotting\n",
      "-------------------------------\n"
     ]
    },
    {
     "name": "stderr",
     "output_type": "stream",
     "text": [
      "\n"
     ]
    }
   ],
   "source": [
    "e8120_e9654_score, e8120_e9654_det = get_score(e8120_trn_mdf, e8120_tst_mdf, e8120_e9654_ood_mdf, 'E8120_E9654_TRN')"
   ]
  },
  {
   "cell_type": "code",
   "execution_count": 20,
   "id": "8bda2161-5c0b-4c6e-9558-2efe5092ff65",
   "metadata": {},
   "outputs": [],
   "source": [
    "e8120_e9654_score_df = pd.DataFrame(e8120_e9654_score)"
   ]
  },
  {
   "cell_type": "code",
   "execution_count": 21,
   "id": "973c7c3c-c5cb-46e9-a012-a36e19c37e7d",
   "metadata": {},
   "outputs": [
    {
     "data": {
      "image/png": "[encoded data removed]",
      "text/plain": [
       "<Figure size 432x288 with 1 Axes>"
      ]
     },
     "metadata": {
      "needs_background": "light"
     },
     "output_type": "display_data"
    }
   ],
   "source": [
    "plot_scores(e8120_e9654_score_df)"
   ]
  },
  {
   "cell_type": "code",
   "execution_count": 27,
   "id": "9ea776ff-777d-4b80-887a-1125e5d83400",
   "metadata": {},
   "outputs": [],
   "source": [
    "y1 = e8120_e9654_det.score_samples(e8120_e9654_ood_mdf)"
   ]
  },
  {
   "cell_type": "code",
   "execution_count": 28,
   "id": "98882e26-4064-42d0-b2a5-8e45baa1c7b0",
   "metadata": {},
   "outputs": [],
   "source": [
    "split1 = 0.00002"
   ]
  },
  {
   "cell_type": "code",
   "execution_count": 29,
   "id": "0d69f5ee-5b86-46dc-8a99-7e7666be2a94",
   "metadata": {},
   "outputs": [],
   "source": [
    "e8120_e9654_normal = []\n",
    "for i,o in enumerate(y1):\n",
    "    if o < split1:\n",
    "        e8120_e9654_normal.append((i,o))"
   ]
  },
  {
   "cell_type": "code",
   "execution_count": 30,
   "id": "a1213ebf-a602-42b2-8e6d-59a24b89dfd4",
   "metadata": {},
   "outputs": [],
   "source": [
    "e8120_e9654_anomaly = []\n",
    "for i,o in enumerate(y1):\n",
    "    if o >= split1:\n",
    "        e8120_e9654_anomaly.append((i,o))"
   ]
  },
  {
   "cell_type": "code",
   "execution_count": 31,
   "id": "8c27b60d-65eb-4ed8-a633-2b3ae1f57864",
   "metadata": {},
   "outputs": [
    {
     "name": "stdout",
     "output_type": "stream",
     "text": [
      "Normal: 0 Anomaly: 4206\n"
     ]
    }
   ],
   "source": [
    "print('Normal:', len(e8120_e9654_normal), 'Anomaly:', len(e8120_e9654_anomaly))"
   ]
  },
  {
   "cell_type": "markdown",
   "id": "85679938-43cc-426b-aca6-d8ceba98d8b7",
   "metadata": {
    "tags": []
   },
   "source": [
    "# E812.0 vs E924.0"
   ]
  },
  {
   "cell_type": "code",
   "execution_count": 35,
   "id": "f8b07323-82c5-46ea-93de-d6f28722110f",
   "metadata": {},
   "outputs": [
    {
     "name": "stderr",
     "output_type": "stream",
     "text": [
      "100%|███████████████████████████████████████████████████████████████| 13/13 [00:00<00:00, 14.64it/s]\n"
     ]
    }
   ],
   "source": [
    "e9240_trn_all_token_layer_embeddings = np.load(\"./outputs/e9240_trn_all_em.npy\", allow_pickle=True)\n",
    "e9240_trn_end_token_layer_embeddings = torch.stack([x[-1,:,:] for x in e9240_trn_all_token_layer_embeddings])\n",
    "\n",
    "e8120_e9240_ood_mdf = get_mdf(torch.Tensor(e9240_trn_end_token_layer_embeddings), e8120_trn_end_token_mean, e8120_trn_end_token_inv_cov)"
   ]
  },
  {
   "cell_type": "code",
   "execution_count": 36,
   "id": "5eb70658-425a-4985-ba10-f65997bb4fbe",
   "metadata": {},
   "outputs": [
    {
     "name": "stderr",
     "output_type": "stream",
     "text": [
      "/tmp/ipykernel_257551/963709382.py:8: UserWarning: you are shuffling a 'Tensor' object which is not a subclass of 'Sequence'; `shuffle` is not guaranteed to behave correctly. E.g., non-numpy array/tensor objects with view semantics may contain duplicates after shuffling.\n",
      "  np.random.shuffle(test_mdf)\n",
      "/tmp/ipykernel_257551/963709382.py:9: UserWarning: you are shuffling a 'Tensor' object which is not a subclass of 'Sequence'; `shuffle` is not guaranteed to behave correctly. E.g., non-numpy array/tensor objects with view semantics may contain duplicates after shuffling.\n",
      "  np.random.shuffle(ood_mdf)\n",
      " 27%|█████████████████▍                                              | 3/11 [00:00<00:00, 28.48it/s]"
     ]
    },
    {
     "name": "stdout",
     "output_type": "stream",
     "text": [
      "running ---: kernel: linear nuu: 1e-15\n",
      "running ---: kernel: linear nuu: 1e-12\n",
      "running ---: kernel: linear nuu: 1e-09\n",
      "running ---: kernel: linear nuu: 1e-07\n",
      "running ---: kernel: linear nuu: 1e-05\n",
      "running ---: kernel: linear nuu: 0.001\n"
     ]
    },
    {
     "name": "stderr",
     "output_type": "stream",
     "text": [
      " 55%|██████████████████████████████████▉                             | 6/11 [00:00<00:00, 28.60it/s]"
     ]
    },
    {
     "name": "stdout",
     "output_type": "stream",
     "text": [
      "running ---: kernel: linear nuu: 0.01\n",
      "running ---: kernel: linear nuu: 0.1\n",
      "running ---: kernel: linear nuu: 0.2\n"
     ]
    },
    {
     "name": "stderr",
     "output_type": "stream",
     "text": [
      " 82%|████████████████████████████████████████████████████▎           | 9/11 [00:00<00:00, 14.30it/s]"
     ]
    },
    {
     "name": "stdout",
     "output_type": "stream",
     "text": [
      "running ---: kernel: linear nuu: 0.5\n",
      "running ---: kernel: linear nuu: 1\n"
     ]
    },
    {
     "name": "stderr",
     "output_type": "stream",
     "text": [
      "/home/paul/anaconda3/envs/stemmler/lib/python3.8/site-packages/sklearn/svm/_classes.py:1661: RuntimeWarning: invalid value encountered in add\n",
      "  return self.decision_function(X) + self.offset_\n",
      "/home/paul/anaconda3/envs/stemmler/lib/python3.8/site-packages/sklearn/svm/_classes.py:1661: RuntimeWarning: invalid value encountered in add\n",
      "  return self.decision_function(X) + self.offset_\n",
      "100%|███████████████████████████████████████████████████████████████| 11/11 [00:01<00:00,  7.54it/s]"
     ]
    },
    {
     "name": "stdout",
     "output_type": "stream",
     "text": [
      " AUROC  DTACC  AUIN   AUOUT \n",
      "100.00 100.00  99.86  99.99\n",
      "best hyper linear-1e-15\n",
      "saving data for plotting\n",
      "-------------------------------\n"
     ]
    },
    {
     "name": "stderr",
     "output_type": "stream",
     "text": [
      "\n"
     ]
    }
   ],
   "source": [
    "e8120_e9240_score, e8120_e9240_det = get_score(e8120_trn_mdf, e8120_tst_mdf, e8120_e9240_ood_mdf, 'E8120_E9240_TRN')"
   ]
  },
  {
   "cell_type": "code",
   "execution_count": 37,
   "id": "20ade54e-2ca7-4f67-8727-e6978d38f441",
   "metadata": {},
   "outputs": [],
   "source": [
    "e8120_e9240_score_df = pd.DataFrame(e8120_e9240_score)"
   ]
  },
  {
   "cell_type": "code",
   "execution_count": 38,
   "id": "66581cb4-ec8b-4026-9a15-ecb27e7b544c",
   "metadata": {},
   "outputs": [
    {
     "data": {
      "image/png": "[encoded data removed]",
      "text/plain": [
       "<Figure size 432x288 with 1 Axes>"
      ]
     },
     "metadata": {
      "needs_background": "light"
     },
     "output_type": "display_data"
    }
   ],
   "source": [
    "plot_scores(e8120_e9240_score_df)"
   ]
  },
  {
   "cell_type": "code",
   "execution_count": 42,
   "id": "d74d8262-ba42-4fbc-b107-ba1bf75a1130",
   "metadata": {},
   "outputs": [],
   "source": [
    "y2 = e8120_e9240_det.score_samples(e8120_e9240_ood_mdf)"
   ]
  },
  {
   "cell_type": "code",
   "execution_count": 43,
   "id": "b5256d6c-90e7-4138-8168-8d97e086d4a9",
   "metadata": {},
   "outputs": [],
   "source": [
    "split2 = 0.00002"
   ]
  },
  {
   "cell_type": "code",
   "execution_count": 44,
   "id": "4209bb10-fc3a-4e53-93d3-14b01885c540",
   "metadata": {},
   "outputs": [],
   "source": [
    "e8120_e9240_normal = []\n",
    "for i,o in enumerate(y2):\n",
    "    if o < split2:\n",
    "        e8120_e9240_normal.append((i,o))"
   ]
  },
  {
   "cell_type": "code",
   "execution_count": 45,
   "id": "7a02dfa3-5d78-4ed8-b74e-363e58a43376",
   "metadata": {},
   "outputs": [],
   "source": [
    "e8120_e9240_anomaly = []\n",
    "for i,o in enumerate(y2):\n",
    "    if o >= split2:\n",
    "        e8120_e9240_anomaly.append((i,o))"
   ]
  },
  {
   "cell_type": "code",
   "execution_count": 46,
   "id": "b746c38f-9869-4034-892f-5024402611e1",
   "metadata": {},
   "outputs": [
    {
     "name": "stdout",
     "output_type": "stream",
     "text": [
      "Normal: 0 Anomaly: 4889\n"
     ]
    }
   ],
   "source": [
    "print('Normal:', len(e8120_e9240_normal), 'Anomaly:', len(e8120_e9240_anomaly))"
   ]
  },
  {
   "cell_type": "code",
   "execution_count": null,
   "id": "018d7299-cfaf-4663-b0c3-c75efef689e3",
   "metadata": {},
   "outputs": [],
   "source": []
  },
  {
   "cell_type": "markdown",
   "id": "f189c4d0-498c-4e91-b1f4-243bc6b910e3",
   "metadata": {
    "tags": []
   },
   "source": [
    "# E965.4 vs E924.0"
   ]
  },
  {
   "cell_type": "markdown",
   "id": "b692a8dc-8d47-4c2f-a491-ff888467db5f",
   "metadata": {},
   "source": [
    "#### E965.4 Common Data"
   ]
  },
  {
   "cell_type": "code",
   "execution_count": 47,
   "id": "f4597b83-92a5-403e-a0b4-d652265c2140",
   "metadata": {},
   "outputs": [
    {
     "name": "stderr",
     "output_type": "stream",
     "text": [
      "100%|███████████████████████████████████████████████████████████████| 13/13 [00:00<00:00, 15.18it/s]\n",
      "100%|███████████████████████████████████████████████████████████████| 13/13 [00:00<00:00, 19.45it/s]\n",
      "100%|██████████████████████████████████████████████████████████████| 13/13 [00:00<00:00, 386.81it/s]\n"
     ]
    }
   ],
   "source": [
    "e9654_trn_all_token_layer_embeddings = np.load(\"./outputs/e9654_trn_all_em.npy\", allow_pickle=True)\n",
    "e9654_trn_end_token_layer_embeddings = torch.stack([x[-1,:,:] for x in e9654_trn_all_token_layer_embeddings])\n",
    "\n",
    "e9654_trn_end_token_layer_embeddings = e9654_trn_end_token_layer_embeddings[:int(len(e9654_trn_end_token_layer_embeddings)*TRN_FRAC),:,:]\n",
    "e9654_tst_end_token_layer_embeddings = e9654_trn_end_token_layer_embeddings[int(len(e9654_trn_end_token_layer_embeddings)*TRN_FRAC):,:,:]\n",
    "\n",
    "cov_estimator1 = sklearn.covariance.EmpiricalCovariance(assume_centered=False)\n",
    "\n",
    "e9654_trn_end_token_mean, e9654_trn_end_token_inv_cov = get_empirical_mean_cov(cov_estimator1, e9654_trn_end_token_layer_embeddings)\n",
    "e9654_trn_mdf = get_mdf(torch.Tensor(e9654_trn_end_token_layer_embeddings), e9654_trn_end_token_mean, e9654_trn_end_token_inv_cov)\n",
    "e9654_tst_mdf = get_mdf(torch.Tensor(e9654_tst_end_token_layer_embeddings), e9654_trn_end_token_mean, e9654_trn_end_token_inv_cov)"
   ]
  },
  {
   "cell_type": "code",
   "execution_count": 48,
   "id": "45a8716b-8ba8-4290-b08f-7fb8c1a46f59",
   "metadata": {},
   "outputs": [
    {
     "name": "stderr",
     "output_type": "stream",
     "text": [
      "100%|███████████████████████████████████████████████████████████████| 13/13 [00:00<00:00, 16.68it/s]\n"
     ]
    }
   ],
   "source": [
    "e9240_trn_all_token_layer_embeddings = np.load(\"./outputs/e9240_trn_all_em.npy\", allow_pickle=True)\n",
    "e9240_trn_end_token_layer_embeddings = torch.stack([x[-1,:,:] for x in e9240_trn_all_token_layer_embeddings])\n",
    "\n",
    "e9654_e9240_ood_mdf = get_mdf(torch.Tensor(e9240_trn_end_token_layer_embeddings), e9654_trn_end_token_mean, e9654_trn_end_token_inv_cov)"
   ]
  },
  {
   "cell_type": "code",
   "execution_count": 49,
   "id": "ce38f8a8-b768-4d02-bd5c-6f60bb47b12c",
   "metadata": {},
   "outputs": [
    {
     "name": "stderr",
     "output_type": "stream",
     "text": [
      "/tmp/ipykernel_257551/963709382.py:8: UserWarning: you are shuffling a 'Tensor' object which is not a subclass of 'Sequence'; `shuffle` is not guaranteed to behave correctly. E.g., non-numpy array/tensor objects with view semantics may contain duplicates after shuffling.\n",
      "  np.random.shuffle(test_mdf)\n",
      "/tmp/ipykernel_257551/963709382.py:9: UserWarning: you are shuffling a 'Tensor' object which is not a subclass of 'Sequence'; `shuffle` is not guaranteed to behave correctly. E.g., non-numpy array/tensor objects with view semantics may contain duplicates after shuffling.\n",
      "  np.random.shuffle(ood_mdf)\n",
      " 27%|█████████████████▍                                              | 3/11 [00:00<00:00, 28.20it/s]"
     ]
    },
    {
     "name": "stdout",
     "output_type": "stream",
     "text": [
      "running ---: kernel: linear nuu: 1e-15\n",
      "running ---: kernel: linear nuu: 1e-12\n",
      "running ---: kernel: linear nuu: 1e-09\n",
      "running ---: kernel: linear nuu: 1e-07\n",
      "running ---: kernel: linear nuu: 1e-05\n",
      "running ---: kernel: linear nuu: 0.001\n"
     ]
    },
    {
     "name": "stderr",
     "output_type": "stream",
     "text": [
      " 55%|██████████████████████████████████▉                             | 6/11 [00:00<00:00, 28.62it/s]"
     ]
    },
    {
     "name": "stdout",
     "output_type": "stream",
     "text": [
      "running ---: kernel: linear nuu: 0.01\n",
      "running ---: kernel: linear nuu: 0.1\n",
      "running ---: kernel: linear nuu: 0.2\n"
     ]
    },
    {
     "name": "stderr",
     "output_type": "stream",
     "text": [
      " 82%|████████████████████████████████████████████████████▎           | 9/11 [00:00<00:00, 13.57it/s]"
     ]
    },
    {
     "name": "stdout",
     "output_type": "stream",
     "text": [
      "running ---: kernel: linear nuu: 0.5\n",
      "running ---: kernel: linear nuu: 1\n"
     ]
    },
    {
     "name": "stderr",
     "output_type": "stream",
     "text": [
      "/home/paul/anaconda3/envs/stemmler/lib/python3.8/site-packages/sklearn/svm/_classes.py:1661: RuntimeWarning: invalid value encountered in add\n",
      "  return self.decision_function(X) + self.offset_\n",
      "/home/paul/anaconda3/envs/stemmler/lib/python3.8/site-packages/sklearn/svm/_classes.py:1661: RuntimeWarning: invalid value encountered in add\n",
      "  return self.decision_function(X) + self.offset_\n",
      "100%|███████████████████████████████████████████████████████████████| 11/11 [00:01<00:00,  7.03it/s]"
     ]
    },
    {
     "name": "stdout",
     "output_type": "stream",
     "text": [
      " AUROC  DTACC  AUIN   AUOUT \n",
      "100.00 100.00  99.87  99.99\n",
      "best hyper linear-1e-15\n",
      "saving data for plotting\n",
      "-------------------------------\n"
     ]
    },
    {
     "name": "stderr",
     "output_type": "stream",
     "text": [
      "\n"
     ]
    }
   ],
   "source": [
    "e9654_e9240_score, e9654_e9240_det = get_score(e9654_trn_mdf, e9654_tst_mdf, e9654_e9240_ood_mdf, 'E9654_E9240_TRN')"
   ]
  },
  {
   "cell_type": "code",
   "execution_count": 50,
   "id": "c540f306-a837-4eab-9f18-aa271a9f136c",
   "metadata": {},
   "outputs": [],
   "source": [
    "e9654_e9240_score_df = pd.DataFrame(e9654_e9240_score)"
   ]
  },
  {
   "cell_type": "code",
   "execution_count": 51,
   "id": "912a8e00-a341-4392-b502-9386fdd1a06a",
   "metadata": {},
   "outputs": [
    {
     "data": {
      "image/png": "[encoded data removed]",
      "text/plain": [
       "<Figure size 432x288 with 1 Axes>"
      ]
     },
     "metadata": {
      "needs_background": "light"
     },
     "output_type": "display_data"
    }
   ],
   "source": [
    "plot_scores(e9654_e9240_score_df)"
   ]
  },
  {
   "cell_type": "code",
   "execution_count": 53,
   "id": "7b122c2e-93f2-470a-a3d4-704a96cb4041",
   "metadata": {},
   "outputs": [],
   "source": [
    "y3 = e9654_e9240_det.score_samples(e9654_e9240_ood_mdf)"
   ]
  },
  {
   "cell_type": "code",
   "execution_count": 52,
   "id": "4082141b-a3de-470c-9613-793620b3c379",
   "metadata": {},
   "outputs": [],
   "source": [
    "split3 = 1."
   ]
  },
  {
   "cell_type": "code",
   "execution_count": 54,
   "id": "477559dc-6108-48a5-9e44-7e5419bc31de",
   "metadata": {},
   "outputs": [],
   "source": [
    "e9654_e9240_normal = []\n",
    "for i,o in enumerate(y3):\n",
    "    if o < split3:\n",
    "        e9654_e9240_normal.append((i,o))"
   ]
  },
  {
   "cell_type": "code",
   "execution_count": 55,
   "id": "10d711c9-7e7a-4475-8d45-28dfbd2d977d",
   "metadata": {},
   "outputs": [],
   "source": [
    "e9654_e9240_anomaly = []\n",
    "for i,o in enumerate(y3):\n",
    "    if o >= split3:\n",
    "        e9654_e9240_anomaly.append((i,o))"
   ]
  },
  {
   "cell_type": "code",
   "execution_count": 56,
   "id": "f6698487-0cc5-41b4-ade8-2092d029acf6",
   "metadata": {},
   "outputs": [
    {
     "name": "stdout",
     "output_type": "stream",
     "text": [
      "Normal: 4889 Anomaly: 0\n"
     ]
    }
   ],
   "source": [
    "print('Normal:', len(e9654_e9240_normal), 'Anomaly:', len(e9654_e9240_anomaly))"
   ]
  },
  {
   "cell_type": "code",
   "execution_count": null,
   "id": "f0f88c1d-5913-40b0-9558-5d45d5b1277e",
   "metadata": {},
   "outputs": [],
   "source": []
  }
 ],
 "metadata": {
  "kernelspec": {
   "display_name": "Python 3 (ipykernel)",
   "language": "python",
   "name": "python3"
  },
  "language_info": {
   "codemirror_mode": {
    "name": "ipython",
    "version": 3
   },
   "file_extension": ".py",
   "mimetype": "text/x-python",
   "name": "python",
   "nbconvert_exporter": "python",
   "pygments_lexer": "ipython3",
   "version": "3.8.12"
  }
 },
 "nbformat": 4,
 "nbformat_minor": 5
}
