{
 "cells": [
  {
   "cell_type": "code",
   "execution_count": 1,
   "id": "d6ace74a-f6f3-4529-b9d1-bfe196e9db0a",
   "metadata": {},
   "outputs": [
    {
     "name": "stderr",
     "output_type": "stream",
     "text": [
      "/home/paul/anaconda3/envs/stemmler/lib/python3.8/site-packages/tqdm/auto.py:22: TqdmWarning: IProgress not found. Please update jupyter and ipywidgets. See https://ipywidgets.readthedocs.io/en/stable/user_install.html\n",
      "  from .autonotebook import tqdm as notebook_tqdm\n"
     ]
    }
   ],
   "source": [
    "import os\n",
    "import pickle\n",
    "\n",
    "import numpy as np\n",
    "import pandas as pd\n",
    "import tqdm\n",
    "\n",
    "import torch \n",
    "\n",
    "import sklearn\n",
    "import sklearn.covariance\n",
    "from sklearn import svm\n",
    "\n",
    "import matplotlib.pyplot as plt"
   ]
  },
  {
   "cell_type": "code",
   "execution_count": 2,
   "id": "3ffc5311-558e-496d-aee4-3ae9fadb15cb",
   "metadata": {},
   "outputs": [],
   "source": [
    "import re"
   ]
  },
  {
   "cell_type": "code",
   "execution_count": 3,
   "id": "0b9ae9e0-29ab-412a-976a-81b43a7ce7b1",
   "metadata": {},
   "outputs": [],
   "source": [
    "from icd9cms.icd9 import search\n",
    "\n",
    "with open(\"./data/pcode_dict.txt\", \"rb\") as fp: \n",
    "    icd9_pcode_dict = pickle.load(fp)"
   ]
  },
  {
   "cell_type": "code",
   "execution_count": 4,
   "id": "a55360d7-bd07-4071-abd6-823f9b2b5e96",
   "metadata": {},
   "outputs": [],
   "source": [
    "from transformers import AutoTokenizer\n",
    "NTDBGPT2_tokenizer = AutoTokenizer.from_pretrained('dracoglacius/NTDB-GPT2')"
   ]
  },
  {
   "cell_type": "markdown",
   "id": "0753465d-87c6-47b5-b5d0-bde4b4ef8de6",
   "metadata": {
    "tags": []
   },
   "source": [
    "## Overview\n",
    "\n",
    "We have the intuition that given a distribution with center of the hyper-elliposid $c$ and the shape of the ellipsoid defined by $\\Sigma$, $c$ and $\\sigma$ should not deviate from the empirical mean ($\\hat{c}$) and the covariance estimations ($\\hat{\\Sigma}$) taken from the training data. \n",
    "\n",
    "To obtain these estimates we need to:\n",
    "\n",
    "1. Feed the NTDB model with the training data (length $n$) and from the last token get the features of each layer ($n$ x 13 x 768)\n",
    "1. Calculate the sample mean ($\\hat{c}$) and the covariance estimate ($\\hat{\\Sigma}$), while also getting the estimated pseudo-inverse (called `.precision_` in sklearn)\n",
    "\n",
    "To obtain the OOD estimation we need to:\n",
    "\n",
    "1. Calculate the Mahalanobis Distance Feature (MDF) using the generated data (should be a vector equal to the number of layers)\n",
    "1. Calculate the Anomaly Score\n",
    "  1. This is a one-class SVM with a linear kernel with MDF as features"
   ]
  },
  {
   "cell_type": "markdown",
   "id": "b3e05a44-c2ff-4439-96e0-3183998dffe6",
   "metadata": {
    "tags": []
   },
   "source": [
    "## Helper Functions"
   ]
  },
  {
   "cell_type": "code",
   "execution_count": 5,
   "id": "c6198917-68b4-4d41-83ad-6c664d0e27b6",
   "metadata": {},
   "outputs": [],
   "source": [
    "def metric(dir_name, stypes = ['Bas', 'Gau'], verbose=False):\n",
    "    tp, fp, tnr_at_tpr95 = get_curve(dir_name, stypes)\n",
    "    results = dict()\n",
    "    mtypes = ['TNR', 'AUROC', 'DTACC', 'AUIN', 'AUOUT']\n",
    "    if verbose:\n",
    "        print('      ', end='')\n",
    "        for mtype in mtypes:\n",
    "            print(' {mtype:6s}'.format(mtype=mtype), end='')\n",
    "        print('')\n",
    "        \n",
    "    for stype in stypes:\n",
    "        if verbose:\n",
    "            print('{stype:5s} '.format(stype=stype), end='')\n",
    "        results[stype] = dict()\n",
    "        \n",
    "        # TNR\n",
    "        mtype = 'TNR'\n",
    "        results[stype][mtype] = tnr_at_tpr95[stype]\n",
    "        if verbose:\n",
    "            print(' {val:6.3f}'.format(val=100.*results[stype][mtype]), end='')\n",
    "        \n",
    "        # AUROC\n",
    "        mtype = 'AUROC'\n",
    "        tpr = np.concatenate([[1.], tp[stype]/tp[stype][0], [0.]])\n",
    "        fpr = np.concatenate([[1.], fp[stype]/fp[stype][0], [0.]])\n",
    "        results[stype][mtype] = -np.trapz(1.-fpr, tpr)\n",
    "        if verbose:\n",
    "            print(' {val:6.3f}'.format(val=100.*results[stype][mtype]), end='')\n",
    "        \n",
    "        # DTACC\n",
    "        mtype = 'DTACC'\n",
    "        results[stype][mtype] = .5 * (tp[stype]/tp[stype][0] + 1.-fp[stype]/fp[stype][0]).max()\n",
    "        if verbose:\n",
    "            print(' {val:6.3f}'.format(val=100.*results[stype][mtype]), end='')\n",
    "        \n",
    "        # AUIN\n",
    "        mtype = 'AUIN'\n",
    "        denom = tp[stype]+fp[stype]\n",
    "        denom[denom == 0.] = -1.\n",
    "        pin_ind = np.concatenate([[True], denom > 0., [True]])\n",
    "        pin = np.concatenate([[.5], tp[stype]/denom, [0.]])\n",
    "        results[stype][mtype] = -np.trapz(pin[pin_ind], tpr[pin_ind])\n",
    "        if verbose:\n",
    "            print(' {val:6.3f}'.format(val=100.*results[stype][mtype]), end='')\n",
    "        \n",
    "        # AUOUT\n",
    "        mtype = 'AUOUT'\n",
    "        denom = tp[stype][0]-tp[stype]+fp[stype][0]-fp[stype]\n",
    "        denom[denom == 0.] = -1.\n",
    "        pout_ind = np.concatenate([[True], denom > 0., [True]])\n",
    "        pout = np.concatenate([[0.], (fp[stype][0]-fp[stype])/denom, [.5]])\n",
    "        results[stype][mtype] = np.trapz(pout[pout_ind], 1.-fpr[pout_ind])\n",
    "        if verbose:\n",
    "            print(' {val:6.3f}'.format(val=100.*results[stype][mtype]), end='')\n",
    "            print('')\n",
    "    return results"
   ]
  },
  {
   "cell_type": "code",
   "execution_count": 6,
   "id": "df8b5bb4-93db-465d-89fd-1587f3f3dac0",
   "metadata": {},
   "outputs": [],
   "source": [
    "def get_curve(dir_name, stypes = ['Baseline', 'Gaussian_LDA']):\n",
    "    tp, fp = dict(), dict()\n",
    "    tnr_at_tpr95 = dict()\n",
    "    for stype in stypes:\n",
    "        known = np.loadtxt('{}/confidence_{}_In.txt'.format(dir_name, stype), delimiter='\\n')\n",
    "        novel = np.loadtxt('{}/confidence_{}_Out.txt'.format(dir_name, stype), delimiter='\\n')\n",
    "        known.sort()\n",
    "        novel.sort()\n",
    "        end = np.max([np.max(known), np.max(novel)])\n",
    "        start = np.min([np.min(known),np.min(novel)])\n",
    "        num_k = known.shape[0]\n",
    "        num_n = novel.shape[0]\n",
    "        tp[stype] = -np.ones([num_k+num_n+1], dtype=int)\n",
    "        fp[stype] = -np.ones([num_k+num_n+1], dtype=int)\n",
    "        tp[stype][0], fp[stype][0] = num_k, num_n\n",
    "        k, n = 0, 0\n",
    "        for l in range(num_k+num_n):\n",
    "            if k == num_k:\n",
    "                tp[stype][l+1:] = tp[stype][l]\n",
    "                fp[stype][l+1:] = np.arange(fp[stype][l]-1, -1, -1)\n",
    "                break\n",
    "            elif n == num_n:\n",
    "                tp[stype][l+1:] = np.arange(tp[stype][l]-1, -1, -1)\n",
    "                fp[stype][l+1:] = fp[stype][l]\n",
    "                break\n",
    "            else:\n",
    "                if novel[n] < known[k]:\n",
    "                    n += 1\n",
    "                    tp[stype][l+1] = tp[stype][l]\n",
    "                    fp[stype][l+1] = fp[stype][l] - 1\n",
    "                else:\n",
    "                    k += 1\n",
    "                    tp[stype][l+1] = tp[stype][l] - 1\n",
    "                    fp[stype][l+1] = fp[stype][l]\n",
    "        tpr95_pos = np.abs(tp[stype] / num_k - .95).argmin()\n",
    "        tnr_at_tpr95[stype] = 1. - fp[stype][tpr95_pos] / num_n\n",
    "    return tp, fp, tnr_at_tpr95"
   ]
  },
  {
   "cell_type": "code",
   "execution_count": 7,
   "id": "afa5f568-13a1-4a5d-a775-3ad5476a6a22",
   "metadata": {},
   "outputs": [],
   "source": [
    "def detection_performance(scores, Y, outf, tag='TMP'):\n",
    "    \"\"\"\n",
    "    Measure the detection performance\n",
    "    return: detection metrics\n",
    "    \"\"\"\n",
    "    os.makedirs(outf, exist_ok=True)\n",
    "    num_samples = scores.shape[0]\n",
    "    l1 = open('%s/confidence_%s_In.txt'%(outf, tag), 'w')\n",
    "    l2 = open('%s/confidence_%s_Out.txt'%(outf, tag), 'w')\n",
    "    y_pred = scores # regressor.predict_proba(X)[:, 1]\n",
    "\n",
    "    for i in range(num_samples):\n",
    "        if Y[i] == 0:\n",
    "            l1.write(\"{}\\n\".format(-y_pred[i]))\n",
    "        else:\n",
    "            l2.write(\"{}\\n\".format(-y_pred[i]))\n",
    "    l1.close()\n",
    "    l2.close()\n",
    "    results = metric(outf, [tag])\n",
    "    return results"
   ]
  },
  {
   "cell_type": "markdown",
   "id": "6b770e1d-3678-41a3-b37b-bb953913f9ec",
   "metadata": {
    "tags": []
   },
   "source": [
    "## MDF Functions"
   ]
  },
  {
   "cell_type": "code",
   "execution_count": 8,
   "id": "6b0be5b4-36f0-40a9-8ef9-b45561763cb6",
   "metadata": {},
   "outputs": [],
   "source": [
    "def get_empirical_mean_cov(cov_estimator, layer_embeddings, num_layers=13):\n",
    "    mean_list = []\n",
    "    precision_list = []\n",
    "\n",
    "    for l in tqdm.tqdm(range(num_layers)):\n",
    "        sample_mean = torch.mean(layer_embeddings[:,l,:], axis=0)\n",
    "        X = layer_embeddings[:,l,:] - sample_mean\n",
    "        cov_estimator.fit(X.numpy())\n",
    "        temp_precision = cov_estimator.precision_\n",
    "        temp_precision = torch.from_numpy(temp_precision).float()\n",
    "        mean_list.append(sample_mean)#.to(device))\n",
    "        precision_list.append(temp_precision)#.to(device))\n",
    "    return mean_list, precision_list"
   ]
  },
  {
   "cell_type": "code",
   "execution_count": 9,
   "id": "58c706f5-536f-4f99-9128-6b79a99063e1",
   "metadata": {},
   "outputs": [],
   "source": [
    "def get_mdf(test_layer_embeddings, layer_mean, layer_precision, num_layers=13):\n",
    "    mdf_list = []\n",
    "    \n",
    "    for l in tqdm.tqdm(range(num_layers)):\n",
    "        zero_f = test_layer_embeddings[:,l,:] - layer_mean[l]\n",
    "        gaussian_score = -0.5 * ((zero_f @ layer_precision[l]) @ zero_f.t()).diag()\n",
    "        mdf_list.append(gaussian_score)\n",
    "    \n",
    "    return torch.stack(mdf_list).transpose(1,0)"
   ]
  },
  {
   "cell_type": "code",
   "execution_count": 10,
   "id": "8bc6a0fe-7f67-4994-85e1-0f4480a63690",
   "metadata": {},
   "outputs": [],
   "source": [
    "def get_score(trn_mdf, test_mdf, ood_mdf, label):\n",
    "    \n",
    "    candidate_list = [1e-15, 1e-12, 1e-9, 1e-7, 1e-5, 1e-3, 0.01, 0.1, 0.2, 0.5, 1]\n",
    "\n",
    "    ood_labels = np.ones(shape=(ood_mdf.shape[0], ))\n",
    "    test_labels = np.zeros(shape=(test_mdf.shape[0], ))\n",
    "\n",
    "    np.random.shuffle(test_mdf)\n",
    "    np.random.shuffle(ood_mdf)\n",
    "    best_ours_results = None\n",
    "    best_ours_AUROC = 0.0\n",
    "    best_model = None\n",
    "    # for k in ['poly', 'linear']:\n",
    "    for k in ['linear']:\n",
    "        for nuu in tqdm.tqdm(candidate_list):\n",
    "            print (\"running ---:\", \"kernel:\", k, \"nuu:\", nuu)\n",
    "            \n",
    "            c_lr = svm.OneClassSVM(nu=nuu, kernel=k, degree=2, tol=1e-5)\n",
    "            #c_lr = sklearn.linear_model.SGDOneClassSVM(nu=nuu, random_state=42)\n",
    "            c_lr.fit(trn_mdf)\n",
    "            \n",
    "            test_scores = c_lr.score_samples(test_mdf)\n",
    "            ood_scores = c_lr.score_samples(ood_mdf)\n",
    "            X_scores = np.concatenate((ood_scores, test_scores))\n",
    "            Y_test = np.concatenate((ood_labels, test_labels))\n",
    "\n",
    "            results = detection_performance(X_scores, Y_test, 'mah_logs', tag='TMP')\n",
    "            neg_resuls = detection_performance(-X_scores, Y_test, 'feats_logs', tag='TMP')\n",
    "            if sum(results[\"TMP\"].values()) < sum(neg_resuls[\"TMP\"].values()):\n",
    "                results = neg_resuls\n",
    "\n",
    "            if results['TMP']['AUROC'] > best_ours_AUROC:\n",
    "                best_ours_AUROC = results['TMP']['AUROC']\n",
    "                best_ours_results = results\n",
    "                best_hypers = '{}-{}'.format(k, nuu)\n",
    "                # save data for plotting\n",
    "                best_model = c_lr\n",
    "                d = {\"X_scores\": X_scores, \"Y_test\": Y_test, \"Features\": np.concatenate((test_scores, ood_scores))}\n",
    "    mtypes = ['AUROC', 'DTACC', 'AUIN', 'AUOUT']\n",
    "    for mtype in mtypes:\n",
    "        print(' {mtype:6s}'.format(mtype=mtype), end='')\n",
    "    print('\\n{val:6.2f}'.format(val=100.*best_ours_results['TMP']['AUROC']), end='')\n",
    "    print(' {val:6.2f}'.format(val=100.*best_ours_results['TMP']['DTACC']), end='')\n",
    "    print(' {val:6.2f}'.format(val=100.*best_ours_results['TMP']['AUIN']), end='')\n",
    "    print(' {val:6.2f}\\n'.format(val=100.*best_ours_results['TMP']['AUOUT']), end='')\n",
    "    print(\"best hyper %s\"%(best_hypers)) \n",
    "    print (\"saving data for plotting\")\n",
    "    with open(\"./outputs/{}_{}.pkl\".format('NTDB', label), \"wb\") as f:\n",
    "        pickle.dump(d, f)\n",
    "    print('-------------------------------')\n",
    "    \n",
    "    return d, best_model"
   ]
  },
  {
   "cell_type": "code",
   "execution_count": 11,
   "id": "1e637653-546e-40fd-93bd-c9602ebcc5c6",
   "metadata": {},
   "outputs": [],
   "source": [
    "def plot_scores(score_df, ft='X_scores'):\n",
    "    plt.hist(score_df[score_df['Y_test']==1][ft], 100, alpha=0.7, label='Out of Distribution')\n",
    "    plt.hist(score_df[score_df['Y_test']==0][ft], 100, alpha=0.7, label='In-Distribution')\n",
    "    plt.legend(loc='upper right')\n",
    "    plt.show()"
   ]
  },
  {
   "cell_type": "code",
   "execution_count": 12,
   "id": "162a892b-7c03-4a43-9b21-d81714886054",
   "metadata": {},
   "outputs": [],
   "source": [
    "def print_seq_dsc(seq):\n",
    "    cds = seq.split()\n",
    "    tp = 'START'\n",
    "    for c in cds:\n",
    "        if c == '<START>':\n",
    "            print('=' * 9 + ' START ' + '=' * 9)\n",
    "        elif c == '<DSTART>':\n",
    "            tp = 'DX'\n",
    "            print('=' * 10 + ' DXS ' + '=' * 10)\n",
    "        elif c == '<PSTART>':\n",
    "            tp = 'PR'\n",
    "            print('=' * 10 + ' PRS ' + '=' * 10)\n",
    "        elif c == '<END>':\n",
    "            print('=' * 10 + ' END ' + '=' * 10)\n",
    "        elif c == '<UNK>':\n",
    "            print(f'{c}:Unknown Code')\n",
    "        else:\n",
    "            if tp == 'DX':\n",
    "                d = search(c)\n",
    "                if d:\n",
    "                    print(d)\n",
    "            if tp == 'PR':\n",
    "                pr_cd = re.sub(r'\\.', '', c)\n",
    "                if pr_cd in icd9_pcode_dict:\n",
    "                    print(f\"{pr_cd}:{icd9_pcode_dict[pr_cd]}\")\n",
    "                else:\n",
    "                    print(f'{pr_cd}:Unknown Code')"
   ]
  },
  {
   "cell_type": "markdown",
   "id": "b95ff2e7-2b38-443c-ba76-ed8b2dccc3eb",
   "metadata": {},
   "source": [
    "# Configurations"
   ]
  },
  {
   "cell_type": "code",
   "execution_count": 13,
   "id": "62b2dfff-c404-4e7e-b5e5-5f0541f2aed4",
   "metadata": {},
   "outputs": [],
   "source": [
    "PRINT_SEQUENCES = 20\n",
    "TRN_FRAC = 0.9"
   ]
  },
  {
   "cell_type": "markdown",
   "id": "a3587570-6e01-4818-8eb8-35b2e24423ce",
   "metadata": {},
   "source": [
    "## Load Data"
   ]
  },
  {
   "cell_type": "code",
   "execution_count": 14,
   "id": "beddd712-029e-47fe-bf0f-5b1213c76389",
   "metadata": {},
   "outputs": [],
   "source": [
    "def filter_token_length(sequences, tok_len=19):\n",
    "    filtered_sequences = []\n",
    "    for seq in sequences:\n",
    "        seq_ids = NTDBGPT2_tokenizer.encode(seq, return_tensors='pt')\n",
    "        if len(seq_ids[0]) < 20:\n",
    "            filtered_sequences.append(seq)\n",
    "    return filtered_sequences"
   ]
  },
  {
   "cell_type": "code",
   "execution_count": 15,
   "id": "38c8ac3e-17d0-4870-aad4-d34d434db0b2",
   "metadata": {},
   "outputs": [],
   "source": [
    "trn_seq = np.load(\"./data/25k_train_seqs_3_22_E8859_E8120_E9660_E9654_E9240.npy\")\n",
    "gen_seq = np.load(\"./data/25k_gen_seqs_3_22_E8859_E8120_E9660_E9654_E9240.npy\")\n",
    "\n",
    "e8120_trn_seq = filter_token_length([x for x in trn_seq if 'E812.0' in x]) # 5000 items\n",
    "e8859_trn_seq = filter_token_length([x for x in trn_seq if 'E885.9' in x]) # 5000 items\n",
    "e9660_trn_seq = filter_token_length([x for x in trn_seq if 'E966.0' in x]) # 5000 items\n",
    "e9654_trn_seq = filter_token_length([x for x in trn_seq if 'E965.4' in x]) # 5000 items\n",
    "e9240_trn_seq = filter_token_length([x for x in trn_seq if 'E924.0' in x]) # 5000 items\n",
    "\n",
    "e8120_gen_seq = filter_token_length([x for x in gen_seq if 'E812.0' in x]) # 5000 items\n",
    "e8859_gen_seq = filter_token_length([x for x in gen_seq if 'E885.9' in x]) # 5000 items\n",
    "e9660_gen_seq = filter_token_length([x for x in gen_seq if 'E966.0' in x]) # 5000 items\n",
    "e9654_gen_seq = filter_token_length([x for x in gen_seq if 'E965.4' in x]) # 5000 items\n",
    "e9240_gen_seq = filter_token_length([x for x in gen_seq if 'E924.0' in x]) # 5000 items"
   ]
  },
  {
   "cell_type": "markdown",
   "id": "d7fb0775-9467-4707-aec6-264beb9ba5fb",
   "metadata": {
    "tags": []
   },
   "source": [
    "# E812.0 \n",
    "\n",
    "* Observed that Second to Last Has Best Value"
   ]
  },
  {
   "cell_type": "code",
   "execution_count": 16,
   "id": "3af4eb70-fde4-428f-b13a-e839f56b87b6",
   "metadata": {},
   "outputs": [],
   "source": [
    "e8120_trn_all_token_layer_embeddings = np.load(\"./outputs/e8120_trn_all_em.npy\", allow_pickle=True)\n",
    "e8120_gen_all_token_layer_embeddings = np.load(\"./outputs/e8120_gen_all_em.npy\", allow_pickle=True)\n",
    "e8120_trn_end_token_layer_embeddings = torch.stack([x[-1,:,:] for x in e8120_trn_all_token_layer_embeddings])\n",
    "e8120_gen_end_token_layer_embeddings = torch.stack([x[-1,:,:] for x in e8120_gen_all_token_layer_embeddings])"
   ]
  },
  {
   "cell_type": "code",
   "execution_count": 17,
   "id": "49651cd2-abe5-4590-ac83-7ae9e3b98cce",
   "metadata": {},
   "outputs": [
    {
     "data": {
      "text/plain": [
       "torch.Size([4047, 13, 768])"
      ]
     },
     "execution_count": 17,
     "metadata": {},
     "output_type": "execute_result"
    }
   ],
   "source": [
    "e8120_trn_end_token_layer_embeddings.shape"
   ]
  },
  {
   "cell_type": "code",
   "execution_count": 18,
   "id": "46e2b1d0-9b95-4141-8b77-4eb993411ca5",
   "metadata": {},
   "outputs": [
    {
     "data": {
      "text/plain": [
       "(5003,)"
      ]
     },
     "execution_count": 18,
     "metadata": {},
     "output_type": "execute_result"
    }
   ],
   "source": [
    "e8120_gen_all_token_layer_embeddings.shape"
   ]
  },
  {
   "cell_type": "code",
   "execution_count": 19,
   "id": "5e7d1749-1376-4d9c-9c21-9f9b81b116d6",
   "metadata": {},
   "outputs": [],
   "source": [
    "e8120_trn_end_token_layer_embeddings = e8120_trn_end_token_layer_embeddings[:int(len(e8120_trn_end_token_layer_embeddings)*TRN_FRAC),:,:]\n",
    "e8120_tst_end_token_layer_embeddings = e8120_trn_end_token_layer_embeddings[int(len(e8120_trn_end_token_layer_embeddings)*TRN_FRAC):,:,:]"
   ]
  },
  {
   "cell_type": "code",
   "execution_count": 20,
   "id": "f12b0434-b297-4d62-a604-9e2970973dd2",
   "metadata": {},
   "outputs": [],
   "source": [
    "cov_estimator1 = sklearn.covariance.EmpiricalCovariance(assume_centered=False)"
   ]
  },
  {
   "cell_type": "code",
   "execution_count": 21,
   "id": "7b4864bc-50c5-4517-8900-cc51fb2ff40b",
   "metadata": {},
   "outputs": [
    {
     "name": "stderr",
     "output_type": "stream",
     "text": [
      "100%|███████████████████████████████████████████████████████████████| 13/13 [00:00<00:00, 17.75it/s]\n",
      "100%|███████████████████████████████████████████████████████████████| 13/13 [00:00<00:00, 22.08it/s]\n",
      "100%|██████████████████████████████████████████████████████████████| 13/13 [00:00<00:00, 565.96it/s]\n",
      "100%|███████████████████████████████████████████████████████████████| 13/13 [00:01<00:00, 11.25it/s]\n"
     ]
    }
   ],
   "source": [
    "e8120_trn_end_token_mean, e8120_trn_end_token_inv_cov = get_empirical_mean_cov(cov_estimator1, e8120_trn_end_token_layer_embeddings)\n",
    "e8120_trn_mdf = get_mdf(torch.Tensor(e8120_trn_end_token_layer_embeddings), e8120_trn_end_token_mean, e8120_trn_end_token_inv_cov)\n",
    "e8120_tst_mdf = get_mdf(torch.Tensor(e8120_tst_end_token_layer_embeddings), e8120_trn_end_token_mean, e8120_trn_end_token_inv_cov)\n",
    "e8120_ood_mdf = get_mdf(torch.Tensor(e8120_gen_end_token_layer_embeddings), e8120_trn_end_token_mean, e8120_trn_end_token_inv_cov)"
   ]
  },
  {
   "cell_type": "code",
   "execution_count": 22,
   "id": "462edf5e-2150-480a-b30a-7045d94039ab",
   "metadata": {},
   "outputs": [
    {
     "name": "stderr",
     "output_type": "stream",
     "text": [
      "/tmp/ipykernel_255395/963709382.py:8: UserWarning: you are shuffling a 'Tensor' object which is not a subclass of 'Sequence'; `shuffle` is not guaranteed to behave correctly. E.g., non-numpy array/tensor objects with view semantics may contain duplicates after shuffling.\n",
      "  np.random.shuffle(test_mdf)\n",
      "/tmp/ipykernel_255395/963709382.py:9: UserWarning: you are shuffling a 'Tensor' object which is not a subclass of 'Sequence'; `shuffle` is not guaranteed to behave correctly. E.g., non-numpy array/tensor objects with view semantics may contain duplicates after shuffling.\n",
      "  np.random.shuffle(ood_mdf)\n",
      " 27%|█████████████████▍                                              | 3/11 [00:00<00:00, 25.21it/s]"
     ]
    },
    {
     "name": "stdout",
     "output_type": "stream",
     "text": [
      "running ---: kernel: linear nuu: 1e-15\n",
      "running ---: kernel: linear nuu: 1e-12\n",
      "running ---: kernel: linear nuu: 1e-09\n",
      "running ---: kernel: linear nuu: 1e-07\n",
      "running ---: kernel: linear nuu: 1e-05\n",
      "running ---: kernel: linear nuu: 0.001\n"
     ]
    },
    {
     "name": "stderr",
     "output_type": "stream",
     "text": [
      " 55%|██████████████████████████████████▉                             | 6/11 [00:00<00:00, 24.99it/s]"
     ]
    },
    {
     "name": "stdout",
     "output_type": "stream",
     "text": [
      "running ---: kernel: linear nuu: 0.01\n",
      "running ---: kernel: linear nuu: 0.1\n",
      "running ---: kernel: linear nuu: 0.2\n"
     ]
    },
    {
     "name": "stderr",
     "output_type": "stream",
     "text": [
      " 82%|████████████████████████████████████████████████████▎           | 9/11 [00:00<00:00, 13.55it/s]"
     ]
    },
    {
     "name": "stdout",
     "output_type": "stream",
     "text": [
      "running ---: kernel: linear nuu: 0.5\n",
      "running ---: kernel: linear nuu: 1\n"
     ]
    },
    {
     "name": "stderr",
     "output_type": "stream",
     "text": [
      "/home/paul/anaconda3/envs/stemmler/lib/python3.8/site-packages/sklearn/svm/_classes.py:1661: RuntimeWarning: invalid value encountered in add\n",
      "  return self.decision_function(X) + self.offset_\n",
      "/home/paul/anaconda3/envs/stemmler/lib/python3.8/site-packages/sklearn/svm/_classes.py:1661: RuntimeWarning: invalid value encountered in add\n",
      "  return self.decision_function(X) + self.offset_\n",
      "100%|███████████████████████████████████████████████████████████████| 11/11 [00:01<00:00,  7.30it/s]"
     ]
    },
    {
     "name": "stdout",
     "output_type": "stream",
     "text": [
      " AUROC  DTACC  AUIN   AUOUT \n",
      " 80.92  73.10  36.43  98.29\n",
      "best hyper linear-0.5\n",
      "saving data for plotting\n",
      "-------------------------------\n"
     ]
    },
    {
     "name": "stderr",
     "output_type": "stream",
     "text": [
      "\n"
     ]
    }
   ],
   "source": [
    "e8120_score, e8120_det = get_score(e8120_trn_mdf, e8120_tst_mdf, e8120_ood_mdf, 'E8120')"
   ]
  },
  {
   "cell_type": "code",
   "execution_count": 23,
   "id": "8bda2161-5c0b-4c6e-9558-2efe5092ff65",
   "metadata": {},
   "outputs": [],
   "source": [
    "e8120_score_df = pd.DataFrame(e8120_score)"
   ]
  },
  {
   "cell_type": "code",
   "execution_count": 24,
   "id": "973c7c3c-c5cb-46e9-a012-a36e19c37e7d",
   "metadata": {},
   "outputs": [
    {
     "data": {
      "image/png": "[encoded data removed]",
      "text/plain": [
       "<Figure size 432x288 with 1 Axes>"
      ]
     },
     "metadata": {
      "needs_background": "light"
     },
     "output_type": "display_data"
    }
   ],
   "source": [
    "plot_scores(e8120_score_df)"
   ]
  },
  {
   "cell_type": "code",
   "execution_count": 25,
   "id": "9ea776ff-777d-4b80-887a-1125e5d83400",
   "metadata": {},
   "outputs": [],
   "source": [
    "y1 = e8120_det.score_samples(e8120_ood_mdf)"
   ]
  },
  {
   "cell_type": "code",
   "execution_count": 26,
   "id": "98882e26-4064-42d0-b2a5-8e45baa1c7b0",
   "metadata": {},
   "outputs": [],
   "source": [
    "split1 = 0.5e10"
   ]
  },
  {
   "cell_type": "code",
   "execution_count": 27,
   "id": "0d69f5ee-5b86-46dc-8a99-7e7666be2a94",
   "metadata": {},
   "outputs": [],
   "source": [
    "e8120_normal = []\n",
    "for i,o in enumerate(y1):\n",
    "    if o < split1:\n",
    "        e8120_normal.append((i,o))"
   ]
  },
  {
   "cell_type": "code",
   "execution_count": 28,
   "id": "a1213ebf-a602-42b2-8e6d-59a24b89dfd4",
   "metadata": {},
   "outputs": [],
   "source": [
    "e8120_anomaly = []\n",
    "for i,o in enumerate(y1):\n",
    "    if o >= split1:\n",
    "        e8120_anomaly.append((i,o))"
   ]
  },
  {
   "cell_type": "code",
   "execution_count": 29,
   "id": "8c27b60d-65eb-4ed8-a633-2b3ae1f57864",
   "metadata": {},
   "outputs": [
    {
     "name": "stdout",
     "output_type": "stream",
     "text": [
      "Normal: 3706 Anomaly: 1297\n"
     ]
    }
   ],
   "source": [
    "print('Normal:', len(e8120_normal), 'Anomaly:', len(e8120_anomaly))"
   ]
  },
  {
   "cell_type": "code",
   "execution_count": 30,
   "id": "5770cd6a-f027-45c5-9a84-a61bf7efdeb6",
   "metadata": {
    "tags": []
   },
   "outputs": [
    {
     "name": "stdout",
     "output_type": "stream",
     "text": [
      "1.9e+09\n",
      "========= START =========\n",
      "========== DXS ==========\n",
      "87349:Open wound of face NEC:Open wound of other and multiple sites of face, without mention of complication\n",
      "86121:Lung contusion-closed:Contusion of lung without mention of open wound into thorax\n",
      "========== PRS ==========\n",
      "8741:Computerized axial tomography of thorax\n",
      "8771:Computerized axial tomography of kidney\n",
      "8801:Computerized axial tomography of abdomen\n",
      "8838:Other computerized axial tomography\n",
      "8703:Computerized axial tomography of head\n",
      "7939:Open reduction of fracture with internal fixation, other specified bone\n",
      "8622:Excisional debridement of wound, infection, or burn\n",
      "========== END ==========\n",
      "None\n",
      "4.4e+09\n",
      "========= START =========\n",
      "========== DXS ==========\n",
      "82523:Fx cuboid-closed:Closed fracture of cuboid\n",
      "82521:Fx astragalus-closed:Closed fracture of astragalus\n",
      "825:Fracture of one or more tarsal and metatarsal bones:None\n",
      "824:Fracture of ankle:None\n",
      "82321:Fx shaft fibula-closed:Closed fracture of shaft of fibula alone\n",
      "823:Fracture of tibia and fibula:None\n",
      "808:Fracture of pelvis:None\n",
      "8074:Flail chest:Flail chest\n",
      "8072:Fracture of sternum-clos:Closed fracture of sternum\n",
      "80705:Fracture five ribs-close:Closed fracture of five ribs\n",
      "========== PRS ==========\n",
      "========== END ==========\n",
      "None\n",
      "2.4e+09\n",
      "========= START =========\n",
      "========== DXS ==========\n",
      "9130:Abrasion forearm:Abrasion or friction burn of elbow, forearm, and wrist, without mention of infection\n",
      "85106:Cortex contus-coma NOS:Cortex (cerebral) contusion without mention of open intracranial wound, with loss of consciousness of unspecified duration\n",
      "8470:Sprain of neck:Sprain of neck\n",
      "========== PRS ==========\n",
      "8826:Other skeletal x-ray of pelvis and hip\n",
      "8838:Other computerized axial tomography\n",
      "8722:Other x-ray of cervical spine\n",
      "8744:Routine chest x-ray, so described\n",
      "8876:Diagnostic ultrasound of abdomen and retroperitoneum\n",
      "8703:Computerized axial tomography of head\n",
      "8893:Magnetic resonance imaging of spinal canal\n",
      "========== END ==========\n",
      "None\n",
      "2.9e+09\n",
      "========= START =========\n",
      "========== DXS ==========\n",
      "8600:Traum pneumothorax-close:Traumatic pneumothorax without mention of open wound into thorax\n",
      "8220:Fracture patella-closed:Closed fracture of patella\n",
      "8054:Fx lumbar vertebra-close:Closed fracture of lumbar vertebra without mention of spinal cord injury\n",
      "========== PRS ==========\n",
      "9359:Other immobilization, pressure, and attention to wound\n",
      "9919:Injection of anticoagulant\n",
      "8827:Skeletal x-ray of thigh, knee, and lower leg\n",
      "8703:Computerized axial tomography of head\n",
      "8838:Other computerized axial tomography\n",
      "8801:Computerized axial tomography of abdomen\n",
      "========== END ==========\n",
      "None\n",
      "1.9e+09\n",
      "========= START =========\n",
      "========== DXS ==========\n",
      "87342:Open wound of forehead:Open wound of forehead, without mention of complication\n",
      "85223:Subdural hemorr-mod coma:Subdural hemorrhage following injury without mention of open intracranial wound, with moderate [1-24 hours] loss of consciousness\n",
      "85203:Subarach hem-mod coma:Subarachnoid hemorrhage following injury without mention of open intracranial wound, with moderate [1-24 hours] loss of consciousness\n",
      "8072:Fracture of sternum-clos:Closed fracture of sternum\n",
      "80123:Cl skul base fx-mod coma:Closed fracture of base of skull with subarachnoid, subdural, and extradural hemorrhage, with moderate [1-24 hours] loss of consciousness\n",
      "80055:Opn skl vlt fx-deep coma:Open fracture of vault of skull without mention of intracranial injury, with prolonged [more than 24 hours] loss of consciousness, without return to pre-existing conscious level\n",
      "========== PRS ==========\n",
      "9672:Continuous invasive mechanical ventilation for 96 consecutive hours or more\n",
      "9604:Insertion of endotracheal tube\n",
      "5794:Insertion of indwelling urinary catheter\n",
      "8659:Closure of skin and subcutaneous tissue of other sites\n",
      "========== END ==========\n",
      "None\n",
      "2.2e+09\n",
      "========= START =========\n",
      "========== DXS ==========\n",
      "8910:Open wnd knee/leg/ankle:Open wound of knee, leg [except thigh], and ankle, without mention of complication\n",
      "86121:Lung contusion-closed:Contusion of lung without mention of open wound into thorax\n",
      "82101:Fx femur shaft-closed:Closed fracture of shaft of femur\n",
      "80704:Fracture four ribs-close:Closed fracture of four ribs\n",
      "========== PRS ==========\n",
      "7915:Closed reduction of fracture with internal fixation, femur\n",
      "8628:Nonexcisional debridement of wound, infection or burn\n",
      "8628:Nonexcisional debridement of wound, infection or burn\n",
      "8628:Nonexcisional debridement of wound, infection or burn\n",
      "8628:Nonexcisional debridement of wound, infection or burn\n",
      "8628:Nonexcisional debridement of wound, infection or burn\n",
      "========== END ==========\n",
      "None\n",
      "2.9e+09\n",
      "========= START =========\n",
      "========== DXS ==========\n",
      "80708:Fx eight/more rib-closed:Closed fracture of eight or more ribs\n",
      "90189:Inj thoracic vessel NEC:Injury to other specified blood vessels of thorax\n",
      "86229:Intrathoracic inj NEC-cl:Injury to other specified intrathoracic organs without mention of open wound into cavity\n",
      "86122:Lung laceration-closed:Laceration of lung without mention of open wound into thorax\n",
      "8052:Fx dorsal vertebra-close:Closed fracture of dorsal [thoracic] vertebra without mention of spinal cord injury\n",
      "86122:Lung laceration-closed:Laceration of lung without mention of open wound into thorax\n",
      "========== PRS ==========\n",
      "9907:Transfusion of other serum\n",
      "9904:Transfusion of packed cells\n",
      "3402:Exploratory thoracotomy\n",
      "9359:Other immobilization, pressure, and attention to wound\n",
      "========== END ==========\n",
      "None\n",
      "2.9e+09\n",
      "========= START =========\n",
      "========== DXS ==========\n",
      "86122:Lung laceration-closed:Laceration of lung without mention of open wound into thorax\n",
      "81109:Fx scapula NEC-closed:Closed fracture of scapula, other\n",
      "810:Fracture of clavicle:None\n",
      "80702:Fracture two ribs-closed:Closed fracture of two ribs\n",
      "80507:Fx c7 vertebra-closed:Closed fracture of seventh cervical vertebra\n",
      "80507:Fx c7 vertebra-closed:Closed fracture of seventh cervical vertebra\n",
      "========== PRS ==========\n",
      "8876:Diagnostic ultrasound of abdomen and retroperitoneum\n",
      "8741:Computerized axial tomography of thorax\n",
      "8703:Computerized axial tomography of head\n",
      "8838:Other computerized axial tomography\n",
      "========== END ==========\n",
      "None\n",
      "3.6e+09\n",
      "========= START =========\n",
      "========== DXS ==========\n",
      "919:Superficial injury of other multiple and unspecified sites:None\n",
      "916:Superficial injury of hip thigh leg and ankle:None\n",
      "910:Superficial injury of face neck and scalp except eye:None\n",
      "876:Open wound of back:None\n",
      "8505:Concussion w coma NOS:Concussion with loss of consciousness of unspecified duration\n",
      "823:Fracture of tibia and fibula:None\n",
      "8054:Fx lumbar vertebra-close:Closed fracture of lumbar vertebra without mention of spinal cord injury\n",
      "========== PRS ==========\n",
      "8876:Diagnostic ultrasound of abdomen and retroperitoneum\n",
      "8826:Other skeletal x-ray of pelvis and hip\n",
      "8838:Other computerized axial tomography\n",
      "========== END ==========\n",
      "None\n",
      "2.9e+09\n",
      "========= START =========\n",
      "========== DXS ==========\n",
      "847:Sprains and strains of other and unspecified parts of back:None\n",
      "83104:Disloc acromioclavic-cl:Closed dislocation of acromioclavicular (joint)\n",
      "========== PRS ==========\n",
      "8703:Computerized axial tomography of head\n",
      "8801:Computerized axial tomography of abdomen\n",
      "8741:Computerized axial tomography of thorax\n",
      "8722:Other x-ray of cervical spine\n",
      "3899:Other puncture of vein\n",
      "8951:Rhythm electrocardiogram\n",
      "8952:Electrocardiogram\n",
      "========== END ==========\n",
      "None\n",
      "3.3e+09\n",
      "========= START =========\n",
      "========== DXS ==========\n",
      "85201:Subarachnoid hem-no coma:Subarachnoid hemorrhage following injury without mention of open intracranial wound, with no loss of consciousness\n",
      "82525:Fx metatarsal-closed:Closed fracture of metatarsal bone(s)\n",
      "82382:Fx tibia w fibula NOS-cl:Closed fracture of unspecified part of fibula with tibia\n",
      "80701:Fracture one rib-closed:Closed fracture of one rib\n",
      "========== PRS ==========\n",
      "9396:Other oxygen enrichment\n",
      "8838:Other computerized axial tomography\n",
      "8741:Computerized axial tomography of thorax\n",
      "8801:Computerized axial tomography of abdomen\n",
      "8703:Computerized axial tomography of head\n",
      "7936:Open reduction of fracture with internal fixation, tibia and fibula\n",
      "========== END ==========\n",
      "None\n",
      "1.7e+09\n",
      "========= START =========\n",
      "========== DXS ==========\n",
      "8242:Fx lateral malleolus-cl:Fracture of lateral malleolus, closed\n",
      "========== PRS ==========\n",
      "7906:Closed reduction of fracture without internal fixation, tibia and fibula\n",
      "7936:Open reduction of fracture with internal fixation, tibia and fibula\n",
      "7817:Application of external fixator device, tibia and fibula\n",
      "7867:Removal of implanted devices from bone, tibia and fibula\n",
      "5794:Insertion of indwelling urinary catheter\n",
      "8622:Excisional debridement of wound, infection, or burn\n",
      "8659:Closure of skin and subcutaneous tissue of other sites\n",
      "8669:Other skin graft to other sites\n",
      "========== END ==========\n",
      "None\n",
      "9.3e+08\n",
      "========= START =========\n",
      "========== DXS ==========\n",
      "82381:Fx fibula NOS-closed:Closed fracture of unspecified part of fibula alone\n",
      "========== PRS ==========\n",
      "8703:Computerized axial tomography of head\n",
      "8838:Other computerized axial tomography\n",
      "8741:Computerized axial tomography of thorax\n",
      "8801:Computerized axial tomography of abdomen\n",
      "8893:Magnetic resonance imaging of spinal canal\n",
      "7929:Open reduction of fracture without internal fixation, other specified bone\n",
      "8105:Dorsal and dorsolumbar fusion of the posterior column, posterior technique\n",
      "8451:Insertion of interbody spinal fusion device\n",
      "8162:Fusion or refusion of 2-3 vertebrae\n",
      "========== END ==========\n",
      "None\n",
      "3.3e+09\n",
      "========= START =========\n",
      "========== DXS ==========\n",
      "92310:Contusion of forearm:Contusion of forearm\n",
      "9222:Contusion abdominal wall:Contusion of abdominal wall\n",
      "9221:Contusion of chest wall:Contusion of chest wall\n",
      "86804:Retroperitoneum inj-cl:Injury to other intra-abdominal organs without mention of open wound into cavity, retroperitoneum\n",
      "86503:Spleen parenchyma lacer:Injury to spleen without mention of open wound into cavity, laceration extending into parenchyma\n",
      "86501:Spleen hematoma-closed:Injury to spleen without mention of open wound into cavity, hematoma without rupture of capsule\n",
      "========== PRS ==========\n",
      "8622:Excisional debridement of wound, infection, or burn\n",
      "5794:Insertion of indwelling urinary catheter\n",
      "8838:Other computerized axial tomography\n",
      "8703:Computerized axial tomography of head\n",
      "========== END ==========\n",
      "None\n",
      "1.4e+09\n",
      "========= START =========\n",
      "========== DXS ==========\n",
      "9190:Abrasion NEC:Abrasion or friction burn of other, multiple, and unspecified sites, without mention of infection\n",
      "8730:Open wound of scalp:Open wound of scalp, without mention of complication\n",
      "8505:Concussion w coma NOS:Concussion with loss of consciousness of unspecified duration\n",
      "========== PRS ==========\n",
      "8741:Computerized axial tomography of thorax\n",
      "8703:Computerized axial tomography of head\n",
      "8801:Computerized axial tomography of abdomen\n",
      "8659:Closure of skin and subcutaneous tissue of other sites\n",
      "8838:Other computerized axial tomography\n",
      "8877:Diagnostic ultrasound of peripheral vascular system\n",
      "========== END ==========\n",
      "None\n",
      "2.4e+09\n",
      "========= START =========\n",
      "========== DXS ==========\n",
      "8840:Open wound arm mult/NOS:Multiple and unspecified open wound of upper limb, without mention of complication\n",
      "8600:Traum pneumothorax-close:Traumatic pneumothorax without mention of open wound into thorax\n",
      "80701:Fracture one rib-closed:Closed fracture of one rib\n",
      "========== PRS ==========\n",
      "3404:Insertion of intercostal catheter for drainage\n",
      "9604:Insertion of endotracheal tube\n",
      "8659:Closure of skin and subcutaneous tissue of other sites\n",
      "3323:Other bronchoscopy\n",
      "311:Temporary tracheostomy\n",
      "3893:Venous catheterization, not elsewhere classified\n",
      "========== END ==========\n",
      "None\n",
      "1.9e+09\n",
      "========= START =========\n",
      "========== DXS ==========\n",
      "9222:Contusion abdominal wall:Contusion of abdominal wall\n",
      "8600:Traum pneumothorax-close:Traumatic pneumothorax without mention of open wound into thorax\n",
      "80709:Fx mult ribs NOS-closed:Closed fracture of multiple ribs, unspecified\n",
      "4019:Hypertension NOS:Unspecified essential hypertension\n",
      "25000:DMII wo cmp nt st uncntr:Diabetes mellitus without mention of complication, type II or unspecified type, not stated as uncontrolled\n",
      "========== PRS ==========\n",
      "5794:Insertion of indwelling urinary catheter\n",
      "8937:Vital capacity determination\n",
      "9739:Removal of other therapeutic device from head and neck\n",
      "8879:Other diagnostic ultrasound\n",
      "9764:Removal of other urinary drainage device\n",
      "========== END ==========\n",
      "None\n",
      "9.3e+08\n",
      "========= START =========\n",
      "========== DXS ==========\n",
      "9249:Contusion NOS:Contusion of unspecified site\n",
      "9221:Contusion of chest wall:Contusion of chest wall\n",
      "8470:Sprain of neck:Sprain of neck\n",
      "8072:Fracture of sternum-clos:Closed fracture of sternum\n",
      "8056:Fx sacrum/coccyx-closed:Closed fracture of sacrum and coccyx without mention of spinal cord injury\n",
      "========== PRS ==========\n",
      "8879:Other diagnostic ultrasound\n",
      "8741:Computerized axial tomography of thorax\n",
      "8828:Skeletal x-ray of ankle and foot\n",
      "8801:Computerized axial tomography of abdomen\n",
      "8744:Routine chest x-ray, so described\n",
      "========== END ==========\n",
      "None\n"
     ]
    }
   ],
   "source": [
    "for i in range(PRINT_SEQUENCES):\n",
    "    if '<UNK>' not in e8120_gen_seq[e8120_normal[i][0]]:\n",
    "        print(format(e8120_normal[i][1], '.1e'))\n",
    "        print(print_seq_dsc(e8120_gen_seq[e8120_normal[i][0]]))"
   ]
  },
  {
   "cell_type": "code",
   "execution_count": 31,
   "id": "026c936d-68c2-4dcc-a8e5-d279fb4a5247",
   "metadata": {},
   "outputs": [
    {
     "name": "stdout",
     "output_type": "stream",
     "text": [
      "2.4e+10\n",
      "========= START =========\n",
      "========== DXS ==========\n",
      "82021:Intertrochanteric fx-cl:Closed fracture of intertrochanteric section of neck of femur\n",
      "========== PRS ==========\n",
      "8952:Electrocardiogram\n",
      "E8120:Unknown Code\n",
      "7915:Closed reduction of fracture with internal fixation, femur\n",
      "3893:Venous catheterization, not elsewhere classified\n",
      "========== END ==========\n",
      "None\n",
      "1.6e+10\n",
      "========= START =========\n",
      "========== DXS ==========\n",
      "920:Contusion of face, scalp, and neck except eye(s):None\n",
      "9110:Abrasion trunk:Abrasion or friction burn of trunk, without mention of infection\n",
      "9100:Abrasion head:Abrasion or friction burn of face, neck, and scalp except eye, without mention of infection\n",
      "87341:Open wound of cheek:Open wound of cheek, without mention of complication\n",
      "87340:Open wound of face NOS:Open wound of face, unspecified site, without mention of complication\n",
      "8730:Open wound of scalp:Open wound of scalp, without mention of complication\n",
      "86121:Lung contusion-closed:Contusion of lung without mention of open wound into thorax\n",
      "85300:Traumatic brain hem NEC:Other and unspecified intracranial hemorrhage following injury without mention of open intracranial wound, unspecified state of consciousness\n",
      "8470:Sprain of neck:Sprain of neck\n",
      "82525:Fx metatarsal-closed:Closed fracture of metatarsal bone(s)\n",
      "8221:Fracture patella-open:Open fracture of patella\n",
      "========== END ==========\n",
      "None\n",
      "1.6e+10\n",
      "========= START =========\n",
      "========== DXS ==========\n",
      "9587:Traum subcutan emphysema:Traumatic subcutaneous emphysema\n",
      "86403:Liver laceration, mod:Injury to liver without mention of open wound into cavity, laceration, moderate\n",
      "86384:Pancreas injury NOS-clos:Injury to pancreas, multiple and unspecified sites, without mention of open wound into cavity\n",
      "86329:Small intest inj NEC-cl:Other injury to small intestine, without mention of open wound into cavity\n",
      "86121:Lung contusion-closed:Contusion of lung without mention of open wound into thorax\n",
      "8604:Traum pneumohemothor-cl:Traumatic pneumohemothorax without mention of open wound into thorax\n",
      "8600:Traum pneumothorax-close:Traumatic pneumothorax without mention of open wound into thorax\n",
      "81109:Fx scapula NEC-closed:Closed fracture of scapula, other\n",
      "80843:Pelv fx-clos/pelv disrup:Multiple closed pelvic fractures with disruption of pelvic circle\n",
      "80708:Fx eight/more rib-closed:Closed fracture of eight or more ribs\n",
      "8056:Fx sacrum/coccyx-closed:Closed fracture of sacrum and coccyx without mention of spinal cord injury\n",
      "========== END ==========\n",
      "None\n",
      "6.2e+09\n",
      "========= START =========\n",
      "========== DXS ==========\n",
      "851:Cerebral laceration and contusion:None\n",
      "========== PRS ==========\n",
      "8838:Other computerized axial tomography\n",
      "8801:Computerized axial tomography of abdomen\n",
      "8838:Other computerized axial tomography\n",
      "8741:Computerized axial tomography of thorax\n",
      "8703:Computerized axial tomography of head\n",
      "8838:Other computerized axial tomography\n",
      "8838:Other computerized axial tomography\n",
      "8801:Computerized axial tomography of abdomen\n",
      "8703:Computerized axial tomography of head\n",
      "========== END ==========\n",
      "None\n",
      "6.2e+09\n",
      "========= START =========\n",
      "========== DXS ==========\n",
      "87342:Open wound of forehead:Open wound of forehead, without mention of complication\n",
      "========== PRS ==========\n",
      "8838:Other computerized axial tomography\n",
      "9359:Other immobilization, pressure, and attention to wound\n",
      "8703:Computerized axial tomography of head\n",
      "9352:Application of neck support\n",
      "3893:Venous catheterization, not elsewhere classified\n",
      "8659:Closure of skin and subcutaneous tissue of other sites\n",
      "8871:Diagnostic ultrasound of head and neck\n",
      "8893:Magnetic resonance imaging of spinal canal\n",
      "========== END ==========\n",
      "None\n",
      "5.5e+09\n",
      "========= START =========\n",
      "========== DXS ==========\n",
      "85300:Traumatic brain hem NEC:Other and unspecified intracranial hemorrhage following injury without mention of open intracranial wound, unspecified state of consciousness\n",
      "85200:Traum subarachnoid hem:Subarachnoid hemorrhage following injury without mention of open intracranial wound, unspecified state of consciousness\n",
      "========== PRS ==========\n",
      "3891:Arterial catheterization\n",
      "011:Unknown Code\n",
      "0139:Other incision of brain\n",
      "0131:Incision of cerebral meninges\n",
      "8891:Magnetic resonance imaging of brain and brain stem\n",
      "8914:Electroencephalogram\n",
      "4639:Other enterostomy\n",
      "========== END ==========\n",
      "None\n",
      "1.8e+10\n",
      "========= START =========\n",
      "========== DXS ==========\n",
      "86121:Lung contusion-closed:Contusion of lung without mention of open wound into thorax\n",
      "80701:Fracture one rib-closed:Closed fracture of one rib\n",
      "8052:Fx dorsal vertebra-close:Closed fracture of dorsal [thoracic] vertebra without mention of spinal cord injury\n",
      "========== PRS ==========\n",
      "8801:Computerized axial tomography of abdomen\n",
      "8741:Computerized axial tomography of thorax\n",
      "8838:Other computerized axial tomography\n",
      "8703:Computerized axial tomography of head\n",
      "9352:Application of neck support\n",
      "8876:Diagnostic ultrasound of abdomen and retroperitoneum\n",
      "========== END ==========\n",
      "None\n",
      "6.2e+09\n",
      "========= START =========\n",
      "========== DXS ==========\n",
      "9221:Contusion of chest wall:Contusion of chest wall\n",
      "9130:Abrasion forearm:Abrasion or friction burn of elbow, forearm, and wrist, without mention of infection\n",
      "80702:Fracture two ribs-closed:Closed fracture of two ribs\n",
      "8052:Fx dorsal vertebra-close:Closed fracture of dorsal [thoracic] vertebra without mention of spinal cord injury\n",
      "========== PRS ==========\n",
      "9359:Other immobilization, pressure, and attention to wound\n",
      "8877:Diagnostic ultrasound of peripheral vascular system\n",
      "8876:Diagnostic ultrasound of abdomen and retroperitoneum\n",
      "9352:Application of neck support\n",
      "8801:Computerized axial tomography of abdomen\n",
      "8703:Computerized axial tomography of head\n",
      "========== END ==========\n",
      "None\n",
      "5.9e+09\n",
      "========= START =========\n",
      "========== DXS ==========\n",
      "8910:Open wnd knee/leg/ankle:Open wound of knee, leg [except thigh], and ankle, without mention of complication\n",
      "86503:Spleen parenchyma lacer:Injury to spleen without mention of open wound into cavity, laceration extending into parenchyma\n",
      "8604:Traum pneumohemothor-cl:Traumatic pneumohemothorax without mention of open wound into thorax\n",
      "85206:Subarach hem-coma NOS:Subarachnoid hemorrhage following injury without mention of open intracranial wound, with loss of consciousness of unspecified duration\n",
      "81109:Fx scapula NEC-closed:Closed fracture of scapula, other\n",
      "81002:Fx clavicle shaft-closed:Closed fracture of shaft of clavicle\n",
      "8082:Fracture of pubis-closed:Closed fracture of pubis\n",
      "80702:Fracture two ribs-closed:Closed fracture of two ribs\n",
      "8052:Fx dorsal vertebra-close:Closed fracture of dorsal [thoracic] vertebra without mention of spinal cord injury\n",
      "80507:Fx c7 vertebra-closed:Closed fracture of seventh cervical vertebra\n",
      "========== PRS ==========\n",
      "========== END ==========\n",
      "None\n",
      "6.2e+09\n",
      "========= START =========\n",
      "========== DXS ==========\n",
      "87342:Open wound of forehead:Open wound of forehead, without mention of complication\n",
      "========== PRS ==========\n",
      "8876:Diagnostic ultrasound of abdomen and retroperitoneum\n",
      "8872:Diagnostic ultrasound of heart\n",
      "9671:Continuous invasive mechanical ventilation for less than 96 consecutive hours\n",
      "9604:Insertion of endotracheal tube\n",
      "8801:Computerized axial tomography of abdomen\n",
      "8838:Other computerized axial tomography\n",
      "8703:Computerized axial tomography of head\n",
      "8741:Computerized axial tomography of thorax\n",
      "8628:Nonexcisional debridement of wound, infection or burn\n",
      "========== END ==========\n",
      "None\n",
      "7.6e+09\n",
      "========= START =========\n",
      "========== DXS ==========\n",
      "919:Superficial injury of other multiple and unspecified sites:None\n",
      "8505:Concussion w coma NOS:Concussion with loss of consciousness of unspecified duration\n",
      "========== PRS ==========\n",
      "8879:Other diagnostic ultrasound\n",
      "9904:Transfusion of packed cells\n",
      "8801:Computerized axial tomography of abdomen\n",
      "8838:Other computerized axial tomography\n",
      "8741:Computerized axial tomography of thorax\n",
      "8703:Computerized axial tomography of head\n",
      "8891:Magnetic resonance imaging of brain and brain stem\n",
      "8894:Magnetic resonance imaging of musculoskeletal\n",
      "========== END ==========\n",
      "None\n",
      "5.5e+09\n",
      "========= START =========\n",
      "========== DXS ==========\n",
      "87342:Open wound of forehead:Open wound of forehead, without mention of complication\n",
      "86804:Retroperitoneum inj-cl:Injury to other intra-abdominal organs without mention of open wound into cavity, retroperitoneum\n",
      "81100:Fx scapula NOS-closed:Closed fracture of scapula, unspecified part\n",
      "8082:Fracture of pubis-closed:Closed fracture of pubis\n",
      "80502:Fx c2 vertebra-closed:Closed fracture of second cervical vertebra\n",
      "========== PRS ==========\n",
      "8741:Computerized axial tomography of thorax\n",
      "8838:Other computerized axial tomography\n",
      "8876:Diagnostic ultrasound of abdomen and retroperitoneum\n",
      "8703:Computerized axial tomography of head\n",
      "8801:Computerized axial tomography of abdomen\n",
      "========== END ==========\n",
      "None\n",
      "5.9e+09\n",
      "========= START =========\n",
      "========== DXS ==========\n",
      "85406:Brain inj NEC-coma NOS:Intracranial injury of other and unspecified nature without mention of open intracranial wound, with loss of consciousness of unspecified duration\n",
      "9248:Multiple contusions NEC:Contusion of multiple sites, not elsewhere classified\n",
      "8730:Open wound of scalp:Open wound of scalp, without mention of complication\n",
      "8470:Sprain of neck:Sprain of neck\n",
      "========== PRS ==========\n",
      "8659:Closure of skin and subcutaneous tissue of other sites\n",
      "9659:Other irrigation of wound\n",
      "8872:Diagnostic ultrasound of heart\n",
      "8826:Other skeletal x-ray of pelvis and hip\n",
      "8724:Other x-ray of lumbosacral spine\n",
      "8722:Other x-ray of cervical spine\n",
      "========== END ==========\n",
      "None\n",
      "1.9e+10\n",
      "========= START =========\n",
      "========== DXS ==========\n",
      "87343:Open wound of lip:Open wound of lip, without mention of complication\n",
      "8052:Fx dorsal vertebra-close:Closed fracture of dorsal [thoracic] vertebra without mention of spinal cord injury\n",
      "80507:Fx c7 vertebra-closed:Closed fracture of seventh cervical vertebra\n",
      "========== PRS ==========\n",
      "8703:Computerized axial tomography of head\n",
      "8838:Other computerized axial tomography\n",
      "8741:Computerized axial tomography of thorax\n",
      "8801:Computerized axial tomography of abdomen\n",
      "9346:Other skin traction of limbs\n",
      "8876:Diagnostic ultrasound of abdomen and retroperitoneum\n",
      "2751:Suture of laceration of lip\n",
      "========== END ==========\n",
      "None\n",
      "6.5e+09\n",
      "========= START =========\n",
      "========== DXS ==========\n",
      "9190:Abrasion NEC:Abrasion or friction burn of other, multiple, and unspecified sites, without mention of infection\n",
      "8910:Open wnd knee/leg/ankle:Open wound of knee, leg [except thigh], and ankle, without mention of complication\n",
      "86804:Retroperitoneum inj-cl:Injury to other intra-abdominal organs without mention of open wound into cavity, retroperitoneum\n",
      "86401:Liver hematoma/contusion:Injury to liver without mention of open wound into cavity, hematoma and contusion\n",
      "86121:Lung contusion-closed:Contusion of lung without mention of open wound into thorax\n",
      "82381:Fx fibula NOS-closed:Closed fracture of unspecified part of fibula alone\n",
      "80708:Fx eight/more rib-closed:Closed fracture of eight or more ribs\n",
      "========== PRS ==========\n",
      "3893:Venous catheterization, not elsewhere classified\n",
      "3891:Arterial catheterization\n",
      "3404:Insertion of intercostal catheter for drainage\n",
      "========== END ==========\n",
      "None\n",
      "9.5e+09\n",
      "========= START =========\n",
      "========== DXS ==========\n",
      "82392:Fx tibia w fib NOS-open:Open fracture of unspecified part of fibula with tibia\n",
      "========== PRS ==========\n",
      "7936:Open reduction of fracture with internal fixation, tibia and fibula\n",
      "7966:Debridement of open fracture site, tibia and fibula\n",
      "8472:Application of external fixator device, ring system\n",
      "7817:Application of external fixator device, tibia and fibula\n",
      "7937:Open reduction of fracture with internal fixation, tarsals and metatarsals\n",
      "7906:Closed reduction of fracture without internal fixation, tibia and fibula\n",
      "7817:Application of external fixator device, tibia and fibula\n",
      "8669:Other skin graft to other sites\n",
      "========== END ==========\n",
      "None\n",
      "5.0e+09\n",
      "========= START =========\n",
      "========== DXS ==========\n",
      "8820:Open wound of hand:Open wound of hand except finger(s) alone, without mention of complication\n",
      "8240:Fx medial malleolus-clos:Fracture of medial malleolus, closed\n",
      "82320:Fx shaft tibia-closed:Closed fracture of shaft of tibia alone\n",
      "========== PRS ==========\n",
      "9354:Application of splint\n",
      "8838:Other computerized axial tomography\n",
      "7817:Application of external fixator device, tibia and fibula\n",
      "7916:Closed reduction of fracture with internal fixation, tibia and fibula\n",
      "7936:Open reduction of fracture with internal fixation, tibia and fibula\n",
      "7867:Removal of implanted devices from bone, tibia and fibula\n",
      "7966:Debridement of open fracture site, tibia and fibula\n",
      "========== END ==========\n",
      "None\n"
     ]
    }
   ],
   "source": [
    "for i in range(PRINT_SEQUENCES):\n",
    "    if '<UNK>' not in e8120_gen_seq[e8120_anomaly[i][0]]:\n",
    "        print(format(e8120_anomaly[i][1], '.1e'))\n",
    "        print(print_seq_dsc(e8120_gen_seq[e8120_anomaly[i][0]]))"
   ]
  },
  {
   "cell_type": "markdown",
   "id": "cf2f0a33-bc3a-4555-b675-556a5c895768",
   "metadata": {},
   "source": [
    "# E885.9"
   ]
  },
  {
   "cell_type": "code",
   "execution_count": 32,
   "id": "9ec87e82-c73e-40f9-8c31-13564783583a",
   "metadata": {},
   "outputs": [],
   "source": [
    "e8859_trn_all_token_layer_embeddings = np.load(\"./outputs/e8859_trn_all_em.npy\", allow_pickle=True)\n",
    "e8859_gen_all_token_layer_embeddings = np.load(\"./outputs/e8859_gen_all_em.npy\", allow_pickle=True)\n",
    "e8859_trn_end_token_layer_embeddings = torch.stack([x[-1,:,:] for x in e8859_trn_all_token_layer_embeddings])\n",
    "e8859_gen_end_token_layer_embeddings = torch.stack([x[-1,:,:] for x in e8859_gen_all_token_layer_embeddings])"
   ]
  },
  {
   "cell_type": "code",
   "execution_count": 33,
   "id": "4a513a9c-aa6e-4a0c-b73c-3e618b92c729",
   "metadata": {},
   "outputs": [],
   "source": [
    "e8859_trn_end_token_layer_embeddings = e8859_trn_end_token_layer_embeddings[:int(len(e8859_trn_end_token_layer_embeddings)*TRN_FRAC),:,:]\n",
    "e8859_tst_end_token_layer_embeddings = e8859_trn_end_token_layer_embeddings[int(len(e8859_trn_end_token_layer_embeddings)*TRN_FRAC):,:,:]"
   ]
  },
  {
   "cell_type": "code",
   "execution_count": 34,
   "id": "2ed6551d-3048-49ed-b5b6-bfabe26c2091",
   "metadata": {},
   "outputs": [],
   "source": [
    "cov_estimator2 = sklearn.covariance.EmpiricalCovariance(assume_centered=False)"
   ]
  },
  {
   "cell_type": "code",
   "execution_count": 35,
   "id": "a85d9511-a116-43b9-94db-b41dbe288fdb",
   "metadata": {},
   "outputs": [
    {
     "name": "stderr",
     "output_type": "stream",
     "text": [
      "100%|███████████████████████████████████████████████████████████████| 13/13 [00:00<00:00, 15.36it/s]\n",
      "100%|███████████████████████████████████████████████████████████████| 13/13 [00:00<00:00, 20.24it/s]\n",
      "100%|██████████████████████████████████████████████████████████████| 13/13 [00:00<00:00, 463.83it/s]\n",
      "100%|███████████████████████████████████████████████████████████████| 13/13 [00:00<00:00, 13.34it/s]\n"
     ]
    }
   ],
   "source": [
    "e8859_trn_end_token_mean, e8859_trn_end_token_inv_cov = get_empirical_mean_cov(cov_estimator2, e8859_trn_end_token_layer_embeddings)\n",
    "e8859_trn_mdf = get_mdf(torch.Tensor(e8859_trn_end_token_layer_embeddings), e8859_trn_end_token_mean, e8859_trn_end_token_inv_cov)\n",
    "e8859_tst_mdf = get_mdf(torch.Tensor(e8859_tst_end_token_layer_embeddings), e8859_trn_end_token_mean, e8859_trn_end_token_inv_cov)\n",
    "e8859_ood_mdf = get_mdf(torch.Tensor(e8859_gen_end_token_layer_embeddings), e8859_trn_end_token_mean, e8859_trn_end_token_inv_cov)"
   ]
  },
  {
   "cell_type": "code",
   "execution_count": 36,
   "id": "58e3947a-b2e7-4273-81f2-948ce42d8374",
   "metadata": {},
   "outputs": [
    {
     "name": "stderr",
     "output_type": "stream",
     "text": [
      "/tmp/ipykernel_255395/963709382.py:8: UserWarning: you are shuffling a 'Tensor' object which is not a subclass of 'Sequence'; `shuffle` is not guaranteed to behave correctly. E.g., non-numpy array/tensor objects with view semantics may contain duplicates after shuffling.\n",
      "  np.random.shuffle(test_mdf)\n",
      "/tmp/ipykernel_255395/963709382.py:9: UserWarning: you are shuffling a 'Tensor' object which is not a subclass of 'Sequence'; `shuffle` is not guaranteed to behave correctly. E.g., non-numpy array/tensor objects with view semantics may contain duplicates after shuffling.\n",
      "  np.random.shuffle(ood_mdf)\n",
      " 27%|█████████████████▍                                              | 3/11 [00:00<00:00, 24.83it/s]"
     ]
    },
    {
     "name": "stdout",
     "output_type": "stream",
     "text": [
      "running ---: kernel: linear nuu: 1e-15\n",
      "running ---: kernel: linear nuu: 1e-12\n",
      "running ---: kernel: linear nuu: 1e-09\n",
      "running ---: kernel: linear nuu: 1e-07\n",
      "running ---: kernel: linear nuu: 1e-05\n",
      "running ---: kernel: linear nuu: 0.001\n"
     ]
    },
    {
     "name": "stderr",
     "output_type": "stream",
     "text": [
      " 55%|██████████████████████████████████▉                             | 6/11 [00:00<00:00, 25.19it/s]"
     ]
    },
    {
     "name": "stdout",
     "output_type": "stream",
     "text": [
      "running ---: kernel: linear nuu: 0.01\n",
      "running ---: kernel: linear nuu: 0.1\n",
      "running ---: kernel: linear nuu: 0.2\n"
     ]
    },
    {
     "name": "stderr",
     "output_type": "stream",
     "text": [
      " 82%|████████████████████████████████████████████████████▎           | 9/11 [00:00<00:00, 11.70it/s]"
     ]
    },
    {
     "name": "stdout",
     "output_type": "stream",
     "text": [
      "running ---: kernel: linear nuu: 0.5\n",
      "running ---: kernel: linear nuu: 1\n"
     ]
    },
    {
     "name": "stderr",
     "output_type": "stream",
     "text": [
      "/home/paul/anaconda3/envs/stemmler/lib/python3.8/site-packages/sklearn/svm/_classes.py:1661: RuntimeWarning: invalid value encountered in add\n",
      "  return self.decision_function(X) + self.offset_\n",
      "/home/paul/anaconda3/envs/stemmler/lib/python3.8/site-packages/sklearn/svm/_classes.py:1661: RuntimeWarning: invalid value encountered in add\n",
      "  return self.decision_function(X) + self.offset_\n",
      "100%|███████████████████████████████████████████████████████████████| 11/11 [00:01<00:00,  5.92it/s]"
     ]
    },
    {
     "name": "stdout",
     "output_type": "stream",
     "text": [
      " AUROC  DTACC  AUIN   AUOUT \n",
      " 70.04  63.85  32.28  96.48\n",
      "best hyper linear-0.1\n",
      "saving data for plotting\n",
      "-------------------------------\n"
     ]
    },
    {
     "name": "stderr",
     "output_type": "stream",
     "text": [
      "\n"
     ]
    }
   ],
   "source": [
    "e8859_score, e8859_det = get_score(e8859_trn_mdf, e8859_tst_mdf, e8859_ood_mdf, 'E8859')"
   ]
  },
  {
   "cell_type": "code",
   "execution_count": 37,
   "id": "cecf4718-b6bd-47d1-ac40-69d0a0452c01",
   "metadata": {},
   "outputs": [],
   "source": [
    "e8859_score_df = pd.DataFrame(e8859_score)"
   ]
  },
  {
   "cell_type": "code",
   "execution_count": 38,
   "id": "1aece4e9-7708-4953-af3d-36ec676b44ac",
   "metadata": {},
   "outputs": [
    {
     "data": {
      "image/png": "[encoded data removed]",
      "text/plain": [
       "<Figure size 432x288 with 1 Axes>"
      ]
     },
     "metadata": {
      "needs_background": "light"
     },
     "output_type": "display_data"
    }
   ],
   "source": [
    "plot_scores(e8859_score_df)"
   ]
  },
  {
   "cell_type": "code",
   "execution_count": 40,
   "id": "2f25dcaf-51d9-4e7e-bab7-2147fcd4ea0a",
   "metadata": {},
   "outputs": [],
   "source": [
    "y2 = e8859_det.score_samples(e8859_ood_mdf)"
   ]
  },
  {
   "cell_type": "code",
   "execution_count": 39,
   "id": "70923b65-c643-4d10-a3ae-0940f7806713",
   "metadata": {},
   "outputs": [],
   "source": [
    "split2 = 0.3e9"
   ]
  },
  {
   "cell_type": "code",
   "execution_count": 41,
   "id": "9974c2b6-7d5e-4dea-947c-8427624d0dac",
   "metadata": {},
   "outputs": [],
   "source": [
    "e8859_normal = []\n",
    "for i,o in enumerate(y2):\n",
    "    if o < split2:\n",
    "        e8859_normal.append((i,o))"
   ]
  },
  {
   "cell_type": "code",
   "execution_count": 42,
   "id": "9e43330e-fbaf-4d29-9f1f-9563ac9ba528",
   "metadata": {},
   "outputs": [],
   "source": [
    "e8859_anomaly = []\n",
    "for i,o in enumerate(y2):\n",
    "    if o >= split2:\n",
    "        e8859_anomaly.append((i,o))"
   ]
  },
  {
   "cell_type": "code",
   "execution_count": 43,
   "id": "0bd16373-58c3-4563-b345-97d5315ac05e",
   "metadata": {},
   "outputs": [
    {
     "name": "stdout",
     "output_type": "stream",
     "text": [
      "Normal: 4317 Anomaly: 683\n"
     ]
    }
   ],
   "source": [
    "print('Normal:', len(e8859_normal), 'Anomaly:', len(e8859_anomaly))"
   ]
  },
  {
   "cell_type": "code",
   "execution_count": 44,
   "id": "9dcd4dfe-bb93-46e6-837f-8c7ec3b21714",
   "metadata": {
    "tags": []
   },
   "outputs": [
    {
     "name": "stdout",
     "output_type": "stream",
     "text": [
      "1.2e+08\n",
      "========= START =========\n",
      "========== DXS ==========\n",
      "87342:Open wound of forehead:Open wound of forehead, without mention of complication\n",
      "82021:Intertrochanteric fx-cl:Closed fracture of intertrochanteric section of neck of femur\n",
      "========== PRS ==========\n",
      "8952:Electrocardiogram\n",
      "8952:Electrocardiogram\n",
      "9396:Other oxygen enrichment\n",
      "========== END ==========\n",
      "None\n",
      "1.2e+08\n",
      "========= START =========\n",
      "========== DXS ==========\n",
      "83813:Disl tarsometatarsal-opn:Open dislocation of tarsometatarsal (joint)\n",
      "8371:Dislocation ankle-open:Open dislocation of ankle\n",
      "82535:Fx metatarsal-open:Open fracture of metatarsal bone(s)\n",
      "========== PRS ==========\n",
      "7987:Open reduction of dislocation of ankle\n",
      "7908:Closed reduction of fracture without internal fixation, phalanges of foot\n",
      "========== END ==========\n",
      "None\n",
      "6.4e+07\n",
      "========= START =========\n",
      "========== DXS ==========\n",
      "80230:Mandible fx NOS-open:Open fracture of mandible, unspecified site\n",
      "8020:Nasal bone fx-closed:Closed fracture of nasal bones\n",
      "========== PRS ==========\n",
      "9355:Dental wiring\n",
      "7675:Closed reduction of mandibular fracture\n",
      "========== END ==========\n",
      "None\n",
      "6.4e+07\n",
      "========= START =========\n",
      "========== DXS ==========\n",
      "923:Contusion of upper limb:None\n",
      "920:Contusion of face, scalp, and neck except eye(s):None\n",
      "80025:Cl skul vlt fx-deep coma:Closed fracture of vault of skull with subarachnoid, subdural, and extradural hemorrhage, with prolonged [more than 24 hours] loss of consciousness, without return to pre-existing conscious level\n",
      "========== PRS ==========\n",
      "8703:Computerized axial tomography of head\n",
      "8838:Other computerized axial tomography\n",
      "========== END ==========\n",
      "None\n",
      "3.4e+07\n",
      "========= START =========\n",
      "========== DXS ==========\n",
      "85222:Subdural hem-brief coma:Subdural hemorrhage following injury without mention of open intracranial wound, with brief [less than one hour] loss of consciousness\n",
      "85202:Subarach hem-brief coma:Subarachnoid hemorrhage following injury without mention of open intracranial wound, with brief [less than one hour] loss of consciousness\n",
      "85302:Brain hem NEC-brief coma:Other and unspecified intracranial hemorrhage following injury without mention of open intracranial wound, with brief [less than one hour] loss of consciousness\n",
      "80701:Fracture one rib-closed:Closed fracture of one rib\n",
      "80507:Fx c7 vertebra-closed:Closed fracture of seventh cervical vertebra\n",
      "========== PRS ==========\n",
      "========== END ==========\n",
      "None\n",
      "3.4e+07\n",
      "========= START =========\n",
      "========== DXS ==========\n",
      "920:Contusion of face, scalp, and neck except eye(s):None\n",
      "9160:Abrasion hip & leg:Abrasion or friction burn of hip, thigh, leg, and ankle, without mention of infection\n",
      "9130:Abrasion forearm:Abrasion or friction burn of elbow, forearm, and wrist, without mention of infection\n",
      "82021:Intertrochanteric fx-cl:Closed fracture of intertrochanteric section of neck of femur\n",
      "81201:Fx surg nck humerus-clos:Closed fracture of surgical neck of humerus\n",
      "========== PRS ==========\n",
      "========== END ==========\n",
      "None\n",
      "1.8e+08\n",
      "========= START =========\n",
      "========== DXS ==========\n",
      "92401:Contusion of hip:Contusion of hip\n",
      "920:Contusion of face, scalp, and neck except eye(s):None\n",
      "85220:Traumatic subdural hem:Subdural hemorrhage following injury without mention of open intracranial wound, unspecified state of consciousness\n",
      "85200:Traum subarachnoid hem:Subarachnoid hemorrhage following injury without mention of open intracranial wound, unspecified state of consciousness\n",
      "85100:Cerebral cortx contusion:Cortex (cerebral) contusion without mention of open intracranial wound, unspecified state of consciousness\n",
      "========== PRS ==========\n",
      "========== END ==========\n",
      "None\n",
      "3.4e+07\n",
      "========= START =========\n",
      "========== DXS ==========\n",
      "8448:Sprain of knee & leg NEC:Sprains and strains of other specified sites of knee and leg\n",
      "========== PRS ==========\n",
      "8894:Magnetic resonance imaging of musculoskeletal\n",
      "8388:Other plastic operations on tendon\n",
      "9359:Other immobilization, pressure, and attention to wound\n",
      "8364:Other suture of tendon\n",
      "========== END ==========\n",
      "None\n",
      "6.8e+07\n",
      "========= START =========\n",
      "========== DXS ==========\n",
      "8730:Open wound of scalp:Open wound of scalp, without mention of complication\n",
      "========== PRS ==========\n",
      "8703:Computerized axial tomography of head\n",
      "8876:Diagnostic ultrasound of abdomen and retroperitoneum\n",
      "9352:Application of neck support\n",
      "8838:Other computerized axial tomography\n",
      "========== END ==========\n",
      "None\n",
      "3.5e+07\n",
      "========= START =========\n",
      "========== DXS ==========\n",
      "81241:Suprcondyl fx humerus-cl:Closed supracondylar fracture of humerus\n",
      "========== PRS ==========\n",
      "8839:X-ray, other and unspecified\n",
      "7911:Closed reduction of fracture with internal fixation, humerus\n",
      "8838:Other computerized axial tomography\n",
      "========== END ==========\n",
      "None\n",
      "7.6e+07\n",
      "========= START =========\n",
      "========== DXS ==========\n",
      "83650:Dislocat knee NOS-closed:Dislocation of knee, unspecified, closed\n",
      "========== PRS ==========\n",
      "7976:Closed reduction of dislocation of knee\n",
      "8876:Diagnostic ultrasound of abdomen and retroperitoneum\n",
      "8894:Magnetic resonance imaging of musculoskeletal\n",
      "8893:Magnetic resonance imaging of spinal canal\n",
      "========== END ==========\n",
      "None\n",
      "1.5e+08\n",
      "========= START =========\n",
      "========== DXS ==========\n",
      "85221:Subdural hem w/o coma:Subdural hemorrhage following injury without mention of open intracranial wound, with no loss of consciousness\n",
      "========== PRS ==========\n",
      "8703:Computerized axial tomography of head\n",
      "8952:Electrocardiogram\n",
      "3783:Initial insertion of dual-chamber device\n",
      "3772:Initial insertion of transvenous leads [electrodes] into atrium and ventricle\n",
      "========== END ==========\n",
      "None\n",
      "1.2e+08\n",
      "========= START =========\n",
      "========== DXS ==========\n",
      "8208:Fx neck of femur NOS-cl:Closed fracture of unspecified part of neck of femur\n",
      "========== PRS ==========\n",
      "9921:Injection of antibiotic\n",
      "8152:Partial hip replacement\n",
      "9604:Insertion of endotracheal tube\n",
      "========== END ==========\n",
      "None\n",
      "1.2e+08\n",
      "========= START =========\n",
      "========== DXS ==========\n",
      "9598:Injury mlt site/site NEC:Other specified sites, including multiple injury\n",
      "85011:Concus-brief coma <31 mn:Concussion, with loss of consciousness of 30 minutes or less\n",
      "8505:Concussion w coma NOS:Concussion with loss of consciousness of unspecified duration\n",
      "========== PRS ==========\n",
      "8826:Other skeletal x-ray of pelvis and hip\n",
      "8741:Computerized axial tomography of thorax\n",
      "========== END ==========\n",
      "None\n",
      "3.0e+08\n",
      "========= START =========\n",
      "========== DXS ==========\n",
      "8052:Fx dorsal vertebra-close:Closed fracture of dorsal [thoracic] vertebra without mention of spinal cord injury\n",
      "7812:Abnormality of gait:Abnormality of gait\n",
      "7802:Syncope and collapse:Syncope and collapse\n",
      "71590:Osteoarthros NOS-unspec:Osteoarthrosis, unspecified whether generalized or localized, site unspecified\n",
      "78321:Abnormal loss of weight:Loss of weight\n",
      "========== END ==========\n",
      "None\n"
     ]
    }
   ],
   "source": [
    "for i in range(PRINT_SEQUENCES):\n",
    "    if '<UNK>' not in e8859_gen_seq[e8859_normal[i][0]]:\n",
    "        print(format(e8859_normal[i][1], '.1e'))\n",
    "        print(print_seq_dsc(e8859_gen_seq[e8859_normal[i][0]]))"
   ]
  },
  {
   "cell_type": "code",
   "execution_count": 45,
   "id": "0d45af16-13b2-4212-95d8-c63fd70df46f",
   "metadata": {},
   "outputs": [
    {
     "name": "stdout",
     "output_type": "stream",
     "text": [
      "4.4e+08\n",
      "========= START =========\n",
      "========== DXS ==========\n",
      "920:Contusion of face, scalp, and neck except eye(s):None\n",
      "9130:Abrasion forearm:Abrasion or friction burn of elbow, forearm, and wrist, without mention of infection\n",
      "85220:Traumatic subdural hem:Subdural hemorrhage following injury without mention of open intracranial wound, unspecified state of consciousness\n",
      "85200:Traum subarachnoid hem:Subarachnoid hemorrhage following injury without mention of open intracranial wound, unspecified state of consciousness\n",
      "83921:Disloc thoracic vert-cl:Closed dislocation, thoracic vertebra\n",
      "80709:Fx mult ribs NOS-closed:Closed fracture of multiple ribs, unspecified\n",
      "========== END ==========\n",
      "None\n",
      "3.4e+08\n",
      "========= START =========\n",
      "========== DXS ==========\n",
      "8054:Fx lumbar vertebra-close:Closed fracture of lumbar vertebra without mention of spinal cord injury\n",
      "========== PRS ==========\n",
      "3893:Venous catheterization, not elsewhere classified\n",
      "8166:Percutaneous vertebral augmentation\n",
      "7749:Biopsy of bone, other bones\n",
      "========== END ==========\n",
      "None\n",
      "3.1e+08\n",
      "========= START =========\n",
      "========== DXS ==========\n",
      "82021:Intertrochanteric fx-cl:Closed fracture of intertrochanteric section of neck of femur\n",
      "4270:Parox atrial tachycardia:Paroxysmal supraventricular tachycardia\n",
      "41519:Pulm embol/infarct NEC:Other pulmonary embolism and infarction\n",
      "41401:Crnry athrscl natve vssl:Coronary atherosclerosis of native coronary artery\n",
      "29410:Dementia w/o behav dist:Dementia in conditions classified elsewhere without behavioral disturbance\n",
      "1987:Second malig neo adrenal:Secondary malignant neoplasm of adrenal gland\n",
      "========== END ==========\n",
      "None\n",
      "5.5e+08\n",
      "========= START =========\n",
      "========== DXS ==========\n",
      "81200:Fx up end humerus NOS-cl:Closed fracture of unspecified part of upper end of humerus\n",
      "========== PRS ==========\n",
      "8181:Partial shoulder replacement\n",
      "3893:Venous catheterization, not elsewhere classified\n",
      "9904:Transfusion of packed cells\n",
      "========== END ==========\n",
      "None\n",
      "7.6e+08\n",
      "========= START =========\n",
      "========== DXS ==========\n",
      "8730:Open wound of scalp:Open wound of scalp, without mention of complication\n",
      "85221:Subdural hem w/o coma:Subdural hemorrhage following injury without mention of open intracranial wound, with no loss of consciousness\n",
      "85201:Subarachnoid hem-no coma:Subarachnoid hemorrhage following injury without mention of open intracranial wound, with no loss of consciousness\n",
      "85101:Cortex contusion-no coma:Cortex (cerebral) contusion without mention of open intracranial wound, with no loss of consciousness\n",
      "========== PRS ==========\n",
      "8703:Computerized axial tomography of head\n",
      "========== END ==========\n",
      "None\n",
      "7.6e+08\n",
      "========= START =========\n",
      "========== DXS ==========\n",
      "80101:Cl skul base fx w/o coma:Closed fracture of base of skull without mention of intra cranial injury, with no loss of consciousness\n",
      "========== PRS ==========\n",
      "2172:Open reduction of nasal fracture\n",
      "8876:Diagnostic ultrasound of abdomen and retroperitoneum\n",
      "8838:Other computerized axial tomography\n",
      "8703:Computerized axial tomography of head\n",
      "========== END ==========\n",
      "None\n",
      "4.4e+08\n",
      "========= START =========\n",
      "========== DXS ==========\n",
      "82003:Fx base femoral nck-clos:Closed fracture of base of neck of femur\n",
      "========== PRS ==========\n",
      "8826:Other skeletal x-ray of pelvis and hip\n",
      "8744:Routine chest x-ray, so described\n",
      "8952:Electrocardiogram\n",
      "8703:Computerized axial tomography of head\n",
      "========== END ==========\n",
      "None\n",
      "3.4e+08\n",
      "========= START =========\n",
      "========== DXS ==========\n",
      "8220:Fracture patella-closed:Closed fracture of patella\n",
      "9110:Abrasion trunk:Abrasion or friction burn of trunk, without mention of infection\n",
      "========== PRS ==========\n",
      "7936:Open reduction of fracture with internal fixation, tibia and fibula\n",
      "7786:Other partial ostectomy, patella\n",
      "========== END ==========\n",
      "None\n",
      "1.3e+09\n",
      "========= START =========\n",
      "========== DXS ==========\n",
      "85220:Traumatic subdural hem:Subdural hemorrhage following injury without mention of open intracranial wound, unspecified state of consciousness\n",
      "8052:Fx dorsal vertebra-close:Closed fracture of dorsal [thoracic] vertebra without mention of spinal cord injury\n",
      "8024:Fx malar/maxillary-close:Closed fracture of malar and maxillary bones\n",
      "71590:Osteoarthros NOS-unspec:Osteoarthrosis, unspecified whether generalized or localized, site unspecified\n",
      "71590:Osteoarthros NOS-unspec:Osteoarthrosis, unspecified whether generalized or localized, site unspecified\n",
      "94123:2nd deg burn lip:Blisters, epidermal loss [second degree] of lip(s)\n",
      "========== END ==========\n",
      "None\n",
      "4.4e+08\n",
      "========= START =========\n",
      "========== DXS ==========\n",
      "85221:Subdural hem w/o coma:Subdural hemorrhage following injury without mention of open intracranial wound, with no loss of consciousness\n",
      "========== PRS ==========\n",
      "8703:Computerized axial tomography of head\n",
      "0131:Incision of cerebral meninges\n",
      "8703:Computerized axial tomography of head\n",
      "8703:Computerized axial tomography of head\n",
      "========== END ==========\n",
      "None\n",
      "7.6e+08\n",
      "========= START =========\n",
      "========== DXS ==========\n",
      "81342:Fx distal radius NEC-cl:Other closed fractures of distal end of radius (alone)\n",
      "81321:Fx radius shaft-closed:Closed fracture of shaft of radius (alone)\n",
      "80849:Pelvic fracture NEC-clos:Closed fracture of other specified part of pelvis\n",
      "8080:Fracture acetabulum-clos:Closed fracture of acetabulum\n",
      "========== PRS ==========\n",
      "========== END ==========\n",
      "None\n",
      "3.0e+08\n",
      "========= START =========\n",
      "========== DXS ==========\n",
      "84509:Sprain of ankle NEC:Other sprains and strains of ankle\n",
      "========== PRS ==========\n",
      "8703:Computerized axial tomography of head\n",
      "8838:Other computerized axial tomography\n",
      "8828:Skeletal x-ray of ankle and foot\n",
      "8364:Other suture of tendon\n",
      "========== END ==========\n",
      "None\n",
      "7.6e+08\n",
      "========= START =========\n",
      "========== DXS ==========\n",
      "8730:Open wound of scalp:Open wound of scalp, without mention of complication\n",
      "85201:Subarachnoid hem-no coma:Subarachnoid hemorrhage following injury without mention of open intracranial wound, with no loss of consciousness\n",
      "81002:Fx clavicle shaft-closed:Closed fracture of shaft of clavicle\n",
      "========== PRS ==========\n",
      "8801:Computerized axial tomography of abdomen\n",
      "8703:Computerized axial tomography of head\n",
      "========== END ==========\n",
      "None\n",
      "3.4e+08\n",
      "========= START =========\n",
      "========== DXS ==========\n",
      "9100:Abrasion head:Abrasion or friction burn of face, neck, and scalp except eye, without mention of infection\n",
      "90089:Inj head/neck vessel NEC:Injury to other specified blood vessels of head and neck\n",
      "80502:Fx c2 vertebra-closed:Closed fracture of second cervical vertebra\n",
      "80501:Fx c1 vertebra-closed:Closed fracture of first cervical vertebra\n",
      "========== PRS ==========\n",
      "8838:Other computerized axial tomography\n",
      "========== END ==========\n",
      "None\n",
      "3.4e+08\n",
      "========= START =========\n",
      "========== DXS ==========\n",
      "81342:Fx distal radius NEC-cl:Other closed fractures of distal end of radius (alone)\n",
      "8054:Fx lumbar vertebra-close:Closed fracture of lumbar vertebra without mention of spinal cord injury\n",
      "80507:Fx c7 vertebra-closed:Closed fracture of seventh cervical vertebra\n",
      "8024:Fx malar/maxillary-close:Closed fracture of malar and maxillary bones\n",
      "8020:Nasal bone fx-closed:Closed fracture of nasal bones\n",
      "========== PRS ==========\n",
      "========== END ==========\n",
      "None\n",
      "1.3e+09\n",
      "========= START =========\n",
      "========== DXS ==========\n",
      "95209:C5-c7 spin cord inj NEC:C5-C7 level with other specified spinal cord injury\n",
      "83907:Disloc 7th cerv vert-cl:Closed dislocation, seventh cervical vertebra\n",
      "83906:Disloc 6th cerv vert-cl:Closed dislocation, sixth cervical vertebra\n",
      "========== PRS ==========\n",
      "8102:Other cervical fusion of the anterior column, anterior technique\n",
      "8051:Excision of intervertebral disc\n",
      "========== END ==========\n",
      "None\n",
      "5.5e+08\n",
      "========= START =========\n",
      "========== DXS ==========\n",
      "8054:Fx lumbar vertebra-close:Closed fracture of lumbar vertebra without mention of spinal cord injury\n",
      "========== PRS ==========\n",
      "8166:Percutaneous vertebral augmentation\n",
      "8838:Other computerized axial tomography\n",
      "8828:Skeletal x-ray of ankle and foot\n",
      "8839:X-ray, other and unspecified\n",
      "========== END ==========\n",
      "None\n",
      "3.4e+08\n",
      "========= START =========\n",
      "========== DXS ==========\n",
      "8522:Subdural hemorrhage following injury without mention of open intracranial wound:None\n",
      "========== PRS ==========\n",
      "8838:Other computerized axial tomography\n",
      "8703:Computerized axial tomography of head\n",
      "8871:Diagnostic ultrasound of head and neck\n",
      "8872:Diagnostic ultrasound of heart\n",
      "========== END ==========\n",
      "None\n"
     ]
    }
   ],
   "source": [
    "for i in range(PRINT_SEQUENCES):\n",
    "    if '<UNK>' not in e8859_gen_seq[e8859_anomaly[i][0]]:\n",
    "        print(format(e8859_anomaly[i][1], '.1e'))\n",
    "        print(print_seq_dsc(e8859_gen_seq[e8859_anomaly[i][0]]))"
   ]
  },
  {
   "cell_type": "markdown",
   "id": "0fcb7a3b-09c4-4ae7-b985-7b6faa92aaae",
   "metadata": {
    "tags": []
   },
   "source": [
    "# E966.0"
   ]
  },
  {
   "cell_type": "code",
   "execution_count": 46,
   "id": "0478f456-554f-4e00-b79c-1708c8374457",
   "metadata": {},
   "outputs": [],
   "source": [
    "e9660_trn_all_token_layer_embeddings = np.load(\"./outputs/e9660_trn_all_em.npy\", allow_pickle=True)\n",
    "e9660_gen_all_token_layer_embeddings = np.load(\"./outputs/e9660_gen_all_em.npy\", allow_pickle=True)\n",
    "e9660_trn_end_token_layer_embeddings = torch.stack([x[-1,:,:] for x in e9660_trn_all_token_layer_embeddings])\n",
    "e9660_gen_end_token_layer_embeddings = torch.stack([x[-1,:,:] for x in e9660_gen_all_token_layer_embeddings])"
   ]
  },
  {
   "cell_type": "code",
   "execution_count": 47,
   "id": "043efd38-2f1a-4143-9fe1-4dcd28c299a2",
   "metadata": {},
   "outputs": [
    {
     "data": {
      "text/plain": [
       "(4677,)"
      ]
     },
     "execution_count": 47,
     "metadata": {},
     "output_type": "execute_result"
    }
   ],
   "source": [
    "e9660_trn_all_token_layer_embeddings.shape"
   ]
  },
  {
   "cell_type": "code",
   "execution_count": 48,
   "id": "22459001-aebf-4081-a5a9-75bbfc6b5840",
   "metadata": {},
   "outputs": [],
   "source": [
    "e9660_trn_end_token_layer_embeddings = e9660_trn_end_token_layer_embeddings[:int(len(e9660_trn_end_token_layer_embeddings)*TRN_FRAC),:,:]\n",
    "e9660_tst_end_token_layer_embeddings = e9660_trn_end_token_layer_embeddings[int(len(e9660_trn_end_token_layer_embeddings)*TRN_FRAC):,:,:]"
   ]
  },
  {
   "cell_type": "code",
   "execution_count": 49,
   "id": "97829bc6-9969-445d-a3aa-a0d448a077cb",
   "metadata": {},
   "outputs": [],
   "source": [
    "cov_estimator3 = sklearn.covariance.EmpiricalCovariance(assume_centered=False)"
   ]
  },
  {
   "cell_type": "code",
   "execution_count": 50,
   "id": "d5a0019e-2ae4-4792-b6f7-8a53a9eef22c",
   "metadata": {},
   "outputs": [
    {
     "name": "stderr",
     "output_type": "stream",
     "text": [
      "100%|███████████████████████████████████████████████████████████████| 13/13 [00:00<00:00, 13.81it/s]\n",
      "100%|███████████████████████████████████████████████████████████████| 13/13 [00:00<00:00, 20.14it/s]\n",
      "100%|██████████████████████████████████████████████████████████████| 13/13 [00:00<00:00, 384.86it/s]\n",
      "100%|███████████████████████████████████████████████████████████████| 13/13 [00:00<00:00, 14.66it/s]\n"
     ]
    }
   ],
   "source": [
    "e9660_trn_end_token_mean, e9660_trn_end_token_inv_cov = get_empirical_mean_cov(cov_estimator3, e9660_trn_end_token_layer_embeddings)\n",
    "e9660_trn_mdf = get_mdf(torch.Tensor(e9660_trn_end_token_layer_embeddings), e9660_trn_end_token_mean, e9660_trn_end_token_inv_cov)\n",
    "e9660_tst_mdf = get_mdf(torch.Tensor(e9660_tst_end_token_layer_embeddings), e9660_trn_end_token_mean, e9660_trn_end_token_inv_cov)\n",
    "e9660_ood_mdf = get_mdf(torch.Tensor(e9660_gen_end_token_layer_embeddings), e9660_trn_end_token_mean, e9660_trn_end_token_inv_cov)"
   ]
  },
  {
   "cell_type": "code",
   "execution_count": 51,
   "id": "1ecac5eb-b7e9-4db8-b62d-0f9f1058592e",
   "metadata": {},
   "outputs": [
    {
     "name": "stderr",
     "output_type": "stream",
     "text": [
      "/tmp/ipykernel_255395/963709382.py:8: UserWarning: you are shuffling a 'Tensor' object which is not a subclass of 'Sequence'; `shuffle` is not guaranteed to behave correctly. E.g., non-numpy array/tensor objects with view semantics may contain duplicates after shuffling.\n",
      "  np.random.shuffle(test_mdf)\n",
      "/tmp/ipykernel_255395/963709382.py:9: UserWarning: you are shuffling a 'Tensor' object which is not a subclass of 'Sequence'; `shuffle` is not guaranteed to behave correctly. E.g., non-numpy array/tensor objects with view semantics may contain duplicates after shuffling.\n",
      "  np.random.shuffle(ood_mdf)\n",
      " 27%|█████████████████▍                                              | 3/11 [00:00<00:00, 22.50it/s]"
     ]
    },
    {
     "name": "stdout",
     "output_type": "stream",
     "text": [
      "running ---: kernel: linear nuu: 1e-15\n",
      "running ---: kernel: linear nuu: 1e-12\n",
      "running ---: kernel: linear nuu: 1e-09\n",
      "running ---: kernel: linear nuu: 1e-07\n",
      "running ---: kernel: linear nuu: 1e-05\n"
     ]
    },
    {
     "name": "stderr",
     "output_type": "stream",
     "text": [
      " 55%|██████████████████████████████████▉                             | 6/11 [00:00<00:00, 24.06it/s]"
     ]
    },
    {
     "name": "stdout",
     "output_type": "stream",
     "text": [
      "running ---: kernel: linear nuu: 0.001\n",
      "running ---: kernel: linear nuu: 0.01\n",
      "running ---: kernel: linear nuu: 0.1\n",
      "running ---: kernel: linear nuu: 0.2\n"
     ]
    },
    {
     "name": "stderr",
     "output_type": "stream",
     "text": [
      " 82%|████████████████████████████████████████████████████▎           | 9/11 [00:00<00:00, 11.89it/s]"
     ]
    },
    {
     "name": "stdout",
     "output_type": "stream",
     "text": [
      "running ---: kernel: linear nuu: 0.5\n",
      "running ---: kernel: linear nuu: 1\n"
     ]
    },
    {
     "name": "stderr",
     "output_type": "stream",
     "text": [
      "/home/paul/anaconda3/envs/stemmler/lib/python3.8/site-packages/sklearn/svm/_classes.py:1661: RuntimeWarning: invalid value encountered in add\n",
      "  return self.decision_function(X) + self.offset_\n",
      "/home/paul/anaconda3/envs/stemmler/lib/python3.8/site-packages/sklearn/svm/_classes.py:1661: RuntimeWarning: invalid value encountered in add\n",
      "  return self.decision_function(X) + self.offset_\n",
      "100%|███████████████████████████████████████████████████████████████| 11/11 [00:01<00:00,  6.01it/s]"
     ]
    },
    {
     "name": "stdout",
     "output_type": "stream",
     "text": [
      " AUROC  DTACC  AUIN   AUOUT \n",
      " 76.62  68.44  37.14  97.40\n",
      "best hyper linear-1e-12\n",
      "saving data for plotting\n",
      "-------------------------------\n"
     ]
    },
    {
     "name": "stderr",
     "output_type": "stream",
     "text": [
      "\n"
     ]
    }
   ],
   "source": [
    "e9660_score, e9660_det = get_score(e9660_trn_mdf, e9660_tst_mdf, e9660_ood_mdf, 'E9660')"
   ]
  },
  {
   "cell_type": "code",
   "execution_count": 52,
   "id": "3b6d1ebd-6751-4c06-a6c3-31bbbfc5b5f7",
   "metadata": {},
   "outputs": [],
   "source": [
    "e9660_score_df = pd.DataFrame(e9660_score)"
   ]
  },
  {
   "cell_type": "code",
   "execution_count": 53,
   "id": "52d90a31-2cc3-4786-b390-9000fa629974",
   "metadata": {},
   "outputs": [
    {
     "data": {
      "image/png": "[encoded data removed]",
      "text/plain": [
       "<Figure size 432x288 with 1 Axes>"
      ]
     },
     "metadata": {
      "needs_background": "light"
     },
     "output_type": "display_data"
    }
   ],
   "source": [
    "plot_scores(e9660_score_df)"
   ]
  },
  {
   "cell_type": "code",
   "execution_count": 54,
   "id": "33897a49-0b9e-4d37-8b1d-7849e7aefc58",
   "metadata": {},
   "outputs": [],
   "source": [
    "y3 = e9660_det.score_samples(e9660_ood_mdf)"
   ]
  },
  {
   "cell_type": "code",
   "execution_count": 55,
   "id": "c04ca0b7-30de-4848-b95f-446aea04e747",
   "metadata": {},
   "outputs": [],
   "source": [
    "split3 = 0.001"
   ]
  },
  {
   "cell_type": "code",
   "execution_count": 56,
   "id": "c438650f-7852-4569-945d-862dd56b8fc1",
   "metadata": {},
   "outputs": [],
   "source": [
    "e9660_normal = []\n",
    "for i,o in enumerate(y3):\n",
    "    if o < split3:\n",
    "        e9660_normal.append((i,o))"
   ]
  },
  {
   "cell_type": "code",
   "execution_count": 57,
   "id": "fa753bd9-774e-416f-80b8-d7ae38dbac73",
   "metadata": {},
   "outputs": [],
   "source": [
    "e9660_anomaly = []\n",
    "for i,o in enumerate(y3):\n",
    "    if o >= split3:\n",
    "        e9660_anomaly.append((i,o))"
   ]
  },
  {
   "cell_type": "code",
   "execution_count": 58,
   "id": "634daa6d-83c9-4b3e-b2b9-113db6fad761",
   "metadata": {},
   "outputs": [
    {
     "name": "stdout",
     "output_type": "stream",
     "text": [
      "Normal: 3958 Anomaly: 1043\n"
     ]
    }
   ],
   "source": [
    "print('Normal:', len(e9660_normal), 'Anomaly:', len(e9660_anomaly))"
   ]
  },
  {
   "cell_type": "code",
   "execution_count": 59,
   "id": "715f35bb-d817-4354-8947-2b5a06003635",
   "metadata": {
    "tags": []
   },
   "outputs": [
    {
     "name": "stdout",
     "output_type": "stream",
     "text": [
      "7.2e-04\n",
      "========= START =========\n",
      "========== DXS ==========\n",
      "88003:Open wound of upper arm:Open wound of upper arm, without mention of complication\n",
      "8760:Open wound of back:Open wound of back, without mention of complication\n",
      "========== PRS ==========\n",
      "8659:Closure of skin and subcutaneous tissue of other sites\n",
      "8879:Other diagnostic ultrasound\n",
      "8744:Routine chest x-ray, so described\n",
      "8878:Diagnostic ultrasound of gravid uterus\n",
      "8741:Computerized axial tomography of thorax\n",
      "========== END ==========\n",
      "None\n",
      "5.8e-04\n",
      "========= START =========\n",
      "========== DXS ==========\n",
      "8900:Open wound of hip/thigh:Open wound of hip and thigh, without mention of complication\n",
      "88100:Open wound of forearm:Open wound of forearm, without mention of complication\n",
      "8792:Opn wnd anterior abdomen:Open wound of abdominal wall, anterior, without mention of complication\n",
      "8760:Open wound of back:Open wound of back, without mention of complication\n",
      "8730:Open wound of scalp:Open wound of scalp, without mention of complication\n",
      "8931:Open wound toe-compl:Open wound of toe(s), complicated\n",
      "========== PRS ==========\n",
      "========== END ==========\n",
      "None\n",
      "7.2e-04\n",
      "========= START =========\n",
      "========== DXS ==========\n",
      "9033:Injury ulnar vessels:Injury to ulnar blood vessels\n",
      "88122:Opn wound wrist w tendon:Open wound of wrist, with tendon involvement\n",
      "========== PRS ==========\n",
      "8659:Closure of skin and subcutaneous tissue of other sites\n",
      "8364:Other suture of tendon\n",
      "3931:Suture of artery\n",
      "3883:Other surgical occlusion of vessels, upper limb vessels\n",
      "8364:Other suture of tendon\n",
      "========== END ==========\n",
      "None\n",
      "7.2e-04\n",
      "========= START =========\n",
      "========== DXS ==========\n",
      "9551:Injury median nerve:Injury to median nerve\n",
      "9033:Injury ulnar vessels:Injury to ulnar blood vessels\n",
      "88122:Opn wound wrist w tendon:Open wound of wrist, with tendon involvement\n",
      "88120:Open wnd forearm w tendn:Open wound of forearm, with tendon involvement\n",
      "========== PRS ==========\n",
      "8364:Other suture of tendon\n",
      "043:Suture of cranial and peripheral nerves\n",
      "3883:Other surgical occlusion of vessels, upper limb vessels\n",
      "========== END ==========\n",
      "None\n",
      "7.2e-04\n",
      "========= START =========\n",
      "========== DXS ==========\n",
      "8748:Open wound of neck NEC:Open wound of other and unspecified parts of neck, without mention of complication\n",
      "875:Open wound of chest (wall):None\n",
      "========== PRS ==========\n",
      "3471:Suture of laceration of chest wall\n",
      "8659:Closure of skin and subcutaneous tissue of other sites\n",
      "9672:Continuous invasive mechanical ventilation for 96 consecutive hours or more\n",
      "8659:Closure of skin and subcutaneous tissue of other sites\n",
      "3409:Other incision of pleura\n",
      "========== END ==========\n",
      "None\n",
      "9.8e-04\n",
      "========= START =========\n",
      "========== DXS ==========\n",
      "8605:Traum pneumohemothor-opn:Traumatic pneumohemothorax with open wound into thorax\n",
      "========== PRS ==========\n",
      "3409:Other incision of pleura\n",
      "5411:Exploratory laparotomy\n",
      "3404:Insertion of intercostal catheter for drainage\n",
      "3402:Exploratory thoracotomy\n",
      "3451:Decortication of lung\n",
      "3893:Venous catheterization, not elsewhere classified\n",
      "========== END ==========\n",
      "None\n",
      "8.7e-04\n",
      "========= START =========\n",
      "========== DXS ==========\n",
      "86329:Small intest inj NEC-cl:Other injury to small intestine, without mention of open wound into cavity\n",
      "86612:Kidney laceration-open:Injury to kidney with open wound into cavity, laceration\n",
      "========== PRS ==========\n",
      "8722:Other x-ray of cervical spine\n",
      "8744:Routine chest x-ray, so described\n",
      "4673:Suture of laceration of small intestine, except duodenum\n",
      "4461:Suture of laceration of stomach\n",
      "========== END ==========\n",
      "None\n",
      "9.8e-04\n",
      "========= START =========\n",
      "========== DXS ==========\n",
      "88003:Open wound of upper arm:Open wound of upper arm, without mention of complication\n",
      "========== PRS ==========\n",
      "3931:Suture of artery\n",
      "8689:Other repair and reconstruction of skin and subcutaneous tissue\n",
      "8245:Other suture of other tendon of hand\n",
      "0881:Linear repair of laceration of eyelid or eyebrow\n",
      "8622:Excisional debridement of wound, infection, or burn\n",
      "========== END ==========\n",
      "None\n",
      "8.2e-04\n",
      "========= START =========\n",
      "========== DXS ==========\n",
      "88003:Open wound of upper arm:Open wound of upper arm, without mention of complication\n",
      "8801:Open wound of shoulder and upper arm complicated:None\n",
      "8605:Traum pneumohemothor-opn:Traumatic pneumohemothorax with open wound into thorax\n",
      "8601:Traum pneumothorax-open:Traumatic pneumothorax with open wound into thorax\n",
      "========== PRS ==========\n",
      "8659:Closure of skin and subcutaneous tissue of other sites\n",
      "8302:Myotomy\n",
      "8741:Computerized axial tomography of thorax\n",
      "========== END ==========\n",
      "None\n",
      "4.9e-04\n",
      "========= START =========\n",
      "========== DXS ==========\n",
      "8910:Open wnd knee/leg/ankle:Open wound of knee, leg [except thigh], and ankle, without mention of complication\n",
      "8900:Open wound of hip/thigh:Open wound of hip and thigh, without mention of complication\n",
      "88100:Open wound of forearm:Open wound of forearm, without mention of complication\n",
      "8794:Opn wnd lateral abdomen:Open wound of abdominal wall, lateral, without mention of complication\n",
      "81510:Fx metacarpal NOS-open:Open fracture of metacarpal bone(s), site unspecified\n",
      "========== PRS ==========\n",
      "884:Unknown Code\n",
      "========== END ==========\n",
      "None\n",
      "5.7e-04\n",
      "========= START =========\n",
      "========== DXS ==========\n",
      "90233:Injury portal vein:Injury to portal vein\n",
      "86412:Liver lacerat, minor-opn:Injury to liver with open wound into cavity, laceration, minor\n",
      "86239:Intrathorac inj NEC-open:Injury to other specified intrathoracic organs with open wound into cavity\n",
      "8621:Diaphragm injury-open:Injury to diaphragm, with open wound into cavity\n",
      "86113:Heart chamber lacer-opn:Laceration of heart with penetration of heart chambers with open wound into thorax\n",
      "8603:Traum hemothorax-open:Traumatic hemothorax with open wound into thorax\n",
      "8601:Traum pneumothorax-open:Traumatic pneumothorax with open wound into thorax\n",
      "========== PRS ==========\n",
      "========== END ==========\n",
      "None\n",
      "2.2e-04\n",
      "========= START =========\n",
      "========== DXS ==========\n",
      "90289:Inj abdominal vessel NEC:Injury to other specified blood vessels of abdomen and pelvis\n",
      "========== PRS ==========\n",
      "3886:Other surgical occlusion of vessels, abdominal arteries\n",
      "5492:Removal of foreign body from peritoneal cavity\n",
      "5463:Other suture of abdominal wall\n",
      "5411:Exploratory laparotomy\n",
      "3926:Other intra-abdominal vascular shunt or bypass\n",
      "========== END ==========\n",
      "None\n",
      "6.9e-04\n",
      "========= START =========\n",
      "========== DXS ==========\n",
      "8794:Opn wnd lateral abdomen:Open wound of abdominal wall, lateral, without mention of complication\n",
      "========== PRS ==========\n",
      "3893:Venous catheterization, not elsewhere classified\n",
      "9918:Injection or infusion of electrolytes\n",
      "9929:Injection or infusion of other therapeutic or prophylactic substance\n",
      "8801:Computerized axial tomography of abdomen\n",
      "8876:Diagnostic ultrasound of abdomen and retroperitoneum\n",
      "8659:Closure of skin and subcutaneous tissue of other sites\n",
      "========== END ==========\n",
      "None\n",
      "6.8e-04\n",
      "========= START =========\n",
      "========== DXS ==========\n",
      "8792:Opn wnd anterior abdomen:Open wound of abdominal wall, anterior, without mention of complication\n",
      "========== PRS ==========\n",
      "8628:Nonexcisional debridement of wound, infection or burn\n",
      "8744:Routine chest x-ray, so described\n",
      "9922:Injection of other anti-infective\n",
      "8801:Computerized axial tomography of abdomen\n",
      "8741:Computerized axial tomography of thorax\n",
      "8838:Other computerized axial tomography\n",
      "========== END ==========\n",
      "None\n",
      "4.7e-04\n",
      "========= START =========\n",
      "========== DXS ==========\n",
      "8792:Opn wnd anterior abdomen:Open wound of abdominal wall, anterior, without mention of complication\n",
      "========== PRS ==========\n",
      "8622:Excisional debridement of wound, infection, or burn\n",
      "8659:Closure of skin and subcutaneous tissue of other sites\n",
      "8838:Other computerized axial tomography\n",
      "5794:Insertion of indwelling urinary catheter\n",
      "8876:Diagnostic ultrasound of abdomen and retroperitoneum\n",
      "8801:Computerized axial tomography of abdomen\n",
      "========== END ==========\n",
      "None\n",
      "8.7e-04\n",
      "========= START =========\n",
      "========== DXS ==========\n",
      "88000:Open wound of shoulder:Open wound of shoulder region, without mention of complication\n",
      "8750:Open wound of chest:Open wound of chest (wall), without mention of complication\n",
      "85405:Brain inj NEC-deep coma:Intracranial injury of other and unspecified nature without mention of open intracranial wound, with prolonged [more than 24 hours] loss of consciousness without return to pre-existing conscious level\n",
      "========== PRS ==========\n",
      "3323:Other bronchoscopy\n",
      "996:Unknown Code\n",
      "3409:Other incision of pleura\n",
      "3402:Exploratory thoracotomy\n",
      "========== END ==========\n",
      "None\n"
     ]
    }
   ],
   "source": [
    "for i in range(PRINT_SEQUENCES):\n",
    "    if '<UNK>' not in e9660_gen_seq[e9660_normal[i][0]]:\n",
    "        print(format(e9660_normal[i][1], '.1e'))\n",
    "        print(print_seq_dsc(e9660_gen_seq[e9660_normal[i][0]]))"
   ]
  },
  {
   "cell_type": "code",
   "execution_count": 60,
   "id": "d7703bff-7600-4e5b-9dea-92e81ca4bb32",
   "metadata": {},
   "outputs": [
    {
     "name": "stdout",
     "output_type": "stream",
     "text": [
      "3.7e-03\n",
      "========= START =========\n",
      "========== DXS ==========\n",
      "8604:Traum pneumohemothor-cl:Traumatic pneumohemothorax without mention of open wound into thorax\n",
      "80711:Fracture one rib-open:Open fracture of one rib\n",
      "========== PRS ==========\n",
      "9604:Insertion of endotracheal tube\n",
      "967:Unknown Code\n",
      "3404:Insertion of intercostal catheter for drainage\n",
      "3452:Thoracoscopic decortication of lung\n",
      "========== END ==========\n",
      "None\n",
      "3.7e-03\n",
      "========= START =========\n",
      "========== DXS ==========\n",
      "8798:Open wound site NOS:Open wound(s) (multiple) of unspecified site(s), without mention of complication\n",
      "88003:Open wound of upper arm:Open wound of upper arm, without mention of complication\n",
      "8750:Open wound of chest:Open wound of chest (wall), without mention of complication\n",
      "8605:Traum pneumohemothor-opn:Traumatic pneumohemothorax with open wound into thorax\n",
      "========== PRS ==========\n",
      "3404:Insertion of intercostal catheter for drainage\n",
      "3421:Transpleural thoracoscopy\n",
      "========== END ==========\n",
      "None\n",
      "3.7e-03\n",
      "========= START =========\n",
      "========== DXS ==========\n",
      "88000:Open wound of shoulder:Open wound of shoulder region, without mention of complication\n",
      "8794:Opn wnd lateral abdomen:Open wound of abdominal wall, lateral, without mention of complication\n",
      "8792:Opn wnd anterior abdomen:Open wound of abdominal wall, anterior, without mention of complication\n",
      "8760:Open wound of back:Open wound of back, without mention of complication\n",
      "========== PRS ==========\n",
      "8741:Computerized axial tomography of thorax\n",
      "8821:Skeletal x-ray of shoulder and upper arm\n",
      "8801:Computerized axial tomography of abdomen\n",
      "========== END ==========\n",
      "None\n",
      "1.2e-03\n",
      "========= START =========\n",
      "========== DXS ==========\n",
      "8792:Opn wnd anterior abdomen:Open wound of abdominal wall, anterior, without mention of complication\n",
      "86803:Peritoneum injury-closed:Injury to other intra-abdominal organs without mention of open wound into cavity, peritoneum\n",
      "86389:GI injury NEC-closed:Injury to other gastrointestinal sites, without mention of open wound into cavity\n",
      "86330:Small intest inj NOS-opn:Injury to small intestine, unspecified site, with open wound into cavity\n",
      "========== PRS ==========\n",
      "1733:Laparoscopic right hemicolectomy\n",
      "5475:Other repair of mesentery\n",
      "4579:Other and unspecified partial excision of large intestine\n",
      "========== END ==========\n",
      "None\n",
      "1.3e-03\n",
      "========= START =========\n",
      "========== DXS ==========\n",
      "8750:Open wound of chest:Open wound of chest (wall), without mention of complication\n",
      "========== PRS ==========\n",
      "9604:Insertion of endotracheal tube\n",
      "996:Unknown Code\n",
      "3404:Insertion of intercostal catheter for drainage\n",
      "3894:Venous cutdown\n",
      "8876:Diagnostic ultrasound of abdomen and retroperitoneum\n",
      "9904:Transfusion of packed cells\n",
      "========== END ==========\n",
      "None\n",
      "1.2e-03\n",
      "========= START =========\n",
      "========== DXS ==========\n",
      "9211:Contusion periocular:Contusion of eyelids and periocular area\n",
      "9190:Abrasion NEC:Abrasion or friction burn of other, multiple, and unspecified sites, without mention of infection\n",
      "8748:Open wound of neck NEC:Open wound of other and unspecified parts of neck, without mention of complication\n",
      "87341:Open wound of cheek:Open wound of cheek, without mention of complication\n",
      "8629:Intrathorac inj NOS-open:Injury to multiple and unspecified intrathoracic organs, with open wound into cavity\n",
      "========== PRS ==========\n",
      "8659:Closure of skin and subcutaneous tissue of other sites\n",
      "========== END ==========\n",
      "None\n",
      "1.2e-03\n",
      "========= START =========\n",
      "========== DXS ==========\n",
      "9160:Abrasion hip & leg:Abrasion or friction burn of hip, thigh, leg, and ankle, without mention of infection\n",
      "8840:Open wound arm mult/NOS:Multiple and unspecified open wound of upper limb, without mention of complication\n",
      "8792:Opn wnd anterior abdomen:Open wound of abdominal wall, anterior, without mention of complication\n",
      "8940:Open wound of leg NEC:Multiple and unspecified open wound of lower limb, without mention of complication\n",
      "========== PRS ==========\n",
      "5421:Laparoscopy\n",
      "5464:Suture of peritoneum\n",
      "5421:Laparoscopy\n",
      "========== END ==========\n",
      "None\n",
      "5.2e-03\n",
      "========= START =========\n",
      "========== DXS ==========\n",
      "81331:Fx radius shaft-open:Open fracture of shaft of radius (alone)\n",
      "9584:Traumatic shock:Traumatic shock\n",
      "========== PRS ==========\n",
      "8744:Routine chest x-ray, so described\n",
      "8822:Skeletal x-ray of elbow and forearm\n",
      "8872:Diagnostic ultrasound of heart\n",
      "8962:Central venous pressure monitoring\n",
      "9659:Other irrigation of wound\n",
      "========== END ==========\n",
      "None\n",
      "5.2e-03\n",
      "========= START =========\n",
      "========== DXS ==========\n",
      "85305:Brain hem NEC-deep coma:Other and unspecified intracranial hemorrhage following injury without mention of open intracranial wound, with prolonged [more than 24 hours] loss of consciousness without return to pre-existing conscious level\n",
      "80625:T7-t12 fx-cl/crd inj NOS:Closed fracture of T7-T12 level with unspecified spinal cord injury\n",
      "========== PRS ==========\n",
      "9918:Injection or infusion of electrolytes\n",
      "8838:Other computerized axial tomography\n",
      "8722:Other x-ray of cervical spine\n",
      "8163:Fusion or refusion of 4-8 vertebrae\n",
      "8105:Dorsal and dorsolumbar fusion of the posterior column, posterior technique\n",
      "========== END ==========\n",
      "None\n",
      "1.2e-03\n",
      "========= START =========\n",
      "========== DXS ==========\n",
      "9100:Abrasion head:Abrasion or friction burn of face, neck, and scalp except eye, without mention of infection\n",
      "8798:Open wound site NOS:Open wound(s) (multiple) of unspecified site(s), without mention of complication\n",
      "8621:Diaphragm injury-open:Injury to diaphragm, with open wound into cavity\n",
      "8603:Traum hemothorax-open:Traumatic hemothorax with open wound into thorax\n",
      "81220:Fx humerus NOS-closed:Closed fracture of unspecified part of humerus\n",
      "80702:Fracture two ribs-closed:Closed fracture of two ribs\n",
      "========== PRS ==========\n",
      "5794:Insertion of indwelling urinary catheter\n",
      "========== END ==========\n",
      "None\n",
      "1.4e-03\n",
      "========= START =========\n",
      "========== DXS ==========\n",
      "9010:Injury thoracic aorta:Injury to thoracic aorta\n",
      "8750:Open wound of chest:Open wound of chest (wall), without mention of complication\n",
      "880:Open wound of shoulder and upper arm:None\n",
      "8760:Open wound of back:Open wound of back, without mention of complication\n",
      "8750:Open wound of chest:Open wound of chest (wall), without mention of complication\n",
      "8601:Traum pneumothorax-open:Traumatic pneumothorax with open wound into thorax\n",
      "========== PRS ==========\n",
      "3404:Insertion of intercostal catheter for drainage\n",
      "========== END ==========\n",
      "None\n",
      "1.3e-03\n",
      "========= START =========\n",
      "========== DXS ==========\n",
      "88003:Open wound of upper arm:Open wound of upper arm, without mention of complication\n",
      "88000:Open wound of shoulder:Open wound of shoulder region, without mention of complication\n",
      "========== PRS ==========\n",
      "8659:Closure of skin and subcutaneous tissue of other sites\n",
      "8659:Closure of skin and subcutaneous tissue of other sites\n",
      "9741:Removal of thoracotomy tube or pleural cavity drain\n",
      "9741:Removal of thoracotomy tube or pleural cavity drain\n",
      "========== END ==========\n",
      "None\n",
      "1.3e-03\n",
      "========= START =========\n",
      "========== DXS ==========\n",
      "8940:Open wound of leg NEC:Multiple and unspecified open wound of lower limb, without mention of complication\n",
      "8750:Open wound of chest:Open wound of chest (wall), without mention of complication\n",
      "8601:Traum pneumothorax-open:Traumatic pneumothorax with open wound into thorax\n",
      "80702:Fracture two ribs-closed:Closed fracture of two ribs\n",
      "========== PRS ==========\n",
      "3927:Arteriovenostomy for renal dialysis\n",
      "3404:Insertion of intercostal catheter for drainage\n",
      "8659:Closure of skin and subcutaneous tissue of other sites\n",
      "========== END ==========\n",
      "None\n",
      "1.1e-03\n",
      "========= START =========\n",
      "========== DXS ==========\n",
      "8794:Opn wnd lateral abdomen:Open wound of abdominal wall, lateral, without mention of complication\n",
      "========== PRS ==========\n",
      "9604:Insertion of endotracheal tube\n",
      "9671:Continuous invasive mechanical ventilation for less than 96 consecutive hours\n",
      "5411:Exploratory laparotomy\n",
      "9901:Exchange transfusion\n",
      "5419:Other laparotomy\n",
      "========== END ==========\n",
      "None\n",
      "1.1e-03\n",
      "========= START =========\n",
      "========== DXS ==========\n",
      "9514:Injury to facial nerve:Injury to facial nerve\n",
      "8714:Laceration of eye NOS:Unspecified laceration of eye\n",
      "8024:Fx malar/maxillary-close:Closed fracture of malar and maxillary bones\n",
      "========== PRS ==========\n",
      "8838:Other computerized axial tomography\n",
      "8659:Closure of skin and subcutaneous tissue of other sites\n",
      "9659:Other irrigation of wound\n",
      "8703:Computerized axial tomography of head\n",
      "========== END ==========\n",
      "None\n",
      "3.7e-03\n",
      "========= START =========\n",
      "========== DXS ==========\n",
      "8748:Open wound of neck NEC:Open wound of other and unspecified parts of neck, without mention of complication\n",
      "88100:Open wound of forearm:Open wound of forearm, without mention of complication\n",
      "8600:Traum pneumothorax-close:Traumatic pneumothorax without mention of open wound into thorax\n",
      "81100:Fx scapula NOS-closed:Closed fracture of scapula, unspecified part\n",
      "8052:Fx dorsal vertebra-close:Closed fracture of dorsal [thoracic] vertebra without mention of spinal cord injury\n",
      "========== PRS ==========\n",
      "8749:Other chest x-ray\n",
      "8749:Other chest x-ray\n",
      "========== END ==========\n",
      "None\n",
      "1.2e-03\n",
      "========= START =========\n",
      "========== DXS ==========\n",
      "8601:Traum pneumothorax-open:Traumatic pneumothorax with open wound into thorax\n",
      "========== PRS ==========\n",
      "8872:Diagnostic ultrasound of heart\n",
      "8744:Routine chest x-ray, so described\n",
      "8876:Diagnostic ultrasound of abdomen and retroperitoneum\n",
      "3404:Insertion of intercostal catheter for drainage\n",
      "8741:Computerized axial tomography of thorax\n",
      "========== END ==========\n",
      "None\n",
      "5.2e-03\n",
      "========= START =========\n",
      "========== DXS ==========\n",
      "86330:Small intest inj NOS-opn:Injury to small intestine, unspecified site, with open wound into cavity\n",
      "8798:Open wound site NOS:Open wound(s) (multiple) of unspecified site(s), without mention of complication\n",
      "========== PRS ==========\n",
      "5411:Exploratory laparotomy\n",
      "5061:Closure of laceration of liver\n",
      "4675:Suture of laceration of large intestine\n",
      "5689:Other repair of ureter\n",
      "========== END ==========\n",
      "None\n"
     ]
    }
   ],
   "source": [
    "for i in range(PRINT_SEQUENCES):\n",
    "    if '<UNK>' not in e9660_gen_seq[e9660_anomaly[i][0]]:\n",
    "        print(format(e9660_anomaly[i][1], '.1e'))\n",
    "        print(print_seq_dsc(e9660_gen_seq[e9660_anomaly[i][0]]))"
   ]
  },
  {
   "cell_type": "markdown",
   "id": "468014fa-03e1-44dc-89a8-32469a105e99",
   "metadata": {
    "tags": []
   },
   "source": [
    "# E965.4"
   ]
  },
  {
   "cell_type": "code",
   "execution_count": 61,
   "id": "2ca68372-b100-4455-9a3f-c4cea321f18a",
   "metadata": {},
   "outputs": [],
   "source": [
    "e9654_trn_all_token_layer_embeddings = np.load(\"./outputs/e9654_trn_all_em.npy\", allow_pickle=True)\n",
    "e9654_gen_all_token_layer_embeddings = np.load(\"./outputs/e9654_gen_all_em.npy\", allow_pickle=True)\n",
    "e9654_trn_end_token_layer_embeddings = torch.stack([x[-1,:,:] for x in e9654_trn_all_token_layer_embeddings])\n",
    "e9654_gen_end_token_layer_embeddings = torch.stack([x[-1,:,:] for x in e9654_gen_all_token_layer_embeddings])"
   ]
  },
  {
   "cell_type": "code",
   "execution_count": 62,
   "id": "7227e1e2-a065-4d37-a03a-550c11d5dbb0",
   "metadata": {},
   "outputs": [
    {
     "data": {
      "text/plain": [
       "(4206,)"
      ]
     },
     "execution_count": 62,
     "metadata": {},
     "output_type": "execute_result"
    }
   ],
   "source": [
    "e9654_trn_all_token_layer_embeddings.shape"
   ]
  },
  {
   "cell_type": "code",
   "execution_count": 63,
   "id": "cd162df2-99e3-49ef-9900-7ebb2c7aa50b",
   "metadata": {},
   "outputs": [],
   "source": [
    "e9654_trn_end_token_layer_embeddings = e9654_trn_end_token_layer_embeddings[:int(len(e9654_trn_end_token_layer_embeddings)*TRN_FRAC),:,:]\n",
    "e9654_tst_end_token_layer_embeddings = e9654_trn_end_token_layer_embeddings[int(len(e9654_trn_end_token_layer_embeddings)*TRN_FRAC):,:,:]"
   ]
  },
  {
   "cell_type": "code",
   "execution_count": 64,
   "id": "1ab162e9-1378-46bf-8666-db8a559c4b1b",
   "metadata": {},
   "outputs": [],
   "source": [
    "cov_estimator4 = sklearn.covariance.EmpiricalCovariance(assume_centered=False)"
   ]
  },
  {
   "cell_type": "code",
   "execution_count": 65,
   "id": "e35d3432-ef31-4932-a5ad-336d22b8b908",
   "metadata": {},
   "outputs": [
    {
     "name": "stderr",
     "output_type": "stream",
     "text": [
      "100%|███████████████████████████████████████████████████████████████| 13/13 [00:00<00:00, 16.97it/s]\n",
      "100%|███████████████████████████████████████████████████████████████| 13/13 [00:00<00:00, 22.33it/s]\n",
      "100%|██████████████████████████████████████████████████████████████| 13/13 [00:00<00:00, 544.25it/s]\n",
      "100%|███████████████████████████████████████████████████████████████| 13/13 [00:00<00:00, 16.26it/s]\n"
     ]
    }
   ],
   "source": [
    "e9654_trn_end_token_mean, e9654_trn_end_token_inv_cov = get_empirical_mean_cov(cov_estimator4, e9654_trn_end_token_layer_embeddings)\n",
    "e9654_trn_mdf = get_mdf(torch.Tensor(e9654_trn_end_token_layer_embeddings), e9654_trn_end_token_mean, e9654_trn_end_token_inv_cov)\n",
    "e9654_tst_mdf = get_mdf(torch.Tensor(e9654_tst_end_token_layer_embeddings), e9654_trn_end_token_mean, e9654_trn_end_token_inv_cov)\n",
    "e9654_ood_mdf = get_mdf(torch.Tensor(e9654_gen_end_token_layer_embeddings), e9654_trn_end_token_mean, e9654_trn_end_token_inv_cov)"
   ]
  },
  {
   "cell_type": "code",
   "execution_count": 66,
   "id": "08173810-faf2-4904-8768-5b67e37b7945",
   "metadata": {},
   "outputs": [
    {
     "name": "stderr",
     "output_type": "stream",
     "text": [
      "/tmp/ipykernel_255395/963709382.py:8: UserWarning: you are shuffling a 'Tensor' object which is not a subclass of 'Sequence'; `shuffle` is not guaranteed to behave correctly. E.g., non-numpy array/tensor objects with view semantics may contain duplicates after shuffling.\n",
      "  np.random.shuffle(test_mdf)\n",
      "/tmp/ipykernel_255395/963709382.py:9: UserWarning: you are shuffling a 'Tensor' object which is not a subclass of 'Sequence'; `shuffle` is not guaranteed to behave correctly. E.g., non-numpy array/tensor objects with view semantics may contain duplicates after shuffling.\n",
      "  np.random.shuffle(ood_mdf)\n",
      " 27%|█████████████████▍                                              | 3/11 [00:00<00:00, 23.89it/s]"
     ]
    },
    {
     "name": "stdout",
     "output_type": "stream",
     "text": [
      "running ---: kernel: linear nuu: 1e-15\n",
      "running ---: kernel: linear nuu: 1e-12\n",
      "running ---: kernel: linear nuu: 1e-09\n",
      "running ---: kernel: linear nuu: 1e-07\n",
      "running ---: kernel: linear nuu: 1e-05\n"
     ]
    },
    {
     "name": "stderr",
     "output_type": "stream",
     "text": [
      " 55%|██████████████████████████████████▉                             | 6/11 [00:00<00:00, 24.51it/s]"
     ]
    },
    {
     "name": "stdout",
     "output_type": "stream",
     "text": [
      "running ---: kernel: linear nuu: 0.001\n",
      "running ---: kernel: linear nuu: 0.01\n",
      "running ---: kernel: linear nuu: 0.1\n",
      "running ---: kernel: linear nuu: 0.2\n"
     ]
    },
    {
     "name": "stderr",
     "output_type": "stream",
     "text": [
      " 82%|████████████████████████████████████████████████████▎           | 9/11 [00:00<00:00, 13.13it/s]"
     ]
    },
    {
     "name": "stdout",
     "output_type": "stream",
     "text": [
      "running ---: kernel: linear nuu: 0.5\n",
      "running ---: kernel: linear nuu: 1\n"
     ]
    },
    {
     "name": "stderr",
     "output_type": "stream",
     "text": [
      "/home/paul/anaconda3/envs/stemmler/lib/python3.8/site-packages/sklearn/svm/_classes.py:1661: RuntimeWarning: invalid value encountered in add\n",
      "  return self.decision_function(X) + self.offset_\n",
      "/home/paul/anaconda3/envs/stemmler/lib/python3.8/site-packages/sklearn/svm/_classes.py:1661: RuntimeWarning: invalid value encountered in add\n",
      "  return self.decision_function(X) + self.offset_\n",
      "100%|███████████████████████████████████████████████████████████████| 11/11 [00:01<00:00,  6.81it/s]"
     ]
    },
    {
     "name": "stdout",
     "output_type": "stream",
     "text": [
      " AUROC  DTACC  AUIN   AUOUT \n",
      " 80.59  71.75  43.13  98.08\n",
      "best hyper linear-1e-15\n",
      "saving data for plotting\n",
      "-------------------------------\n"
     ]
    },
    {
     "name": "stderr",
     "output_type": "stream",
     "text": [
      "\n"
     ]
    }
   ],
   "source": [
    "e9654_score, e9654_det = get_score(e9654_trn_mdf, e9654_tst_mdf, e9654_ood_mdf, 'E9654')"
   ]
  },
  {
   "cell_type": "code",
   "execution_count": 67,
   "id": "3a69549d-a119-4e5a-a189-70ffd8a003d9",
   "metadata": {},
   "outputs": [],
   "source": [
    "e9654_score_df = pd.DataFrame(e9654_score)"
   ]
  },
  {
   "cell_type": "code",
   "execution_count": 68,
   "id": "9dc58224-f916-4ad4-b733-baab666872ff",
   "metadata": {},
   "outputs": [
    {
     "data": {
      "image/png": "[encoded data removed]",
      "text/plain": [
       "<Figure size 432x288 with 1 Axes>"
      ]
     },
     "metadata": {
      "needs_background": "light"
     },
     "output_type": "display_data"
    }
   ],
   "source": [
    "plot_scores(e9654_score_df)"
   ]
  },
  {
   "cell_type": "code",
   "execution_count": 69,
   "id": "79092e7a-ae35-441b-8f81-eace49e0223d",
   "metadata": {},
   "outputs": [],
   "source": [
    "y4 = e9654_det.score_samples(e9654_ood_mdf)"
   ]
  },
  {
   "cell_type": "code",
   "execution_count": 70,
   "id": "dee07d9c-afc0-4e16-b5ec-860eb00a02b2",
   "metadata": {},
   "outputs": [],
   "source": [
    "split4 = 0.5e-6"
   ]
  },
  {
   "cell_type": "code",
   "execution_count": 71,
   "id": "e548c62a-619a-4537-ae36-6dd1ebe97640",
   "metadata": {},
   "outputs": [],
   "source": [
    "e9654_normal = []\n",
    "for i,o in enumerate(y4):\n",
    "    if o < split4:\n",
    "        e9654_normal.append((i,o))"
   ]
  },
  {
   "cell_type": "code",
   "execution_count": 72,
   "id": "56b2cc63-0f5e-47a8-a9a5-e40314bb7b1f",
   "metadata": {},
   "outputs": [],
   "source": [
    "e9654_anomaly = []\n",
    "for i,o in enumerate(y4):\n",
    "    if o >= split4:\n",
    "        e9654_anomaly.append((i,o))"
   ]
  },
  {
   "cell_type": "code",
   "execution_count": 73,
   "id": "60cac4aa-5914-4ce9-acd1-a5dfa7655d0e",
   "metadata": {},
   "outputs": [
    {
     "name": "stdout",
     "output_type": "stream",
     "text": [
      "Normal: 2718 Anomaly: 2282\n"
     ]
    }
   ],
   "source": [
    "print('Normal:', len(e9654_normal), 'Anomaly:', len(e9654_anomaly))"
   ]
  },
  {
   "cell_type": "code",
   "execution_count": 74,
   "id": "a8c0cee6-0464-4380-80f8-38b1f95f836a",
   "metadata": {
    "tags": []
   },
   "outputs": [
    {
     "name": "stdout",
     "output_type": "stream",
     "text": [
      "4.4e-07\n",
      "========= START =========\n",
      "========== DXS ==========\n",
      "9598:Injury mlt site/site NEC:Other specified sites, including multiple injury\n",
      "80239:Mult fx mandible-open:Open fracture of mandible, multiple sites\n",
      "========== PRS ==========\n",
      "8628:Nonexcisional debridement of wound, infection or burn\n",
      "8659:Closure of skin and subcutaneous tissue of other sites\n",
      "7676:Open reduction of mandibular fracture\n",
      "7676:Open reduction of mandibular fracture\n",
      "2432:Suture of laceration of gum\n",
      "2752:Suture of laceration of other part of mouth\n",
      "========== END ==========\n",
      "None\n",
      "4.4e-07\n",
      "========= START =========\n",
      "========== DXS ==========\n",
      "80040:Cl skl vlt fx/br inj NEC:Closed fracture of vault of skull with intracranial injury of other and unspecified nature, unspecified state of consciousness\n",
      "8760:Open wound of back:Open wound of back, without mention of complication\n",
      "82521:Fx astragalus-closed:Closed fracture of astragalus\n",
      "95892:Trauma comp synd low ext:Traumatic compartment syndrome of lower extremity\n",
      "========== PRS ==========\n",
      "8314:Fasciotomy\n",
      "9604:Insertion of endotracheal tube\n",
      "967:Unknown Code\n",
      "8659:Closure of skin and subcutaneous tissue of other sites\n",
      "3808:Incision of vessel, lower limb arteries\n",
      "========== END ==========\n",
      "None\n",
      "4.6e-07\n",
      "========= START =========\n",
      "========== DXS ==========\n",
      "95892:Trauma comp synd low ext:Traumatic compartment syndrome of lower extremity\n",
      "8901:Open wnd hip/thigh-compl:Open wound of hip and thigh, complicated\n",
      "90289:Inj abdominal vessel NEC:Injury to other specified blood vessels of abdomen and pelvis\n",
      "86389:GI injury NEC-closed:Injury to other gastrointestinal sites, without mention of open wound into cavity\n",
      "86329:Small intest inj NEC-cl:Other injury to small intestine, without mention of open wound into cavity\n",
      "8089:Pelvic fracture NOS-open:Open unspecified fracture of pelvis\n",
      "65641:Intrauter death-deliver:Intrauterine death, affecting management of mother, delivered, with or without mention of antepartum condition\n",
      "56081:Intestinal adhes w obstr:Intestinal or peritoneal adhesions with obstruction (postoperative) (postinfection)\n",
      "2851:Ac posthemorrhag anemia:Acute posthemorrhagic anemia\n",
      "========== PRS ==========\n",
      "========== END ==========\n",
      "None\n",
      "2.5e-07\n",
      "========= START =========\n",
      "========== DXS ==========\n",
      "891:Open wound of knee leg (except thigh) and ankle:None\n",
      "========== PRS ==========\n",
      "9921:Injection of antibiotic\n",
      "9659:Other irrigation of wound\n",
      "8622:Excisional debridement of wound, infection, or burn\n",
      "9357:Application of other wound dressing\n",
      "8659:Closure of skin and subcutaneous tissue of other sites\n",
      "9659:Other irrigation of wound\n",
      "866:Unknown Code\n",
      "========== END ==========\n",
      "None\n",
      "2.5e-07\n",
      "========= START =========\n",
      "========== DXS ==========\n",
      "8792:Opn wnd anterior abdomen:Open wound of abdominal wall, anterior, without mention of complication\n",
      "8750:Open wound of chest:Open wound of chest (wall), without mention of complication\n",
      "========== PRS ==========\n",
      "9604:Insertion of endotracheal tube\n",
      "939:Unknown Code\n",
      "9962:Other electric countershock of heart\n",
      "996:Unknown Code\n",
      "996:Unknown Code\n",
      "3894:Venous cutdown\n",
      "9671:Continuous invasive mechanical ventilation for less than 96 consecutive hours\n",
      "========== END ==========\n",
      "None\n",
      "4.4e-07\n",
      "========= START =========\n",
      "========== DXS ==========\n",
      "9100:Abrasion head:Abrasion or friction burn of face, neck, and scalp except eye, without mention of infection\n",
      "9010:Injury thoracic aorta:Injury to thoracic aorta\n",
      "8750:Open wound of chest:Open wound of chest (wall), without mention of complication\n",
      "86132:Lung laceration-open:Laceration of lung with open wound into thorax\n",
      "86131:Lung contusion-open:Contusion of lung with open wound into thorax\n",
      "========== PRS ==========\n",
      "9904:Transfusion of packed cells\n",
      "3404:Insertion of intercostal catheter for drainage\n",
      "9906:Transfusion of coagulation factors\n",
      "9906:Transfusion of coagulation factors\n",
      "========== END ==========\n",
      "None\n",
      "2.5e-07\n",
      "========= START =========\n",
      "========== DXS ==========\n",
      "9560:Injury sciatic nerve:Injury to sciatic nerve\n",
      "9047:Injury leg vessels NEC:Injury to other specified blood vessels of lower extremity\n",
      "8900:Open wound of hip/thigh:Open wound of hip and thigh, without mention of complication\n",
      "8782:Opn wound scrotum/testes:Open wound of scrotum and testes, without mention of complication\n",
      "========== PRS ==========\n",
      "5423:Biopsy of peritoneum\n",
      "6441:Suture of laceration of penis\n",
      "625:Orchiopexy\n",
      "6441:Suture of laceration of penis\n",
      "========== END ==========\n",
      "None\n",
      "4.4e-07\n",
      "========= START =========\n",
      "========== DXS ==========\n",
      "86813:Peritoneum injury-open:Injury to other intra-abdominal organs with open wound into cavity, peritoneum\n",
      "86613:Kidney disruption-open:Injury to kidney with open wound into cavity, complete disruption of kidney parenchyma\n",
      "86513:Spleen parnchym lac-opn:Injury to spleen with open wound into cavity, laceration extending into parenchyma\n",
      "86414:Liver lacerat, major-opn:Injury to liver with open wound into cavity, laceration, major\n",
      "8631:Stomach injury-open:Injury to stomach, with open wound into cavity\n",
      "8621:Diaphragm injury-open:Injury to diaphragm, with open wound into cavity\n",
      "8603:Traum hemothorax-open:Traumatic hemothorax with open wound into thorax\n",
      "8151:Open fracture of metacarpal bones:None\n",
      "========== PRS ==========\n",
      "8879:Other diagnostic ultrasound\n",
      "========== END ==========\n",
      "None\n",
      "4.0e-07\n",
      "========= START =========\n",
      "========== DXS ==========\n",
      "8794:Opn wnd lateral abdomen:Open wound of abdominal wall, lateral, without mention of complication\n",
      "8750:Open wound of chest:Open wound of chest (wall), without mention of complication\n",
      "========== PRS ==========\n",
      "8879:Other diagnostic ultrasound\n",
      "8744:Routine chest x-ray, so described\n",
      "9335:Other heat therapy\n",
      "9357:Application of other wound dressing\n",
      "9938:Administration of tetanus toxoid\n",
      "5411:Exploratory laparotomy\n",
      "5421:Laparoscopy\n",
      "========== END ==========\n",
      "None\n",
      "4.0e-07\n",
      "========= START =========\n",
      "========== DXS ==========\n",
      "8603:Traum hemothorax-open:Traumatic hemothorax with open wound into thorax\n",
      "80670:Fx sacrum-op/crd inj NOS:Open fracture of sacrum and coccyx with unspecified spinal cord injury\n",
      "44422:Lower extremity embolism:Arterial embolism and thrombosis of lower extremity\n",
      "7806:Fever and other physiologic disturbances of temperature regulation:None\n",
      "2851:Ac posthemorrhag anemia:Acute posthemorrhagic anemia\n",
      "8055:Fx lumbar vertebra-open:Open fracture of lumbar vertebra without mention of spinal cord injury\n",
      "8661:Injury to kidney with open wound into cavity:None\n",
      "8940:Open wound of leg NEC:Multiple and unspecified open wound of lower limb, without mention of complication\n",
      "99859:Other postop infection:Other postoperative infection\n",
      "73006:Ac osteomyelitis-l/leg:Acute osteomyelitis, lower leg\n",
      "========== END ==========\n",
      "None\n",
      "2.5e-07\n",
      "========= START =========\n",
      "========== DXS ==========\n",
      "9248:Multiple contusions NEC:Contusion of multiple sites, not elsewhere classified\n",
      "90002:Inj external carotid art:Injury to external carotid artery\n",
      "8748:Open wound of neck NEC:Open wound of other and unspecified parts of neck, without mention of complication\n",
      "========== PRS ==========\n",
      "3882:Other surgical occlusion of vessels, other vessels of head and neck\n",
      "0609:Other incision of thyroid field\n",
      "0609:Other incision of thyroid field\n",
      "8382:Graft of muscle or fascia\n",
      "3932:Suture of vein\n",
      "========== END ==========\n",
      "None\n",
      "3.0e-07\n",
      "========= START =========\n",
      "========== DXS ==========\n",
      "8900:Open wound of hip/thigh:Open wound of hip and thigh, without mention of complication\n",
      "8840:Open wound arm mult/NOS:Multiple and unspecified open wound of upper limb, without mention of complication\n",
      "========== PRS ==========\n",
      "8659:Closure of skin and subcutaneous tissue of other sites\n",
      "5794:Insertion of indwelling urinary catheter\n",
      "9904:Transfusion of packed cells\n",
      "8876:Diagnostic ultrasound of abdomen and retroperitoneum\n",
      "8801:Computerized axial tomography of abdomen\n",
      "8703:Computerized axial tomography of head\n",
      "8838:Other computerized axial tomography\n",
      "========== END ==========\n",
      "None\n",
      "3.2e-07\n",
      "========= START =========\n",
      "========== DXS ==========\n",
      "8900:Open wound of hip/thigh:Open wound of hip and thigh, without mention of complication\n",
      "9553:Injury radial nerve:Injury to radial nerve\n",
      "5693:Rectal & anal hemorrhage:Hemorrhage of rectum and anus\n",
      "71906:Joint effusion-l/leg:Effusion of joint, lower leg\n",
      "2851:Ac posthemorrhag anemia:Acute posthemorrhagic anemia\n",
      "========== PRS ==========\n",
      "8659:Closure of skin and subcutaneous tissue of other sites\n",
      "8622:Excisional debridement of wound, infection, or burn\n",
      "8209:Other incision of soft tissue of hand\n",
      "8605:Incision with removal of foreign body or device from skin and subcutaneous tissue\n",
      "========== END ==========\n",
      "None\n",
      "3.0e-07\n",
      "========= START =========\n",
      "========== DXS ==========\n",
      "81219:Fx upper humerus NEC-opn:Other open fracture of upper end of humerus\n",
      "81219:Fx upper humerus NEC-opn:Other open fracture of upper end of humerus\n",
      "85416:Open brain inj-coma NOS:Intracranial injury of other and unspecified nature with open intracranial wound, with loss of consciousness of unspecified duration\n",
      "88002:Open wound of axilla:Open wound of axillary region, without mention of complication\n",
      "8770:Open wound of buttock:Open wound of buttock, without mention of complication\n",
      "========== PRS ==========\n",
      "7961:Debridement of open fracture site, humerus\n",
      "7812:Application of external fixator device, humerus\n",
      "8452:Insertion of recombinant bone morphogenetic protein\n",
      "8743:X-ray of ribs, sternum, and clavicle\n",
      "========== END ==========\n",
      "None\n"
     ]
    }
   ],
   "source": [
    "for i in range(PRINT_SEQUENCES):\n",
    "    if '<UNK>' not in e9654_gen_seq[e9654_normal[i][0]]:\n",
    "        print(format(e9654_normal[i][1], '.1e'))\n",
    "        print(print_seq_dsc(e9654_gen_seq[e9654_normal[i][0]]))"
   ]
  },
  {
   "cell_type": "code",
   "execution_count": 75,
   "id": "324ce440-1349-4c3b-a134-5b238a055614",
   "metadata": {},
   "outputs": [
    {
     "name": "stdout",
     "output_type": "stream",
     "text": [
      "7.1e-07\n",
      "========= START =========\n",
      "========== DXS ==========\n",
      "8605:Traum pneumohemothor-opn:Traumatic pneumohemothorax with open wound into thorax\n",
      "========== PRS ==========\n",
      "8659:Closure of skin and subcutaneous tissue of other sites\n",
      "3404:Insertion of intercostal catheter for drainage\n",
      "5794:Insertion of indwelling urinary catheter\n",
      "3995:Hemodialysis\n",
      "7836:Unknown Code\n",
      "9605:Other intubation of respiratory tract\n",
      "3322:Fiber-optic bronchoscopy\n",
      "5329:Other unilateral femoral herniorrhaphy\n",
      "========== END ==========\n",
      "None\n",
      "5.6e-07\n",
      "========= START =========\n",
      "========== DXS ==========\n",
      "8910:Open wnd knee/leg/ankle:Open wound of knee, leg [except thigh], and ankle, without mention of complication\n",
      "88003:Open wound of upper arm:Open wound of upper arm, without mention of complication\n",
      "81611:Fx mid/prx phal, hand-op:Open fracture of middle or proximal phalanx or phalanges of hand\n",
      "========== PRS ==========\n",
      "8659:Closure of skin and subcutaneous tissue of other sites\n",
      "9659:Other irrigation of wound\n",
      "8622:Excisional debridement of wound, infection, or burn\n",
      "8628:Nonexcisional debridement of wound, infection or burn\n",
      "7964:Debridement of open fracture site, phalanges of hand\n",
      "7934:Open reduction of fracture with internal fixation, phalanges of hand\n",
      "========== END ==========\n",
      "None\n",
      "7.1e-07\n",
      "========= START =========\n",
      "========== DXS ==========\n",
      "88003:Open wound of upper arm:Open wound of upper arm, without mention of complication\n",
      "8605:Traum pneumohemothor-opn:Traumatic pneumohemothorax with open wound into thorax\n",
      "81230:Fx humerus NOS-open:Open fracture of unspecified part of humerus\n",
      "81119:Fx scapula NEC-open:Open fracture of scapula, other\n",
      "80712:Fracture two ribs-open:Open fracture of two ribs\n",
      "83104:Disloc acromioclavic-cl:Closed dislocation of acromioclavicular (joint)\n",
      "3051:Tobacco use disorder:Tobacco use disorder\n",
      "3050:Nondependent alcohol abuse:None\n",
      "========== PRS ==========\n",
      "3404:Insertion of intercostal catheter for drainage\n",
      "========== END ==========\n",
      "None\n",
      "9.2e-07\n",
      "========= START =========\n",
      "========== DXS ==========\n",
      "80370:Opn skl fx NEC/menin hem:Other open skull fracture with subarachnoid, subdural, and extradural hemorrhage, unspecified state of consciousness\n",
      "85400:Brain injury NEC:Intracranial injury of other and unspecified nature without mention of open intracranial wound, unspecified state of consciousness\n",
      "8750:Open wound of chest:Open wound of chest (wall), without mention of complication\n",
      "80234:Fx ramus NOS-open:Open fracture of mandible, ramus, unspecified\n",
      "========== PRS ==========\n",
      "9604:Insertion of endotracheal tube\n",
      "0119:Other diagnostic procedures on skull\n",
      "9659:Other irrigation of wound\n",
      "8744:Routine chest x-ray, so described\n",
      "8838:Other computerized axial tomography\n",
      "========== END ==========\n",
      "None\n",
      "6.1e-07\n",
      "========= START =========\n",
      "========== DXS ==========\n",
      "86132:Lung laceration-open:Laceration of lung with open wound into thorax\n",
      "81010:Fx clavicle NOS-open:Open fracture of clavicle, unspecified part\n",
      "80701:Fracture one rib-closed:Closed fracture of one rib\n",
      "90000:Injur carotid artery NOS:Injury to carotid artery, unspecified\n",
      "========== PRS ==========\n",
      "3404:Insertion of intercostal catheter for drainage\n",
      "5411:Exploratory laparotomy\n",
      "3239:Other and unspecified segmental resection of lung\n",
      "5472:Other repair of abdominal wall\n",
      "9359:Other immobilization, pressure, and attention to wound\n",
      "========== END ==========\n",
      "None\n",
      "7.5e-07\n",
      "========= START =========\n",
      "========== DXS ==========\n",
      "8798:Open wound site NOS:Open wound(s) (multiple) of unspecified site(s), without mention of complication\n",
      "8088:Pelvic fracture NOS-clos:Closed unspecified fracture of pelvis\n",
      "========== PRS ==========\n",
      "3404:Insertion of intercostal catheter for drainage\n",
      "8741:Computerized axial tomography of thorax\n",
      "8838:Other computerized axial tomography\n",
      "8703:Computerized axial tomography of head\n",
      "8801:Computerized axial tomography of abdomen\n",
      "5492:Removal of foreign body from peritoneal cavity\n",
      "5411:Exploratory laparotomy\n",
      "========== END ==========\n",
      "None\n",
      "5.1e-07\n",
      "========= START =========\n",
      "========== DXS ==========\n",
      "8083:Fracture of pubis-open:Open fracture of pubis\n",
      "8081:Fracture acetabulum-open:Open fracture of acetabulum\n",
      "========== PRS ==========\n",
      "5794:Insertion of indwelling urinary catheter\n",
      "8605:Incision with removal of foreign body or device from skin and subcutaneous tissue\n",
      "4823:Rigid proctosigmoidoscopy\n",
      "5411:Exploratory laparotomy\n",
      "4823:Rigid proctosigmoidoscopy\n",
      "8622:Excisional debridement of wound, infection, or burn\n",
      "========== END ==========\n",
      "None\n",
      "7.1e-07\n",
      "========= START =========\n",
      "========== DXS ==========\n",
      "8941:Open wound leg NEC-compl:Multiple and unspecified open wound of lower limb, complicated\n",
      "82131:Fx femoral condyle-open:Open fracture of condyle, femoral\n",
      "========== PRS ==========\n",
      "7965:Debridement of open fracture site, femur\n",
      "7935:Open reduction of fracture with internal fixation, femur\n",
      "7742:Biopsy of bone, humerus\n",
      "7969:Debridement of open fracture site, other specified bone\n",
      "8659:Closure of skin and subcutaneous tissue of other sites\n",
      "7966:Debridement of open fracture site, tibia and fibula\n",
      "========== END ==========\n",
      "None\n",
      "1.8e-06\n",
      "========= START =========\n",
      "========== DXS ==========\n",
      "7847:Epistaxis:Epistaxis\n",
      "========== PRS ==========\n",
      "9671:Continuous invasive mechanical ventilation for less than 96 consecutive hours\n",
      "8876:Diagnostic ultrasound of abdomen and retroperitoneum\n",
      "8703:Computerized axial tomography of head\n",
      "8659:Closure of skin and subcutaneous tissue of other sites\n",
      "3891:Arterial catheterization\n",
      "9604:Insertion of endotracheal tube\n",
      "9672:Continuous invasive mechanical ventilation for 96 consecutive hours or more\n",
      "========== END ==========\n",
      "None\n",
      "5.1e-07\n",
      "========= START =========\n",
      "========== DXS ==========\n",
      "8900:Open wound of hip/thigh:Open wound of hip and thigh, without mention of complication\n",
      "========== PRS ==========\n",
      "8154:Total knee replacement\n",
      "8622:Excisional debridement of wound, infection, or burn\n",
      "0353:Repair of vertebral fracture\n",
      "7779:Excision of bone for graft, other bones\n",
      "8051:Excision of intervertebral disc\n",
      "7771:Excision of bone for graft, scapula, clavicle, and thorax [ribs and sternum]\n",
      "8162:Fusion or refusion of 2-3 vertebrae\n",
      "========== END ==========\n",
      "None\n",
      "9.2e-07\n",
      "========= START =========\n",
      "========== DXS ==========\n",
      "87343:Open wound of lip:Open wound of lip, without mention of complication\n",
      "========== PRS ==========\n",
      "9918:Injection or infusion of electrolytes\n",
      "8703:Computerized axial tomography of head\n",
      "9671:Continuous invasive mechanical ventilation for less than 96 consecutive hours\n",
      "8802:Other abdomen tomography\n",
      "2751:Suture of laceration of lip\n",
      "8876:Diagnostic ultrasound of abdomen and retroperitoneum\n",
      "2751:Suture of laceration of lip\n",
      "========== END ==========\n",
      "None\n",
      "8.6e-07\n",
      "========= START =========\n",
      "========== DXS ==========\n",
      "86330:Small intest inj NOS-opn:Injury to small intestine, unspecified site, with open wound into cavity\n",
      "========== PRS ==========\n",
      "9396:Other oxygen enrichment\n",
      "9929:Injection or infusion of other therapeutic or prophylactic substance\n",
      "8951:Rhythm electrocardiogram\n",
      "9929:Injection or infusion of other therapeutic or prophylactic substance\n",
      "9929:Injection or infusion of other therapeutic or prophylactic substance\n",
      "8876:Diagnostic ultrasound of abdomen and retroperitoneum\n",
      "8801:Computerized axial tomography of abdomen\n",
      "5411:Exploratory laparotomy\n",
      "========== END ==========\n",
      "None\n",
      "6.3e-07\n",
      "========= START =========\n",
      "========== DXS ==========\n",
      "80195:Op skl base fx-deep coma:Open fracture of base of skull with intracranial injury of other and unspecified nature, with prolonged [more than 24 hours] loss of consciousness, without return to pre-existing conscious level\n",
      "========== PRS ==========\n",
      "4413:Other gastroscopy\n",
      "9671:Continuous invasive mechanical ventilation for less than 96 consecutive hours\n",
      "022:Unknown Code\n",
      "311:Temporary tracheostomy\n",
      "8876:Diagnostic ultrasound of abdomen and retroperitoneum\n",
      "9963:Closed chest cardiac massage\n",
      "9963:Closed chest cardiac massage\n",
      "========== END ==========\n",
      "None\n",
      "9.8e-07\n",
      "========= START =========\n",
      "========== DXS ==========\n",
      "9040:Inj common femoral arter:Injury to common femoral artery\n",
      "8901:Open wnd hip/thigh-compl:Open wound of hip and thigh, complicated\n",
      "8782:Opn wound scrotum/testes:Open wound of scrotum and testes, without mention of complication\n",
      "8673:Ureter injury-open:Injury to ureter, with open wound into cavity\n",
      "86804:Retroperitoneum inj-cl:Injury to other intra-abdominal organs without mention of open wound into cavity, retroperitoneum\n",
      "86415:Liver lacerat unspcf opn:Injury to liver with open wound into cavity, laceration, unspecified\n",
      "86612:Kidney laceration-open:Injury to kidney with open wound into cavity, laceration\n",
      "86513:Spleen parnchym lac-opn:Injury to spleen with open wound into cavity, laceration extending into parenchyma\n",
      "86352:Transverse colon inj-opn:Injury to transverse colon, with open wound into cavity\n",
      "8631:Stomach injury-open:Injury to stomach, with open wound into cavity\n",
      "========== END ==========\n",
      "None\n"
     ]
    }
   ],
   "source": [
    "for i in range(PRINT_SEQUENCES):\n",
    "    if '<UNK>' not in e9654_gen_seq[e9654_anomaly[i][0]]:\n",
    "        print(format(e9654_anomaly[i][1], '.1e'))\n",
    "        print(print_seq_dsc(e9654_gen_seq[e9654_anomaly[i][0]]))"
   ]
  },
  {
   "cell_type": "markdown",
   "id": "7996b963-33d1-4fb6-951a-49eb65e7f342",
   "metadata": {
    "tags": []
   },
   "source": [
    "# E924.0"
   ]
  },
  {
   "cell_type": "code",
   "execution_count": 16,
   "id": "2bdeb10b-1dd8-4a52-9cec-7ae35a3be4c3",
   "metadata": {},
   "outputs": [],
   "source": [
    "e9240_trn_all_token_layer_embeddings = np.load(\"./outputs/e9240_trn_all_em.npy\", allow_pickle=True)\n",
    "e9240_gen_all_token_layer_embeddings = np.load(\"./outputs/e9240_gen_all_em.npy\", allow_pickle=True)\n",
    "e9240_trn_end_token_layer_embeddings = torch.stack([x[-1,:,:] for x in e9240_trn_all_token_layer_embeddings])\n",
    "e9240_gen_end_token_layer_embeddings = torch.stack([x[-1,:,:] for x in e9240_gen_all_token_layer_embeddings])"
   ]
  },
  {
   "cell_type": "code",
   "execution_count": 17,
   "id": "6672d6d9-8f32-4035-8cc1-8c892c06a651",
   "metadata": {},
   "outputs": [
    {
     "data": {
      "text/plain": [
       "(4889,)"
      ]
     },
     "execution_count": 17,
     "metadata": {},
     "output_type": "execute_result"
    }
   ],
   "source": [
    "e9240_trn_all_token_layer_embeddings.shape"
   ]
  },
  {
   "cell_type": "code",
   "execution_count": 18,
   "id": "4bb49c7a-420d-4204-b651-fa1efb85826a",
   "metadata": {},
   "outputs": [],
   "source": [
    "e9240_trn_end_token_layer_embeddings = e9240_trn_end_token_layer_embeddings[:int(len(e9240_trn_end_token_layer_embeddings)*TRN_FRAC),:,:]\n",
    "e9240_tst_end_token_layer_embeddings = e9240_trn_end_token_layer_embeddings[int(len(e9240_trn_end_token_layer_embeddings)*TRN_FRAC):,:,:]"
   ]
  },
  {
   "cell_type": "code",
   "execution_count": 19,
   "id": "ab4c3f08-5f40-433d-9002-5817115362a7",
   "metadata": {},
   "outputs": [],
   "source": [
    "cov_estimator5 = sklearn.covariance.EmpiricalCovariance(assume_centered=False)"
   ]
  },
  {
   "cell_type": "code",
   "execution_count": 20,
   "id": "8cef08fb-63fe-468b-9460-168e78732125",
   "metadata": {},
   "outputs": [
    {
     "name": "stderr",
     "output_type": "stream",
     "text": [
      "100%|███████████████████████████████████████████████████████████████| 13/13 [00:00<00:00, 16.48it/s]\n",
      "100%|███████████████████████████████████████████████████████████████| 13/13 [00:00<00:00, 20.43it/s]\n",
      "100%|██████████████████████████████████████████████████████████████| 13/13 [00:00<00:00, 348.29it/s]\n",
      "100%|███████████████████████████████████████████████████████████████| 13/13 [00:00<00:00, 16.27it/s]\n"
     ]
    }
   ],
   "source": [
    "e9240_trn_end_token_mean, e9240_trn_end_token_inv_cov = get_empirical_mean_cov(cov_estimator5, e9240_trn_end_token_layer_embeddings)\n",
    "e9240_trn_mdf = get_mdf(torch.Tensor(e9240_trn_end_token_layer_embeddings), e9240_trn_end_token_mean, e9240_trn_end_token_inv_cov)\n",
    "e9240_tst_mdf = get_mdf(torch.Tensor(e9240_tst_end_token_layer_embeddings), e9240_trn_end_token_mean, e9240_trn_end_token_inv_cov)\n",
    "e9240_ood_mdf = get_mdf(torch.Tensor(e9240_gen_end_token_layer_embeddings), e9240_trn_end_token_mean, e9240_trn_end_token_inv_cov)"
   ]
  },
  {
   "cell_type": "code",
   "execution_count": 21,
   "id": "964baa26-1be3-4b88-bfbb-c141b6634454",
   "metadata": {},
   "outputs": [
    {
     "name": "stderr",
     "output_type": "stream",
     "text": [
      "/tmp/ipykernel_256108/963709382.py:8: UserWarning: you are shuffling a 'Tensor' object which is not a subclass of 'Sequence'; `shuffle` is not guaranteed to behave correctly. E.g., non-numpy array/tensor objects with view semantics may contain duplicates after shuffling.\n",
      "  np.random.shuffle(test_mdf)\n",
      "/tmp/ipykernel_256108/963709382.py:9: UserWarning: you are shuffling a 'Tensor' object which is not a subclass of 'Sequence'; `shuffle` is not guaranteed to behave correctly. E.g., non-numpy array/tensor objects with view semantics may contain duplicates after shuffling.\n",
      "  np.random.shuffle(ood_mdf)\n",
      " 27%|█████████████████▍                                              | 3/11 [00:00<00:00, 25.27it/s]"
     ]
    },
    {
     "name": "stdout",
     "output_type": "stream",
     "text": [
      "running ---: kernel: linear nuu: 1e-15\n",
      "running ---: kernel: linear nuu: 1e-12\n",
      "running ---: kernel: linear nuu: 1e-09\n",
      "running ---: kernel: linear nuu: 1e-07\n",
      "running ---: kernel: linear nuu: 1e-05\n",
      "running ---: kernel: linear nuu: 0.001\n"
     ]
    },
    {
     "name": "stderr",
     "output_type": "stream",
     "text": [
      " 55%|██████████████████████████████████▉                             | 6/11 [00:00<00:00, 25.52it/s]"
     ]
    },
    {
     "name": "stdout",
     "output_type": "stream",
     "text": [
      "running ---: kernel: linear nuu: 0.01\n",
      "running ---: kernel: linear nuu: 0.1\n",
      "running ---: kernel: linear nuu: 0.2\n"
     ]
    },
    {
     "name": "stderr",
     "output_type": "stream",
     "text": [
      " 82%|████████████████████████████████████████████████████▎           | 9/11 [00:00<00:00, 11.78it/s]"
     ]
    },
    {
     "name": "stdout",
     "output_type": "stream",
     "text": [
      "running ---: kernel: linear nuu: 0.5\n",
      "running ---: kernel: linear nuu: 1\n"
     ]
    },
    {
     "name": "stderr",
     "output_type": "stream",
     "text": [
      "/home/paul/anaconda3/envs/stemmler/lib/python3.8/site-packages/sklearn/svm/_classes.py:1661: RuntimeWarning: invalid value encountered in add\n",
      "  return self.decision_function(X) + self.offset_\n",
      "/home/paul/anaconda3/envs/stemmler/lib/python3.8/site-packages/sklearn/svm/_classes.py:1661: RuntimeWarning: invalid value encountered in add\n",
      "  return self.decision_function(X) + self.offset_\n",
      "100%|███████████████████████████████████████████████████████████████| 11/11 [00:01<00:00,  5.79it/s]"
     ]
    },
    {
     "name": "stdout",
     "output_type": "stream",
     "text": [
      " AUROC  DTACC  AUIN   AUOUT \n",
      " 80.43  73.87  51.10  97.63\n",
      "best hyper linear-1e-15\n",
      "saving data for plotting\n",
      "-------------------------------\n"
     ]
    },
    {
     "name": "stderr",
     "output_type": "stream",
     "text": [
      "\n"
     ]
    }
   ],
   "source": [
    "e9240_score, e9240_det = get_score(e9240_trn_mdf, e9240_tst_mdf, e9240_ood_mdf, 'E9240')"
   ]
  },
  {
   "cell_type": "code",
   "execution_count": 22,
   "id": "d535532f-00cb-4345-9cc0-8b2b570272b6",
   "metadata": {},
   "outputs": [],
   "source": [
    "e9240_score_df = pd.DataFrame(e9240_score)"
   ]
  },
  {
   "cell_type": "code",
   "execution_count": 23,
   "id": "1bf37012-9751-4272-b147-966f6785eb0c",
   "metadata": {},
   "outputs": [
    {
     "data": {
      "image/png": "[encoded data removed]",
      "text/plain": [
       "<Figure size 432x288 with 1 Axes>"
      ]
     },
     "metadata": {
      "needs_background": "light"
     },
     "output_type": "display_data"
    }
   ],
   "source": [
    "plot_scores(e9240_score_df)"
   ]
  },
  {
   "cell_type": "code",
   "execution_count": 24,
   "id": "e1871d67-2f4d-49cc-9fe0-cff4dfed2992",
   "metadata": {},
   "outputs": [],
   "source": [
    "y5 = e9240_det.score_samples(e9240_ood_mdf)"
   ]
  },
  {
   "cell_type": "code",
   "execution_count": 25,
   "id": "6d8347b3-9a1e-473b-8ec6-416ad4937e59",
   "metadata": {},
   "outputs": [],
   "source": [
    "split5 = 0.1e-5"
   ]
  },
  {
   "cell_type": "code",
   "execution_count": 26,
   "id": "7584007e-a6c0-40ca-b9e2-3cd9c9167fb1",
   "metadata": {},
   "outputs": [],
   "source": [
    "e9240_normal = []\n",
    "for i,o in enumerate(y5):\n",
    "    if o < split5:\n",
    "        e9240_normal.append((i,o))"
   ]
  },
  {
   "cell_type": "code",
   "execution_count": 27,
   "id": "74bb6493-3314-4c25-9547-4440c6b23708",
   "metadata": {},
   "outputs": [],
   "source": [
    "e9240_anomaly = []\n",
    "for i,o in enumerate(y5):\n",
    "    if o >= split5:\n",
    "        e9240_anomaly.append((i,o))"
   ]
  },
  {
   "cell_type": "code",
   "execution_count": 28,
   "id": "a5aa46b6-ee85-4ad8-b0f4-5daff7140a1e",
   "metadata": {},
   "outputs": [
    {
     "name": "stdout",
     "output_type": "stream",
     "text": [
      "Normal: 4218 Anomaly: 783\n"
     ]
    }
   ],
   "source": [
    "print('Normal:', len(e9240_normal), 'Anomaly:', len(e9240_anomaly))"
   ]
  },
  {
   "cell_type": "code",
   "execution_count": 29,
   "id": "20b0bd47-1d9b-47e1-a4d4-827be392c362",
   "metadata": {
    "tags": []
   },
   "outputs": [
    {
     "name": "stdout",
     "output_type": "stream",
     "text": [
      "9.0e-08\n",
      "========= START =========\n",
      "========== DXS ==========\n",
      "9480:Burn (any degree) involving less than 10 percent of body surface:None\n",
      "========== PRS ==========\n",
      "5794:Insertion of indwelling urinary catheter\n",
      "9357:Application of other wound dressing\n",
      "3893:Venous catheterization, not elsewhere classified\n",
      "========== END ==========\n",
      "None\n",
      "6.7e-07\n",
      "========= START =========\n",
      "========== DXS ==========\n",
      "94800:Bdy brn < 10%/3d deg NOS:Burn [any degree] involving less than 10 percent of body surface with third degree burn, less than 10 percent or unspecified\n",
      "94532:3rd deg burn foot:Full-thickness skin loss [third degree NOS] of foot\n",
      "========== PRS ==========\n",
      "8622:Excisional debridement of wound, infection, or burn\n",
      "8665:Heterograft to skin\n",
      "8669:Other skin graft to other sites\n",
      "========== END ==========\n",
      "None\n",
      "8.9e-08\n",
      "========= START =========\n",
      "========== DXS ==========\n",
      "948:Burns classified according to extent of body surface involved:None\n",
      "9462:2nd deg burn mult site:Blisters, epidermal loss [second degree] of multiple specified sites\n",
      "========== PRS ==========\n",
      "8628:Nonexcisional debridement of wound, infection or burn\n",
      "8691:Excision of skin for graft\n",
      "866:Unknown Code\n",
      "========== END ==========\n",
      "None\n",
      "3.4e-07\n",
      "========= START =========\n",
      "========== DXS ==========\n",
      "V1582:History of tobacco use:Personal history of tobacco use\n",
      "94800:Bdy brn < 10%/3d deg NOS:Burn [any degree] involving less than 10 percent of body surface with third degree burn, less than 10 percent or unspecified\n",
      "94321:2nd deg burn forearm:Blisters, epidermal loss [second degree] of forearm\n",
      "94129:2nd deg burn head-mult:Blisters, epidermal loss [second degree] of multiple sites [except with eye] of face, head, and neck\n",
      "94233:3rd deg burn abdomn wall:Full-thickness skin loss [third degree, not otherwise specified] of abdominal wall\n",
      "========== PRS ==========\n",
      "========== END ==========\n",
      "None\n",
      "7.7e-08\n",
      "========= START =========\n",
      "========== DXS ==========\n",
      "94800:Bdy brn < 10%/3d deg NOS:Burn [any degree] involving less than 10 percent of body surface with third degree burn, less than 10 percent or unspecified\n",
      "94427:2nd deg burn wrist:Blisters, epidermal loss [second degree] of wrist\n",
      "94426:2 deg burn back of hand:Blisters , epidermal loss [second degree] of back of hand\n",
      "94321:2nd deg burn forearm:Blisters, epidermal loss [second degree] of forearm\n",
      "========== PRS ==========\n",
      "8662:Other skin graft to hand\n",
      "========== END ==========\n",
      "None\n",
      "3.4e-07\n",
      "========= START =========\n",
      "========== DXS ==========\n",
      "94222:2nd deg burn chest wall:Blisters, epidermal loss [second degree] of chest wall, excluding breast and nipple\n",
      "94222:2nd deg burn chest wall:Blisters, epidermal loss [second degree] of chest wall, excluding breast and nipple\n",
      "========== PRS ==========\n",
      "8691:Excision of skin for graft\n",
      "866:Unknown Code\n",
      "========== END ==========\n",
      "None\n",
      "2.7e-07\n",
      "========= START =========\n",
      "========== DXS ==========\n",
      "94800:Bdy brn < 10%/3d deg NOS:Burn [any degree] involving less than 10 percent of body surface with third degree burn, less than 10 percent or unspecified\n",
      "========== PRS ==========\n",
      "8622:Excisional debridement of wound, infection, or burn\n",
      "9659:Other irrigation of wound\n",
      "9659:Other irrigation of wound\n",
      "========== END ==========\n",
      "None\n",
      "1.4e-07\n",
      "========= START =========\n",
      "========== DXS ==========\n",
      "9492:2nd degree burn NOS:Blisters, epidermal loss [second degree], unspecified site\n",
      "========== PRS ==========\n",
      "8905:Diagnostic interview and evaluation, not otherwise specified\n",
      "8838:Other computerized axial tomography\n",
      "9671:Continuous invasive mechanical ventilation for less than 96 consecutive hours\n",
      "5794:Insertion of indwelling urinary catheter\n",
      "========== END ==========\n",
      "None\n",
      "5.6e-07\n",
      "========= START =========\n",
      "========== DXS ==========\n",
      "94800:Bdy brn < 10%/3d deg NOS:Burn [any degree] involving less than 10 percent of body surface with third degree burn, less than 10 percent or unspecified\n",
      "94321:2nd deg burn forearm:Blisters, epidermal loss [second degree] of forearm\n",
      "========== PRS ==========\n",
      "8622:Excisional debridement of wound, infection, or burn\n",
      "8669:Other skin graft to other sites\n",
      "========== END ==========\n",
      "None\n",
      "2.7e-07\n",
      "========= START =========\n",
      "========== DXS ==========\n",
      "94800:Bdy brn < 10%/3d deg NOS:Burn [any degree] involving less than 10 percent of body surface with third degree burn, less than 10 percent or unspecified\n",
      "94333:3rd deg burn upper arm:Full-thickness skin loss [third degree, not otherwise specified] of upper arm\n",
      "94331:3rd deg burn forearm:Full-thickness skin loss [third degree, not otherwise specified] of forearm\n",
      "94222:2nd deg burn chest wall:Blisters, epidermal loss [second degree] of chest wall, excluding breast and nipple\n",
      "94128:2nd deg burn neck:Blisters, epidermal loss [second degree] of neck\n",
      "94127:2nd deg burn face NEC:Blisters, epidermal loss [second degree] of forehead and cheek\n",
      "========== END ==========\n",
      "None\n",
      "1.9e-07\n",
      "========= START =========\n",
      "========== DXS ==========\n",
      "9492:2nd degree burn NOS:Blisters, epidermal loss [second degree], unspecified site\n",
      "94310:1st deg burn arm NOS:Erythema [first degree] of upper limb, unspecified site\n",
      "========== PRS ==========\n",
      "866:Unknown Code\n",
      "8691:Excision of skin for graft\n",
      "========== END ==========\n",
      "None\n"
     ]
    }
   ],
   "source": [
    "for i in range(PRINT_SEQUENCES):\n",
    "    if '<UNK>' not in e9240_gen_seq[e9240_normal[i][0]]:\n",
    "        print(format(e9240_normal[i][1], '.1e'))\n",
    "        print(print_seq_dsc(e9240_gen_seq[e9240_normal[i][0]]))"
   ]
  },
  {
   "cell_type": "code",
   "execution_count": 30,
   "id": "3ff0701c-95af-496d-b2be-937e3f64a233",
   "metadata": {},
   "outputs": [
    {
     "name": "stdout",
     "output_type": "stream",
     "text": [
      "1.5e-05\n",
      "========= START =========\n",
      "========== DXS ==========\n",
      "948:Burns classified according to extent of body surface involved:None\n",
      "========== PRS ==========\n",
      "8628:Nonexcisional debridement of wound, infection or burn\n",
      "8628:Nonexcisional debridement of wound, infection or burn\n",
      "8628:Nonexcisional debridement of wound, infection or burn\n",
      "8628:Nonexcisional debridement of wound, infection or burn\n",
      "========== END ==========\n",
      "None\n",
      "1.5e-05\n",
      "========= START =========\n",
      "========== DXS ==========\n",
      "94810:10-19% bdy brn/3 deg NOS:Burn [any degree] involving 10-19 percent of body surface with third degree burn, less than 10 percent or unspecified\n",
      "94333:3rd deg burn upper arm:Full-thickness skin loss [third degree, not otherwise specified] of upper arm\n",
      "94324:2nd deg burn axilla:Blisters, epidermal loss [second degree] of axilla\n",
      "94128:2nd deg burn neck:Blisters, epidermal loss [second degree] of neck\n",
      "94125:2nd deg burn nose:Blisters, epidermal loss [second degree] of nose (septum)\n",
      "========== PRS ==========\n",
      "========== END ==========\n",
      "None\n",
      "5.0e-06\n",
      "========= START =========\n",
      "========== DXS ==========\n",
      "94800:Bdy brn < 10%/3d deg NOS:Burn [any degree] involving less than 10 percent of body surface with third degree burn, less than 10 percent or unspecified\n",
      "94534:3rd deg burn low leg:Full-thickness skin loss [third degree nos] of lower leg\n",
      "94522:2nd deg burn foot:Blisters, epidermal loss [second degree] of foot\n",
      "94426:2 deg burn back of hand:Blisters , epidermal loss [second degree] of back of hand\n",
      "94424:2 deg burn fingr w thumb:Blisters, epidermal loss [second degree] of two or more digits of hand including thumb\n",
      "94423:2nd deg burn mult finger:Blisters, epidermal loss [second degree] of two or more digits of hand, not including thumb\n",
      "========== END ==========\n",
      "None\n",
      "5.0e-06\n",
      "========= START =========\n",
      "========== DXS ==========\n",
      "948:Burns classified according to extent of body surface involved:None\n",
      "94323:2nd deg burn upper arm:Blisters, epidermal loss [second degree] of upper arm\n",
      "94224:2nd deg burn back:Blisters, epidermal loss [second degree] of back [any part]\n",
      "========== PRS ==========\n",
      "8628:Nonexcisional debridement of wound, infection or burn\n",
      "9659:Other irrigation of wound\n",
      "========== END ==========\n",
      "None\n",
      "1.4e-06\n",
      "========= START =========\n",
      "========== DXS ==========\n",
      "9583:Posttraum wnd infec NEC:Posttraumatic wound infection not elsewhere classified\n",
      "94325:2nd deg burn shoulder:Blisters, epidermal loss [second degree] of shoulder\n",
      "94323:2nd deg burn upper arm:Blisters, epidermal loss [second degree] of upper arm\n",
      "94331:3rd deg burn forearm:Full-thickness skin loss [third degree, not otherwise specified] of forearm\n",
      "94223:2nd deg burn abdomn wall:Blisters, epidermal loss [second degree] of abdominal wall\n",
      "94222:2nd deg burn chest wall:Blisters, epidermal loss [second degree] of chest wall, excluding breast and nipple\n",
      "========== END ==========\n",
      "None\n",
      "5.0e-06\n",
      "========= START =========\n",
      "========== DXS ==========\n",
      "94830:30-39% bdy brn/3 deg NOS:Burn [any degree] involving 30-39 percent of body surface with third degree burn, less than 10 percent or unspecified\n",
      "94437:3rd deg burn wrist:Full-thickness skin loss [third degree, not otherwise specified] of wrist\n",
      "94426:2 deg burn back of hand:Blisters , epidermal loss [second degree] of back of hand\n",
      "94424:2 deg burn fingr w thumb:Blisters, epidermal loss [second degree] of two or more digits of hand including thumb\n",
      "94323:2nd deg burn upper arm:Blisters, epidermal loss [second degree] of upper arm\n",
      "94321:2nd deg burn forearm:Blisters, epidermal loss [second degree] of forearm\n",
      "========== END ==========\n",
      "None\n",
      "1.4e-06\n",
      "========= START =========\n",
      "========== DXS ==========\n",
      "94222:2nd deg burn chest wall:Blisters, epidermal loss [second degree] of chest wall, excluding breast and nipple\n",
      "94420:2nd deg burn hand NOS:Blisters, epidermal loss [second degree] of hand, unspecified site\n",
      "94323:2nd deg burn upper arm:Blisters, epidermal loss [second degree] of upper arm\n",
      "94534:3rd deg burn low leg:Full-thickness skin loss [third degree nos] of lower leg\n",
      "94800:Bdy brn < 10%/3d deg NOS:Burn [any degree] involving less than 10 percent of body surface with third degree burn, less than 10 percent or unspecified\n",
      "========== PRS ==========\n",
      "========== END ==========\n",
      "None\n",
      "6.6e-06\n",
      "========= START =========\n",
      "========== DXS ==========\n",
      "94810:10-19% bdy brn/3 deg NOS:Burn [any degree] involving 10-19 percent of body surface with third degree burn, less than 10 percent or unspecified\n",
      "8331:Open dislocation of wrist:None\n",
      "========== PRS ==========\n",
      "8622:Excisional debridement of wound, infection, or burn\n",
      "8665:Heterograft to skin\n",
      "8622:Excisional debridement of wound, infection, or burn\n",
      "========== END ==========\n",
      "None\n",
      "1.5e-05\n",
      "========= START =========\n",
      "========== DXS ==========\n",
      "94800:Bdy brn < 10%/3d deg NOS:Burn [any degree] involving less than 10 percent of body surface with third degree burn, less than 10 percent or unspecified\n",
      "========== PRS ==========\n",
      "8628:Nonexcisional debridement of wound, infection or burn\n",
      "8665:Heterograft to skin\n",
      "8665:Heterograft to skin\n",
      "8691:Excision of skin for graft\n",
      "========== END ==========\n",
      "None\n",
      "5.8e-06\n",
      "========= START =========\n",
      "========== DXS ==========\n",
      "9480:Burn (any degree) involving less than 10 percent of body surface:None\n",
      "========== PRS ==========\n",
      "8628:Nonexcisional debridement of wound, infection or burn\n",
      "8691:Excision of skin for graft\n",
      "866:Unknown Code\n",
      "========== END ==========\n",
      "None\n",
      "3.5e-06\n",
      "========= START =========\n",
      "========== DXS ==========\n",
      "94800:Bdy brn < 10%/3d deg NOS:Burn [any degree] involving less than 10 percent of body surface with third degree burn, less than 10 percent or unspecified\n",
      "========== PRS ==========\n",
      "9918:Injection or infusion of electrolytes\n",
      "8628:Nonexcisional debridement of wound, infection or burn\n",
      "9359:Other immobilization, pressure, and attention to wound\n",
      "796:Unknown Code\n",
      "========== END ==========\n",
      "None\n",
      "2.0e-06\n",
      "========= START =========\n",
      "========== DXS ==========\n",
      "94222:2nd deg burn chest wall:Blisters, epidermal loss [second degree] of chest wall, excluding breast and nipple\n",
      "9130:Abrasion forearm:Abrasion or friction burn of elbow, forearm, and wrist, without mention of infection\n",
      "84509:Sprain of ankle NEC:Other sprains and strains of ankle\n",
      "========== PRS ==========\n",
      "8364:Other suture of tendon\n",
      "========== END ==========\n",
      "None\n"
     ]
    }
   ],
   "source": [
    "for i in range(PRINT_SEQUENCES):\n",
    "    if '<UNK>' not in e9240_gen_seq[e9240_anomaly[i][0]]:\n",
    "        print(format(e9240_anomaly[i][1], '.1e'))\n",
    "        print(print_seq_dsc(e9240_gen_seq[e9240_anomaly[i][0]]))"
   ]
  },
  {
   "cell_type": "code",
   "execution_count": null,
   "id": "f0f88c1d-5913-40b0-9558-5d45d5b1277e",
   "metadata": {},
   "outputs": [],
   "source": []
  }
 ],
 "metadata": {
  "kernelspec": {
   "display_name": "Python 3 (ipykernel)",
   "language": "python",
   "name": "python3"
  },
  "language_info": {
   "codemirror_mode": {
    "name": "ipython",
    "version": 3
   },
   "file_extension": ".py",
   "mimetype": "text/x-python",
   "name": "python",
   "nbconvert_exporter": "python",
   "pygments_lexer": "ipython3",
   "version": "3.8.12"
  }
 },
 "nbformat": 4,
 "nbformat_minor": 5
}
