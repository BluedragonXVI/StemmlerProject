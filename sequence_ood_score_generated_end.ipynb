{
 "cells": [
  {
   "cell_type": "code",
   "execution_count": 1,
   "id": "d6ace74a-f6f3-4529-b9d1-bfe196e9db0a",
   "metadata": {},
   "outputs": [
    {
     "name": "stderr",
     "output_type": "stream",
     "text": [
      "/home/paul/anaconda3/envs/stemmler/lib/python3.8/site-packages/tqdm/auto.py:22: TqdmWarning: IProgress not found. Please update jupyter and ipywidgets. See https://ipywidgets.readthedocs.io/en/stable/user_install.html\n",
      "  from .autonotebook import tqdm as notebook_tqdm\n"
     ]
    }
   ],
   "source": [
    "import numpy as np\n",
    "import pandas as pd\n",
    "\n",
    "from transformers import AutoTokenizer\n",
    "NTDBGPT2_tokenizer = AutoTokenizer.from_pretrained('dracoglacius/NTDB-GPT2')\n",
    "\n",
    "from utils import *\n",
    "from mdf import *\n",
    "from outputs import *"
   ]
  },
  {
   "cell_type": "markdown",
   "id": "0753465d-87c6-47b5-b5d0-bde4b4ef8de6",
   "metadata": {
    "tags": []
   },
   "source": [
    "## Overview\n",
    "\n",
    "We have the intuition that given a distribution with center of the hyper-elliposid $c$ and the shape of the ellipsoid defined by $\\Sigma$, $c$ and $\\sigma$ should not deviate from the empirical mean ($\\hat{c}$) and the covariance estimations ($\\hat{\\Sigma}$) taken from the training data. \n",
    "\n",
    "To obtain these estimates we need to:\n",
    "\n",
    "1. Feed the NTDB model with the training data (length $n$) and from the last token get the features of each layer ($n$ x 13 x 768)\n",
    "1. Calculate the sample mean ($\\hat{c}$) and the covariance estimate ($\\hat{\\Sigma}$), while also getting the estimated pseudo-inverse (called `.precision_` in sklearn)\n",
    "\n",
    "To obtain the OOD estimation we need to:\n",
    "\n",
    "1. Calculate the Mahalanobis Distance Feature (MDF) using the generated data (should be a vector equal to the number of layers)\n",
    "1. Calculate the Anomaly Score\n",
    "  1. This is a one-class SVM with a linear kernel with MDF as features"
   ]
  },
  {
   "cell_type": "markdown",
   "id": "b95ff2e7-2b38-443c-ba76-ed8b2dccc3eb",
   "metadata": {},
   "source": [
    "# Configurations"
   ]
  },
  {
   "cell_type": "code",
   "execution_count": 2,
   "id": "62b2dfff-c404-4e7e-b5e5-5f0541f2aed4",
   "metadata": {},
   "outputs": [],
   "source": [
    "PRINT_SEQUENCES = 20\n",
    "TRN_FRAC = 0.9"
   ]
  },
  {
   "cell_type": "markdown",
   "id": "a3587570-6e01-4818-8eb8-35b2e24423ce",
   "metadata": {},
   "source": [
    "## Load Data"
   ]
  },
  {
   "cell_type": "code",
   "execution_count": 3,
   "id": "38c8ac3e-17d0-4870-aad4-d34d434db0b2",
   "metadata": {},
   "outputs": [],
   "source": [
    "trn_seq = np.load(\"../data/25k_train_seqs_3_22_E8859_E8120_E9660_E9654_E9240.npy\")\n",
    "gen_seq = np.load(\"../data/25k_gen_seqs_3_22_E8859_E8120_E9660_E9654_E9240.npy\")\n",
    "\n",
    "e8120_trn_seq = filter_token_length([x for x in trn_seq if 'E812.0' in x], NTDBGPT2_tokenizer) # 5000 items\n",
    "e8859_trn_seq = filter_token_length([x for x in trn_seq if 'E885.9' in x], NTDBGPT2_tokenizer) # 5000 items\n",
    "e9660_trn_seq = filter_token_length([x for x in trn_seq if 'E966.0' in x], NTDBGPT2_tokenizer) # 5000 items\n",
    "e9654_trn_seq = filter_token_length([x for x in trn_seq if 'E965.4' in x], NTDBGPT2_tokenizer) # 5000 items\n",
    "e9240_trn_seq = filter_token_length([x for x in trn_seq if 'E924.0' in x], NTDBGPT2_tokenizer) # 5000 items\n",
    "\n",
    "e8120_gen_seq = filter_token_length([x for x in gen_seq if 'E812.0' in x], NTDBGPT2_tokenizer) # 5000 items\n",
    "e8859_gen_seq = filter_token_length([x for x in gen_seq if 'E885.9' in x], NTDBGPT2_tokenizer) # 5000 items\n",
    "e9660_gen_seq = filter_token_length([x for x in gen_seq if 'E966.0' in x], NTDBGPT2_tokenizer) # 5000 items\n",
    "e9654_gen_seq = filter_token_length([x for x in gen_seq if 'E965.4' in x], NTDBGPT2_tokenizer) # 5000 items\n",
    "e9240_gen_seq = filter_token_length([x for x in gen_seq if 'E924.0' in x], NTDBGPT2_tokenizer) # 5000 items"
   ]
  },
  {
   "cell_type": "markdown",
   "id": "72d97311-65ed-40ee-aaf3-42dba9ef4879",
   "metadata": {},
   "source": [
    "# E812.0"
   ]
  },
  {
   "cell_type": "code",
   "execution_count": 4,
   "id": "ce21c64b-7ffd-49de-9f09-805c936e9a76",
   "metadata": {
    "tags": []
   },
   "outputs": [
    {
     "name": "stderr",
     "output_type": "stream",
     "text": [
      "100%|███████████████████████████████████████████████████████████████| 13/13 [00:01<00:00,  8.41it/s]\n",
      "100%|███████████████████████████████████████████████████████████████| 13/13 [00:00<00:00, 16.21it/s]\n",
      "100%|██████████████████████████████████████████████████████████████| 13/13 [00:00<00:00, 432.33it/s]\n",
      "100%|██████████████████████████████████████████████████████████████| 13/13 [00:00<00:00, 468.90it/s]\n",
      "/home/paul/Stemmler/StemmlerProject/mdf.py:51: UserWarning: you are shuffling a 'Tensor' object which is not a subclass of 'Sequence'; `shuffle` is not guaranteed to behave correctly. E.g., non-numpy array/tensor objects with view semantics may contain duplicates after shuffling.\n",
      "  np.random.shuffle(test_mdf)\n",
      "/home/paul/Stemmler/StemmlerProject/mdf.py:52: UserWarning: you are shuffling a 'Tensor' object which is not a subclass of 'Sequence'; `shuffle` is not guaranteed to behave correctly. E.g., non-numpy array/tensor objects with view semantics may contain duplicates after shuffling.\n",
      "  np.random.shuffle(ood_mdf)\n"
     ]
    },
    {
     "name": "stdout",
     "output_type": "stream",
     "text": [
      "torch.Size([365, 13])\n",
      "torch.Size([365, 13])\n"
     ]
    },
    {
     "name": "stderr",
     "output_type": "stream",
     "text": [
      " 73%|██████████████████████████████████████████████▌                 | 8/11 [00:00<00:00, 71.04it/s]/home/paul/anaconda3/envs/stemmler/lib/python3.8/site-packages/sklearn/svm/_classes.py:1661: RuntimeWarning: invalid value encountered in add\n",
      "  return self.decision_function(X) + self.offset_\n",
      "/home/paul/anaconda3/envs/stemmler/lib/python3.8/site-packages/sklearn/svm/_classes.py:1661: RuntimeWarning: invalid value encountered in add\n",
      "  return self.decision_function(X) + self.offset_\n",
      "100%|███████████████████████████████████████████████████████████████| 11/11 [00:00<00:00, 15.81it/s]\n"
     ]
    },
    {
     "name": "stdout",
     "output_type": "stream",
     "text": [
      " AUROC  DTACC  AUIN   AUOUT \n",
      " 77.57  71.51  76.98  80.96\n",
      "best hyper linear-0.5\n",
      "saving data for plotting\n",
      "-------------------------------\n"
     ]
    },
    {
     "data": {
      "image/png": "[encoded data removed]",
      "text/plain": [
       "<Figure size 432x288 with 1 Axes>"
      ]
     },
     "metadata": {
      "needs_background": "light"
     },
     "output_type": "display_data"
    },
    {
     "name": "stdout",
     "output_type": "stream",
     "text": [
      "Normal: 273 Anomaly: 92\n"
     ]
    }
   ],
   "source": [
    "e8120_report, e8120_border = oc_svm_detector('e8120', e8120_trn_seq, e8120_gen_seq, TRN_FRAC, PRINT_SEQUENCES)"
   ]
  },
  {
   "cell_type": "code",
   "execution_count": 5,
   "id": "697147d8-6fa0-4ccf-9574-d517293a797e",
   "metadata": {},
   "outputs": [
    {
     "name": "stdout",
     "output_type": "stream",
     "text": [
      "========= START =========\n",
      "========== DXS ==========\n",
      "8600:Traum pneumothorax-close:Traumatic pneumothorax without mention of open wound into thorax\n",
      "80702:Fracture two ribs-closed:Closed fracture of two ribs\n",
      "========== PRS ==========\n",
      "9352:Application of neck support\n",
      "8801:Computerized axial tomography of abdomen\n",
      "8741:Computerized axial tomography of thorax\n",
      "========== END ==========\n",
      "\n",
      "========= START =========\n",
      "========== DXS ==========\n",
      "9190:Abrasion NEC:Abrasion or friction burn of other, multiple, and unspecified sites, without mention of infection\n",
      "8798:Open wound site NOS:Open wound(s) (multiple) of unspecified site(s), without mention of complication\n",
      "8509:Concussion NOS:Concussion, unspecified\n",
      "82525:Fx metatarsal-closed:Closed fracture of metatarsal bone(s)\n",
      "========== PRS ==========\n",
      "========== END ==========\n",
      "\n",
      "========= START =========\n",
      "========== DXS ==========\n",
      "87340:Open wound of face NOS:Open wound of face, unspecified site, without mention of complication\n",
      "8509:Concussion NOS:Concussion, unspecified\n",
      "========== PRS ==========\n",
      "8703:Computerized axial tomography of head\n",
      "========== END ==========\n",
      "\n",
      "========= START =========\n",
      "========== DXS ==========\n",
      "87342:Open wound of forehead:Open wound of forehead, without mention of complication\n",
      "========== PRS ==========\n",
      "========== END ==========\n",
      "\n",
      "========= START =========\n",
      "========== DXS ==========\n",
      "92411:Contusion of knee:Contusion of knee\n",
      "8245:Fx bimalleolar-open:Bimalleolar fracture, open\n",
      "========== PRS ==========\n",
      "7966:Debridement of open fracture site, tibia and fibula\n",
      "7936:Open reduction of fracture with internal fixation, tibia and fibula\n",
      "========== END ==========\n",
      "\n"
     ]
    }
   ],
   "source": [
    "for s in e8120_trn_seq[:5]:\n",
    "    print_seq_dsc(s)\n",
    "    print()"
   ]
  },
  {
   "cell_type": "code",
   "execution_count": 6,
   "id": "0e9c5829-27a6-4c5e-9ce8-e3a51c75477a",
   "metadata": {},
   "outputs": [
    {
     "name": "stdout",
     "output_type": "stream",
     "text": [
      "========= START =========\n",
      "========== DXS ==========\n",
      "851:Cerebral laceration and contusion:None\n",
      "========== PRS ==========\n",
      "8838:Other computerized axial tomography\n",
      "8801:Computerized axial tomography of abdomen\n",
      "8838:Other computerized axial tomography\n",
      "8741:Computerized axial tomography of thorax\n",
      "8703:Computerized axial tomography of head\n",
      "8838:Other computerized axial tomography\n",
      "8838:Other computerized axial tomography\n",
      "8801:Computerized axial tomography of abdomen\n",
      "8703:Computerized axial tomography of head\n",
      "========== END ==========\n",
      "\n",
      "========= START =========\n",
      "========== DXS ==========\n",
      "82523:Fx cuboid-closed:Closed fracture of cuboid\n",
      "82521:Fx astragalus-closed:Closed fracture of astragalus\n",
      "825:Fracture of one or more tarsal and metatarsal bones:None\n",
      "824:Fracture of ankle:None\n",
      "82321:Fx shaft fibula-closed:Closed fracture of shaft of fibula alone\n",
      "823:Fracture of tibia and fibula:None\n",
      "808:Fracture of pelvis:None\n",
      "8074:Flail chest:Flail chest\n",
      "8072:Fracture of sternum-clos:Closed fracture of sternum\n",
      "80705:Fracture five ribs-close:Closed fracture of five ribs\n",
      "========== PRS ==========\n",
      "========== END ==========\n",
      "\n",
      "========= START =========\n",
      "========== DXS ==========\n",
      "9130:Abrasion forearm:Abrasion or friction burn of elbow, forearm, and wrist, without mention of infection\n",
      "85106:Cortex contus-coma NOS:Cortex (cerebral) contusion without mention of open intracranial wound, with loss of consciousness of unspecified duration\n",
      "8470:Sprain of neck:Sprain of neck\n",
      "========== PRS ==========\n",
      "8826:Other skeletal x-ray of pelvis and hip\n",
      "8838:Other computerized axial tomography\n",
      "8722:Other x-ray of cervical spine\n",
      "8744:Routine chest x-ray, so described\n",
      "8876:Diagnostic ultrasound of abdomen and retroperitoneum\n",
      "8703:Computerized axial tomography of head\n",
      "8893:Magnetic resonance imaging of spinal canal\n",
      "========== END ==========\n",
      "\n",
      "========= START =========\n",
      "========== DXS ==========\n",
      "87342:Open wound of forehead:Open wound of forehead, without mention of complication\n",
      "========== PRS ==========\n",
      "8838:Other computerized axial tomography\n",
      "9359:Other immobilization, pressure, and attention to wound\n",
      "8703:Computerized axial tomography of head\n",
      "9352:Application of neck support\n",
      "3893:Venous catheterization, not elsewhere classified\n",
      "8659:Closure of skin and subcutaneous tissue of other sites\n",
      "8871:Diagnostic ultrasound of head and neck\n",
      "8893:Magnetic resonance imaging of spinal canal\n",
      "========== END ==========\n",
      "\n",
      "========= START =========\n",
      "========== DXS ==========\n",
      "86122:Lung laceration-closed:Laceration of lung without mention of open wound into thorax\n",
      "81109:Fx scapula NEC-closed:Closed fracture of scapula, other\n",
      "810:Fracture of clavicle:None\n",
      "80702:Fracture two ribs-closed:Closed fracture of two ribs\n",
      "80507:Fx c7 vertebra-closed:Closed fracture of seventh cervical vertebra\n",
      "80507:Fx c7 vertebra-closed:Closed fracture of seventh cervical vertebra\n",
      "========== PRS ==========\n",
      "8876:Diagnostic ultrasound of abdomen and retroperitoneum\n",
      "8741:Computerized axial tomography of thorax\n",
      "8703:Computerized axial tomography of head\n",
      "8838:Other computerized axial tomography\n",
      "========== END ==========\n",
      "\n"
     ]
    }
   ],
   "source": [
    "n = e8120_report[e8120_report['score']<e8120_border]\n",
    "\n",
    "for _,r in n[:5].iterrows():\n",
    "    print(r['output'])"
   ]
  },
  {
   "cell_type": "code",
   "execution_count": 7,
   "id": "f7236ebb-72f1-4af2-9fcb-28702b8fde49",
   "metadata": {},
   "outputs": [
    {
     "name": "stdout",
     "output_type": "stream",
     "text": [
      "========= START =========\n",
      "========== DXS ==========\n",
      "82021:Intertrochanteric fx-cl:Closed fracture of intertrochanteric section of neck of femur\n",
      "========== PRS ==========\n",
      "8952:Electrocardiogram\n",
      "E8120:Unknown Code\n",
      "7915:Closed reduction of fracture with internal fixation, femur\n",
      "3893:Venous catheterization, not elsewhere classified\n",
      "========== END ==========\n",
      "\n",
      "========= START =========\n",
      "========== DXS ==========\n",
      "920:Contusion of face, scalp, and neck except eye(s):None\n",
      "9110:Abrasion trunk:Abrasion or friction burn of trunk, without mention of infection\n",
      "9100:Abrasion head:Abrasion or friction burn of face, neck, and scalp except eye, without mention of infection\n",
      "87341:Open wound of cheek:Open wound of cheek, without mention of complication\n",
      "87340:Open wound of face NOS:Open wound of face, unspecified site, without mention of complication\n",
      "8730:Open wound of scalp:Open wound of scalp, without mention of complication\n",
      "86121:Lung contusion-closed:Contusion of lung without mention of open wound into thorax\n",
      "85300:Traumatic brain hem NEC:Other and unspecified intracranial hemorrhage following injury without mention of open intracranial wound, unspecified state of consciousness\n",
      "8470:Sprain of neck:Sprain of neck\n",
      "82525:Fx metatarsal-closed:Closed fracture of metatarsal bone(s)\n",
      "8221:Fracture patella-open:Open fracture of patella\n",
      "========== END ==========\n",
      "\n",
      "========= START =========\n",
      "========== DXS ==========\n",
      "9587:Traum subcutan emphysema:Traumatic subcutaneous emphysema\n",
      "86403:Liver laceration, mod:Injury to liver without mention of open wound into cavity, laceration, moderate\n",
      "86384:Pancreas injury NOS-clos:Injury to pancreas, multiple and unspecified sites, without mention of open wound into cavity\n",
      "86329:Small intest inj NEC-cl:Other injury to small intestine, without mention of open wound into cavity\n",
      "86121:Lung contusion-closed:Contusion of lung without mention of open wound into thorax\n",
      "8604:Traum pneumohemothor-cl:Traumatic pneumohemothorax without mention of open wound into thorax\n",
      "8600:Traum pneumothorax-close:Traumatic pneumothorax without mention of open wound into thorax\n",
      "81109:Fx scapula NEC-closed:Closed fracture of scapula, other\n",
      "80843:Pelv fx-clos/pelv disrup:Multiple closed pelvic fractures with disruption of pelvic circle\n",
      "80708:Fx eight/more rib-closed:Closed fracture of eight or more ribs\n",
      "8056:Fx sacrum/coccyx-closed:Closed fracture of sacrum and coccyx without mention of spinal cord injury\n",
      "========== END ==========\n",
      "\n",
      "========= START =========\n",
      "========== DXS ==========\n",
      "87349:Open wound of face NEC:Open wound of other and multiple sites of face, without mention of complication\n",
      "86121:Lung contusion-closed:Contusion of lung without mention of open wound into thorax\n",
      "========== PRS ==========\n",
      "8741:Computerized axial tomography of thorax\n",
      "8771:Computerized axial tomography of kidney\n",
      "8801:Computerized axial tomography of abdomen\n",
      "8838:Other computerized axial tomography\n",
      "8703:Computerized axial tomography of head\n",
      "7939:Open reduction of fracture with internal fixation, other specified bone\n",
      "8622:Excisional debridement of wound, infection, or burn\n",
      "========== END ==========\n",
      "\n",
      "========= START =========\n",
      "========== DXS ==========\n",
      "8600:Traum pneumothorax-close:Traumatic pneumothorax without mention of open wound into thorax\n",
      "8220:Fracture patella-closed:Closed fracture of patella\n",
      "8054:Fx lumbar vertebra-close:Closed fracture of lumbar vertebra without mention of spinal cord injury\n",
      "========== PRS ==========\n",
      "9359:Other immobilization, pressure, and attention to wound\n",
      "9919:Injection of anticoagulant\n",
      "8827:Skeletal x-ray of thigh, knee, and lower leg\n",
      "8703:Computerized axial tomography of head\n",
      "8838:Other computerized axial tomography\n",
      "8801:Computerized axial tomography of abdomen\n",
      "========== END ==========\n",
      "\n"
     ]
    }
   ],
   "source": [
    "w = e8120_report[e8120_report['score']>e8120_border]\n",
    "\n",
    "for _,r in w[:5].iterrows():\n",
    "    print(r['output'])"
   ]
  },
  {
   "cell_type": "markdown",
   "id": "cb9d7bc0-e32a-4af2-94aa-e895af86d9e7",
   "metadata": {
    "tags": []
   },
   "source": [
    "# E885.9"
   ]
  },
  {
   "cell_type": "code",
   "execution_count": 8,
   "id": "b2875a4e-51d5-4503-aa9b-c0bc10c21291",
   "metadata": {},
   "outputs": [
    {
     "name": "stderr",
     "output_type": "stream",
     "text": [
      "100%|███████████████████████████████████████████████████████████████| 13/13 [00:01<00:00,  9.11it/s]\n",
      "100%|███████████████████████████████████████████████████████████████| 13/13 [00:01<00:00, 12.23it/s]\n",
      "100%|██████████████████████████████████████████████████████████████| 13/13 [00:00<00:00, 434.32it/s]\n",
      "100%|██████████████████████████████████████████████████████████████| 13/13 [00:00<00:00, 345.23it/s]\n",
      "/home/paul/Stemmler/StemmlerProject/mdf.py:51: UserWarning: you are shuffling a 'Tensor' object which is not a subclass of 'Sequence'; `shuffle` is not guaranteed to behave correctly. E.g., non-numpy array/tensor objects with view semantics may contain duplicates after shuffling.\n",
      "  np.random.shuffle(test_mdf)\n",
      "/home/paul/Stemmler/StemmlerProject/mdf.py:52: UserWarning: you are shuffling a 'Tensor' object which is not a subclass of 'Sequence'; `shuffle` is not guaranteed to behave correctly. E.g., non-numpy array/tensor objects with view semantics may contain duplicates after shuffling.\n",
      "  np.random.shuffle(ood_mdf)\n"
     ]
    },
    {
     "name": "stdout",
     "output_type": "stream",
     "text": [
      "torch.Size([432, 13])\n",
      "torch.Size([432, 13])\n"
     ]
    },
    {
     "name": "stderr",
     "output_type": "stream",
     "text": [
      " 73%|██████████████████████████████████████████████▌                 | 8/11 [00:00<00:00, 56.26it/s]/home/paul/anaconda3/envs/stemmler/lib/python3.8/site-packages/sklearn/svm/_classes.py:1661: RuntimeWarning: invalid value encountered in add\n",
      "  return self.decision_function(X) + self.offset_\n",
      "/home/paul/anaconda3/envs/stemmler/lib/python3.8/site-packages/sklearn/svm/_classes.py:1661: RuntimeWarning: invalid value encountered in add\n",
      "  return self.decision_function(X) + self.offset_\n",
      "100%|███████████████████████████████████████████████████████████████| 11/11 [00:00<00:00, 11.25it/s]\n"
     ]
    },
    {
     "name": "stdout",
     "output_type": "stream",
     "text": [
      " AUROC  DTACC  AUIN   AUOUT \n",
      " 72.47  66.09  74.31  76.36\n",
      "best hyper linear-0.2\n",
      "saving data for plotting\n",
      "-------------------------------\n"
     ]
    },
    {
     "data": {
      "image/png": "[encoded data removed]",
      "text/plain": [
       "<Figure size 432x288 with 1 Axes>"
      ]
     },
     "metadata": {
      "needs_background": "light"
     },
     "output_type": "display_data"
    },
    {
     "name": "stdout",
     "output_type": "stream",
     "text": [
      "Normal: 323 Anomaly: 109\n"
     ]
    }
   ],
   "source": [
    "e8859_report, e8859_border = oc_svm_detector('e8859', e8859_trn_seq, e8859_gen_seq, TRN_FRAC, PRINT_SEQUENCES)"
   ]
  },
  {
   "cell_type": "code",
   "execution_count": 9,
   "id": "152ff59e-dc66-42c0-9adf-7223721257a3",
   "metadata": {},
   "outputs": [
    {
     "name": "stdout",
     "output_type": "stream",
     "text": [
      "========= START =========\n",
      "========== DXS ==========\n",
      "85300:Traumatic brain hem NEC:Other and unspecified intracranial hemorrhage following injury without mention of open intracranial wound, unspecified state of consciousness\n",
      "8730:Open wound of scalp:Open wound of scalp, without mention of complication\n",
      "========== PRS ==========\n",
      "0139:Other incision of brain\n",
      "========== END ==========\n",
      "\n",
      "========= START =========\n",
      "========== DXS ==========\n",
      "82021:Intertrochanteric fx-cl:Closed fracture of intertrochanteric section of neck of femur\n",
      "81201:Fx surg nck humerus-clos:Closed fracture of surgical neck of humerus\n",
      "========== PRS ==========\n",
      "7901:Closed reduction of fracture without internal fixation, humerus\n",
      "0033:Computer assisted surgery with fluoroscopy\n",
      "7935:Open reduction of fracture with internal fixation, femur\n",
      "========== END ==========\n",
      "\n",
      "========= START =========\n",
      "========== DXS ==========\n",
      "83101:Ant disloc humerus-close:Closed anterior dislocation of humerus\n",
      "81209:Fx upper humerus NEC-cl:Other closed fracture of upper end of humerus\n",
      "========== PRS ==========\n",
      "<UNK>:Unknown Code\n",
      "========== END ==========\n",
      "\n",
      "========= START =========\n",
      "========== DXS ==========\n",
      "8208:Fx neck of femur NOS-cl:Closed fracture of unspecified part of neck of femur\n",
      "========== PRS ==========\n",
      "7915:Closed reduction of fracture with internal fixation, femur\n",
      "========== END ==========\n",
      "\n",
      "========= START =========\n",
      "========== DXS ==========\n",
      "8370:Dislocation ankle-closed:Closed dislocation of ankle\n",
      "82381:Fx fibula NOS-closed:Closed fracture of unspecified part of fibula alone\n",
      "========== PRS ==========\n",
      "7936:Open reduction of fracture with internal fixation, tibia and fibula\n",
      "========== END ==========\n",
      "\n"
     ]
    }
   ],
   "source": [
    "for s in e8859_trn_seq[:5]:\n",
    "    print_seq_dsc(s)\n",
    "    print()"
   ]
  },
  {
   "cell_type": "code",
   "execution_count": 10,
   "id": "a4f81d86-464e-4767-847c-30a3a8780628",
   "metadata": {},
   "outputs": [
    {
     "name": "stdout",
     "output_type": "stream",
     "text": [
      "========= START =========\n",
      "========== DXS ==========\n",
      "87342:Open wound of forehead:Open wound of forehead, without mention of complication\n",
      "82021:Intertrochanteric fx-cl:Closed fracture of intertrochanteric section of neck of femur\n",
      "========== PRS ==========\n",
      "8952:Electrocardiogram\n",
      "8952:Electrocardiogram\n",
      "9396:Other oxygen enrichment\n",
      "========== END ==========\n",
      "\n",
      "========= START =========\n",
      "========== DXS ==========\n",
      "80230:Mandible fx NOS-open:Open fracture of mandible, unspecified site\n",
      "8020:Nasal bone fx-closed:Closed fracture of nasal bones\n",
      "========== PRS ==========\n",
      "9355:Dental wiring\n",
      "7675:Closed reduction of mandibular fracture\n",
      "========== END ==========\n",
      "\n",
      "========= START =========\n",
      "========== DXS ==========\n",
      "923:Contusion of upper limb:None\n",
      "920:Contusion of face, scalp, and neck except eye(s):None\n",
      "80025:Cl skul vlt fx-deep coma:Closed fracture of vault of skull with subarachnoid, subdural, and extradural hemorrhage, with prolonged [more than 24 hours] loss of consciousness, without return to pre-existing conscious level\n",
      "========== PRS ==========\n",
      "8703:Computerized axial tomography of head\n",
      "8838:Other computerized axial tomography\n",
      "========== END ==========\n",
      "\n",
      "========= START =========\n",
      "========== DXS ==========\n",
      "85222:Subdural hem-brief coma:Subdural hemorrhage following injury without mention of open intracranial wound, with brief [less than one hour] loss of consciousness\n",
      "85202:Subarach hem-brief coma:Subarachnoid hemorrhage following injury without mention of open intracranial wound, with brief [less than one hour] loss of consciousness\n",
      "85302:Brain hem NEC-brief coma:Other and unspecified intracranial hemorrhage following injury without mention of open intracranial wound, with brief [less than one hour] loss of consciousness\n",
      "80701:Fracture one rib-closed:Closed fracture of one rib\n",
      "80507:Fx c7 vertebra-closed:Closed fracture of seventh cervical vertebra\n",
      "========== PRS ==========\n",
      "========== END ==========\n",
      "\n",
      "========= START =========\n",
      "========== DXS ==========\n",
      "920:Contusion of face, scalp, and neck except eye(s):None\n",
      "9160:Abrasion hip & leg:Abrasion or friction burn of hip, thigh, leg, and ankle, without mention of infection\n",
      "9130:Abrasion forearm:Abrasion or friction burn of elbow, forearm, and wrist, without mention of infection\n",
      "82021:Intertrochanteric fx-cl:Closed fracture of intertrochanteric section of neck of femur\n",
      "81201:Fx surg nck humerus-clos:Closed fracture of surgical neck of humerus\n",
      "========== PRS ==========\n",
      "========== END ==========\n",
      "\n"
     ]
    }
   ],
   "source": [
    "n = e8859_report[e8859_report['score']<e8859_border]\n",
    "\n",
    "for _,r in n[:5].iterrows():\n",
    "    print(r['output'])"
   ]
  },
  {
   "cell_type": "code",
   "execution_count": 11,
   "id": "a67a63ee-51dd-44da-a56d-5076d2fd9258",
   "metadata": {},
   "outputs": [
    {
     "name": "stdout",
     "output_type": "stream",
     "text": [
      "========= START =========\n",
      "========== DXS ==========\n",
      "83813:Disl tarsometatarsal-opn:Open dislocation of tarsometatarsal (joint)\n",
      "8371:Dislocation ankle-open:Open dislocation of ankle\n",
      "82535:Fx metatarsal-open:Open fracture of metatarsal bone(s)\n",
      "========== PRS ==========\n",
      "7987:Open reduction of dislocation of ankle\n",
      "7908:Closed reduction of fracture without internal fixation, phalanges of foot\n",
      "========== END ==========\n",
      "\n",
      "========= START =========\n",
      "========== DXS ==========\n",
      "92401:Contusion of hip:Contusion of hip\n",
      "920:Contusion of face, scalp, and neck except eye(s):None\n",
      "85220:Traumatic subdural hem:Subdural hemorrhage following injury without mention of open intracranial wound, unspecified state of consciousness\n",
      "85200:Traum subarachnoid hem:Subarachnoid hemorrhage following injury without mention of open intracranial wound, unspecified state of consciousness\n",
      "85100:Cerebral cortx contusion:Cortex (cerebral) contusion without mention of open intracranial wound, unspecified state of consciousness\n",
      "========== PRS ==========\n",
      "========== END ==========\n",
      "\n",
      "========= START =========\n",
      "========== DXS ==========\n",
      "920:Contusion of face, scalp, and neck except eye(s):None\n",
      "9130:Abrasion forearm:Abrasion or friction burn of elbow, forearm, and wrist, without mention of infection\n",
      "85220:Traumatic subdural hem:Subdural hemorrhage following injury without mention of open intracranial wound, unspecified state of consciousness\n",
      "85200:Traum subarachnoid hem:Subarachnoid hemorrhage following injury without mention of open intracranial wound, unspecified state of consciousness\n",
      "83921:Disloc thoracic vert-cl:Closed dislocation, thoracic vertebra\n",
      "80709:Fx mult ribs NOS-closed:Closed fracture of multiple ribs, unspecified\n",
      "========== END ==========\n",
      "\n",
      "========= START =========\n",
      "========== DXS ==========\n",
      "85411:Opn brain inj w/o coma:Intracranial injury of other and unspecified nature with open intracranial wound, with no loss of consciousness\n",
      "8208:Fx neck of femur NOS-cl:Closed fracture of unspecified part of neck of femur\n",
      "========== PRS ==========\n",
      "8152:Partial hip replacement\n",
      "4131:Biopsy of bone marrow\n",
      "8703:Computerized axial tomography of head\n",
      "========== END ==========\n",
      "\n",
      "========= START =========\n",
      "========== DXS ==========\n",
      "86121:Lung contusion-closed:Contusion of lung without mention of open wound into thorax\n",
      "80125:Cl skl base fx-deep coma:Closed fracture of base of skull with subarachnoid, subdural, and extradural hemorrhage, with prolonged [more than 24 hours] loss of consciousness, without return to pre-existing conscious level\n",
      "========== PRS ==========\n",
      "9604:Insertion of endotracheal tube\n",
      "9671:Continuous invasive mechanical ventilation for less than 96 consecutive hours\n",
      "3891:Arterial catheterization\n",
      "========== END ==========\n",
      "\n"
     ]
    }
   ],
   "source": [
    "w = e8859_report[e8859_report['score']>e8859_border]\n",
    "\n",
    "for _,r in w[:5].iterrows():\n",
    "    print(r['output'])"
   ]
  },
  {
   "cell_type": "markdown",
   "id": "e786f6df-e255-4995-95db-9013ace5f5f8",
   "metadata": {},
   "source": [
    "# E966.0"
   ]
  },
  {
   "cell_type": "code",
   "execution_count": 12,
   "id": "44619d7d-65a4-49bb-9cad-07cd4ec9adcf",
   "metadata": {},
   "outputs": [
    {
     "name": "stderr",
     "output_type": "stream",
     "text": [
      "100%|███████████████████████████████████████████████████████████████| 13/13 [00:01<00:00, 11.31it/s]\n",
      "100%|███████████████████████████████████████████████████████████████| 13/13 [00:00<00:00, 13.17it/s]\n",
      "100%|██████████████████████████████████████████████████████████████| 13/13 [00:00<00:00, 483.89it/s]\n",
      "100%|██████████████████████████████████████████████████████████████| 13/13 [00:00<00:00, 494.51it/s]\n",
      "/home/paul/Stemmler/StemmlerProject/mdf.py:51: UserWarning: you are shuffling a 'Tensor' object which is not a subclass of 'Sequence'; `shuffle` is not guaranteed to behave correctly. E.g., non-numpy array/tensor objects with view semantics may contain duplicates after shuffling.\n",
      "  np.random.shuffle(test_mdf)\n",
      "/home/paul/Stemmler/StemmlerProject/mdf.py:52: UserWarning: you are shuffling a 'Tensor' object which is not a subclass of 'Sequence'; `shuffle` is not guaranteed to behave correctly. E.g., non-numpy array/tensor objects with view semantics may contain duplicates after shuffling.\n",
      "  np.random.shuffle(ood_mdf)\n"
     ]
    },
    {
     "name": "stdout",
     "output_type": "stream",
     "text": [
      "torch.Size([421, 13])\n",
      "torch.Size([421, 13])\n"
     ]
    },
    {
     "name": "stderr",
     "output_type": "stream",
     "text": [
      " 73%|██████████████████████████████████████████████▌                 | 8/11 [00:00<00:00, 58.46it/s]/home/paul/anaconda3/envs/stemmler/lib/python3.8/site-packages/sklearn/svm/_classes.py:1661: RuntimeWarning: invalid value encountered in add\n",
      "  return self.decision_function(X) + self.offset_\n",
      "/home/paul/anaconda3/envs/stemmler/lib/python3.8/site-packages/sklearn/svm/_classes.py:1661: RuntimeWarning: invalid value encountered in add\n",
      "  return self.decision_function(X) + self.offset_\n",
      "100%|███████████████████████████████████████████████████████████████| 11/11 [00:00<00:00, 11.76it/s]\n"
     ]
    },
    {
     "name": "stdout",
     "output_type": "stream",
     "text": [
      " AUROC  DTACC  AUIN   AUOUT \n",
      " 72.75  66.15  73.42  75.77\n",
      "best hyper linear-0.1\n",
      "saving data for plotting\n",
      "-------------------------------\n"
     ]
    },
    {
     "data": {
      "image/png": "[encoded data removed]",
      "text/plain": [
       "<Figure size 432x288 with 1 Axes>"
      ]
     },
     "metadata": {
      "needs_background": "light"
     },
     "output_type": "display_data"
    },
    {
     "name": "stdout",
     "output_type": "stream",
     "text": [
      "Normal: 315 Anomaly: 106\n"
     ]
    }
   ],
   "source": [
    "e9660_report, e9660_border = oc_svm_detector('e9660', e9660_trn_seq, e9660_gen_seq, TRN_FRAC, PRINT_SEQUENCES)"
   ]
  },
  {
   "cell_type": "code",
   "execution_count": 13,
   "id": "b497cfc9-0a47-4abd-aa90-870138b2cf35",
   "metadata": {},
   "outputs": [
    {
     "name": "stdout",
     "output_type": "stream",
     "text": [
      "========= START =========\n",
      "========== DXS ==========\n",
      "8792:Opn wnd anterior abdomen:Open wound of abdominal wall, anterior, without mention of complication\n",
      "8760:Open wound of back:Open wound of back, without mention of complication\n",
      "========== PRS ==========\n",
      "9604:Insertion of endotracheal tube\n",
      "3409:Other incision of pleura\n",
      "5411:Exploratory laparotomy\n",
      "========== END ==========\n",
      "\n",
      "========= START =========\n",
      "========== DXS ==========\n",
      "8910:Open wnd knee/leg/ankle:Open wound of knee, leg [except thigh], and ankle, without mention of complication\n",
      "8900:Open wound of hip/thigh:Open wound of hip and thigh, without mention of complication\n",
      "88003:Open wound of upper arm:Open wound of upper arm, without mention of complication\n",
      "8792:Opn wnd anterior abdomen:Open wound of abdominal wall, anterior, without mention of complication\n",
      "8750:Open wound of chest:Open wound of chest (wall), without mention of complication\n",
      "87342:Open wound of forehead:Open wound of forehead, without mention of complication\n",
      "81602:Fx dist phalanx, hand-cl:Closed fracture of distal phalanx or phalanges of hand\n",
      "========== PRS ==========\n",
      "8659:Closure of skin and subcutaneous tissue of other sites\n",
      "8838:Other computerized axial tomography\n",
      "9354:Application of splint\n",
      "8877:Diagnostic ultrasound of peripheral vascular system\n",
      "========== END ==========\n",
      "\n",
      "========= START =========\n",
      "========== DXS ==========\n",
      "86112:Heart laceration-open:Laceration of heart without penetration of heart chambers, with open wound into thorax\n",
      "========== PRS ==========\n",
      "<UNK>:Unknown Code\n",
      "========== END ==========\n",
      "\n",
      "========= START =========\n",
      "========== DXS ==========\n",
      "8600:Traum pneumothorax-close:Traumatic pneumothorax without mention of open wound into thorax\n",
      "========== PRS ==========\n",
      "9359:Other immobilization, pressure, and attention to wound\n",
      "9352:Application of neck support\n",
      "8741:Computerized axial tomography of thorax\n",
      "8801:Computerized axial tomography of abdomen\n",
      "3404:Insertion of intercostal catheter for drainage\n",
      "8876:Diagnostic ultrasound of abdomen and retroperitoneum\n",
      "9919:Injection of anticoagulant\n",
      "========== END ==========\n",
      "\n",
      "========= START =========\n",
      "========== DXS ==========\n",
      "8794:Opn wnd lateral abdomen:Open wound of abdominal wall, lateral, without mention of complication\n",
      "========== PRS ==========\n",
      "8876:Diagnostic ultrasound of abdomen and retroperitoneum\n",
      "8801:Computerized axial tomography of abdomen\n",
      "8741:Computerized axial tomography of thorax\n",
      "========== END ==========\n",
      "\n"
     ]
    }
   ],
   "source": [
    "for s in e9660_trn_seq[:5]:\n",
    "    print_seq_dsc(s)\n",
    "    print()"
   ]
  },
  {
   "cell_type": "code",
   "execution_count": 14,
   "id": "f07d5367-fa02-41f4-b621-88770133df00",
   "metadata": {},
   "outputs": [
    {
     "name": "stdout",
     "output_type": "stream",
     "text": [
      "========= START =========\n",
      "========== DXS ==========\n",
      "88003:Open wound of upper arm:Open wound of upper arm, without mention of complication\n",
      "8760:Open wound of back:Open wound of back, without mention of complication\n",
      "========== PRS ==========\n",
      "8659:Closure of skin and subcutaneous tissue of other sites\n",
      "8879:Other diagnostic ultrasound\n",
      "8744:Routine chest x-ray, so described\n",
      "8878:Diagnostic ultrasound of gravid uterus\n",
      "8741:Computerized axial tomography of thorax\n",
      "========== END ==========\n",
      "\n",
      "========= START =========\n",
      "========== DXS ==========\n",
      "8798:Open wound site NOS:Open wound(s) (multiple) of unspecified site(s), without mention of complication\n",
      "88003:Open wound of upper arm:Open wound of upper arm, without mention of complication\n",
      "8750:Open wound of chest:Open wound of chest (wall), without mention of complication\n",
      "8605:Traum pneumohemothor-opn:Traumatic pneumohemothorax with open wound into thorax\n",
      "========== PRS ==========\n",
      "3404:Insertion of intercostal catheter for drainage\n",
      "3421:Transpleural thoracoscopy\n",
      "========== END ==========\n",
      "\n",
      "========= START =========\n",
      "========== DXS ==========\n",
      "9033:Injury ulnar vessels:Injury to ulnar blood vessels\n",
      "88122:Opn wound wrist w tendon:Open wound of wrist, with tendon involvement\n",
      "========== PRS ==========\n",
      "8659:Closure of skin and subcutaneous tissue of other sites\n",
      "8364:Other suture of tendon\n",
      "3931:Suture of artery\n",
      "3883:Other surgical occlusion of vessels, upper limb vessels\n",
      "8364:Other suture of tendon\n",
      "========== END ==========\n",
      "\n",
      "========= START =========\n",
      "========== DXS ==========\n",
      "9551:Injury median nerve:Injury to median nerve\n",
      "9033:Injury ulnar vessels:Injury to ulnar blood vessels\n",
      "88122:Opn wound wrist w tendon:Open wound of wrist, with tendon involvement\n",
      "88120:Open wnd forearm w tendn:Open wound of forearm, with tendon involvement\n",
      "========== PRS ==========\n",
      "8364:Other suture of tendon\n",
      "043:Suture of cranial and peripheral nerves\n",
      "3883:Other surgical occlusion of vessels, upper limb vessels\n",
      "========== END ==========\n",
      "\n",
      "========= START =========\n",
      "========== DXS ==========\n",
      "8748:Open wound of neck NEC:Open wound of other and unspecified parts of neck, without mention of complication\n",
      "875:Open wound of chest (wall):None\n",
      "========== PRS ==========\n",
      "3471:Suture of laceration of chest wall\n",
      "8659:Closure of skin and subcutaneous tissue of other sites\n",
      "9672:Continuous invasive mechanical ventilation for 96 consecutive hours or more\n",
      "8659:Closure of skin and subcutaneous tissue of other sites\n",
      "3409:Other incision of pleura\n",
      "========== END ==========\n",
      "\n"
     ]
    }
   ],
   "source": [
    "n = e9660_report[e9660_report['score']<e9660_border]\n",
    "\n",
    "for _,r in n[:5].iterrows():\n",
    "    print(r['output'])"
   ]
  },
  {
   "cell_type": "code",
   "execution_count": 15,
   "id": "dcf4f560-e5fd-4c6c-9070-14c832e29c10",
   "metadata": {},
   "outputs": [
    {
     "name": "stdout",
     "output_type": "stream",
     "text": [
      "========= START =========\n",
      "========== DXS ==========\n",
      "8604:Traum pneumohemothor-cl:Traumatic pneumohemothorax without mention of open wound into thorax\n",
      "80711:Fracture one rib-open:Open fracture of one rib\n",
      "========== PRS ==========\n",
      "9604:Insertion of endotracheal tube\n",
      "967:Unknown Code\n",
      "3404:Insertion of intercostal catheter for drainage\n",
      "3452:Thoracoscopic decortication of lung\n",
      "========== END ==========\n",
      "\n",
      "========= START =========\n",
      "========== DXS ==========\n",
      "8900:Open wound of hip/thigh:Open wound of hip and thigh, without mention of complication\n",
      "88100:Open wound of forearm:Open wound of forearm, without mention of complication\n",
      "8792:Opn wnd anterior abdomen:Open wound of abdominal wall, anterior, without mention of complication\n",
      "8760:Open wound of back:Open wound of back, without mention of complication\n",
      "8730:Open wound of scalp:Open wound of scalp, without mention of complication\n",
      "8931:Open wound toe-compl:Open wound of toe(s), complicated\n",
      "========== PRS ==========\n",
      "========== END ==========\n",
      "\n",
      "========= START =========\n",
      "========== DXS ==========\n",
      "8605:Traum pneumohemothor-opn:Traumatic pneumohemothorax with open wound into thorax\n",
      "========== PRS ==========\n",
      "3409:Other incision of pleura\n",
      "5411:Exploratory laparotomy\n",
      "3404:Insertion of intercostal catheter for drainage\n",
      "3402:Exploratory thoracotomy\n",
      "3451:Decortication of lung\n",
      "3893:Venous catheterization, not elsewhere classified\n",
      "========== END ==========\n",
      "\n",
      "========= START =========\n",
      "========== DXS ==========\n",
      "88003:Open wound of upper arm:Open wound of upper arm, without mention of complication\n",
      "8801:Open wound of shoulder and upper arm complicated:None\n",
      "8605:Traum pneumohemothor-opn:Traumatic pneumohemothorax with open wound into thorax\n",
      "8601:Traum pneumothorax-open:Traumatic pneumothorax with open wound into thorax\n",
      "========== PRS ==========\n",
      "8659:Closure of skin and subcutaneous tissue of other sites\n",
      "8302:Myotomy\n",
      "8741:Computerized axial tomography of thorax\n",
      "========== END ==========\n",
      "\n",
      "========= START =========\n",
      "========== DXS ==========\n",
      "8792:Opn wnd anterior abdomen:Open wound of abdominal wall, anterior, without mention of complication\n",
      "86803:Peritoneum injury-closed:Injury to other intra-abdominal organs without mention of open wound into cavity, peritoneum\n",
      "86389:GI injury NEC-closed:Injury to other gastrointestinal sites, without mention of open wound into cavity\n",
      "86330:Small intest inj NOS-opn:Injury to small intestine, unspecified site, with open wound into cavity\n",
      "========== PRS ==========\n",
      "1733:Laparoscopic right hemicolectomy\n",
      "5475:Other repair of mesentery\n",
      "4579:Other and unspecified partial excision of large intestine\n",
      "========== END ==========\n",
      "\n"
     ]
    }
   ],
   "source": [
    "w = e9660_report[e9660_report['score']>e9660_border]\n",
    "\n",
    "for _,r in w[:5].iterrows():\n",
    "    print(r['output'])"
   ]
  },
  {
   "cell_type": "markdown",
   "id": "4976ed2c-e0df-487a-8ba1-d16593b31fe4",
   "metadata": {},
   "source": [
    "# E965.4"
   ]
  },
  {
   "cell_type": "code",
   "execution_count": 16,
   "id": "c834f5cc-378e-45ca-ab5e-5da25e57e097",
   "metadata": {},
   "outputs": [
    {
     "name": "stderr",
     "output_type": "stream",
     "text": [
      "100%|███████████████████████████████████████████████████████████████| 13/13 [00:01<00:00,  9.75it/s]\n",
      "100%|███████████████████████████████████████████████████████████████| 13/13 [00:00<00:00, 14.00it/s]\n",
      "100%|██████████████████████████████████████████████████████████████| 13/13 [00:00<00:00, 328.46it/s]\n",
      "100%|██████████████████████████████████████████████████████████████| 13/13 [00:00<00:00, 616.32it/s]\n",
      "/home/paul/Stemmler/StemmlerProject/mdf.py:51: UserWarning: you are shuffling a 'Tensor' object which is not a subclass of 'Sequence'; `shuffle` is not guaranteed to behave correctly. E.g., non-numpy array/tensor objects with view semantics may contain duplicates after shuffling.\n",
      "  np.random.shuffle(test_mdf)\n",
      "/home/paul/Stemmler/StemmlerProject/mdf.py:52: UserWarning: you are shuffling a 'Tensor' object which is not a subclass of 'Sequence'; `shuffle` is not guaranteed to behave correctly. E.g., non-numpy array/tensor objects with view semantics may contain duplicates after shuffling.\n",
      "  np.random.shuffle(ood_mdf)\n"
     ]
    },
    {
     "name": "stdout",
     "output_type": "stream",
     "text": [
      "torch.Size([379, 13])\n",
      "torch.Size([379, 13])\n"
     ]
    },
    {
     "name": "stderr",
     "output_type": "stream",
     "text": [
      " 64%|████████████████████████████████████████▋                       | 7/11 [00:00<00:00, 64.02it/s]/home/paul/anaconda3/envs/stemmler/lib/python3.8/site-packages/sklearn/svm/_classes.py:1661: RuntimeWarning: invalid value encountered in add\n",
      "  return self.decision_function(X) + self.offset_\n",
      "/home/paul/anaconda3/envs/stemmler/lib/python3.8/site-packages/sklearn/svm/_classes.py:1661: RuntimeWarning: invalid value encountered in add\n",
      "  return self.decision_function(X) + self.offset_\n",
      "100%|███████████████████████████████████████████████████████████████| 11/11 [00:00<00:00, 12.94it/s]\n"
     ]
    },
    {
     "name": "stdout",
     "output_type": "stream",
     "text": [
      " AUROC  DTACC  AUIN   AUOUT \n",
      " 82.18  73.88  83.51  82.55\n",
      "best hyper linear-1e-15\n",
      "saving data for plotting\n",
      "-------------------------------\n"
     ]
    },
    {
     "data": {
      "image/png": "[encoded data removed]",
      "text/plain": [
       "<Figure size 432x288 with 1 Axes>"
      ]
     },
     "metadata": {
      "needs_background": "light"
     },
     "output_type": "display_data"
    },
    {
     "name": "stdout",
     "output_type": "stream",
     "text": [
      "Normal: 282 Anomaly: 97\n"
     ]
    }
   ],
   "source": [
    "e9654_report, e9654_border = oc_svm_detector('e9654', e9654_trn_seq, e9654_gen_seq, TRN_FRAC, PRINT_SEQUENCES)"
   ]
  },
  {
   "cell_type": "code",
   "execution_count": 17,
   "id": "cc3b3710-8bbf-4e38-b4ad-0e34afeca3da",
   "metadata": {},
   "outputs": [
    {
     "name": "stdout",
     "output_type": "stream",
     "text": [
      "========= START =========\n",
      "========== DXS ==========\n",
      "8053:Fx dorsal vertebra-open:Open fracture of dorsal [thoracic] vertebra without mention of spinal cord injury\n",
      "8760:Open wound of back:Open wound of back, without mention of complication\n",
      "30560:Cocaine abuse-unspec:Cocaine abuse, unspecified\n",
      "30570:Amphetamine abuse-unspec:Amphetamine or related acting sympathomimetic abuse, unspecified\n",
      "3051:Tobacco use disorder:Tobacco use disorder\n",
      "========== PRS ==========\n",
      "========== END ==========\n",
      "\n",
      "========= START =========\n",
      "========== DXS ==========\n",
      "88003:Open wound of upper arm:Open wound of upper arm, without mention of complication\n",
      "8605:Traum pneumohemothor-opn:Traumatic pneumohemothorax with open wound into thorax\n",
      "80711:Fracture one rib-open:Open fracture of one rib\n",
      "========== PRS ==========\n",
      "3404:Insertion of intercostal catheter for drainage\n",
      "3893:Venous catheterization, not elsewhere classified\n",
      "3893:Venous catheterization, not elsewhere classified\n",
      "9904:Transfusion of packed cells\n",
      "5794:Insertion of indwelling urinary catheter\n",
      "5794:Insertion of indwelling urinary catheter\n",
      "9357:Application of other wound dressing\n",
      "========== END ==========\n",
      "\n",
      "========= START =========\n",
      "========== DXS ==========\n",
      "8900:Open wound of hip/thigh:Open wound of hip and thigh, without mention of complication\n",
      "88101:Open wound of elbow:Open wound of elbow, without mention of complication\n",
      "82532:Fx navicular, foot-open:Open fracture of navicular [scaphoid], foot\n",
      "========== PRS ==========\n",
      "========== END ==========\n",
      "\n",
      "========= START =========\n",
      "========== DXS ==========\n",
      "8760:Open wound of back:Open wound of back, without mention of complication\n",
      "8750:Open wound of chest:Open wound of chest (wall), without mention of complication\n",
      "========== PRS ==========\n",
      "<UNK>:Unknown Code\n",
      "========== END ==========\n",
      "\n",
      "========= START =========\n",
      "========== DXS ==========\n",
      "85415:Opn brain inj-deep coma:Intracranial injury of other and unspecified nature with open intracranial wound, with prolonged [more than 24 hours] loss of consciousness without return to pre-existing conscious level\n",
      "========== PRS ==========\n",
      "8703:Computerized axial tomography of head\n",
      "996:Unknown Code\n",
      "========== END ==========\n",
      "\n"
     ]
    }
   ],
   "source": [
    "for s in e9654_trn_seq[:5]:\n",
    "    print_seq_dsc(s)\n",
    "    print()"
   ]
  },
  {
   "cell_type": "code",
   "execution_count": 18,
   "id": "49d0644c-499f-4ce8-9329-073e7fb21f3e",
   "metadata": {},
   "outputs": [
    {
     "name": "stdout",
     "output_type": "stream",
     "text": [
      "========= START =========\n",
      "========== DXS ==========\n",
      "9598:Injury mlt site/site NEC:Other specified sites, including multiple injury\n",
      "80239:Mult fx mandible-open:Open fracture of mandible, multiple sites\n",
      "========== PRS ==========\n",
      "8628:Nonexcisional debridement of wound, infection or burn\n",
      "8659:Closure of skin and subcutaneous tissue of other sites\n",
      "7676:Open reduction of mandibular fracture\n",
      "7676:Open reduction of mandibular fracture\n",
      "2432:Suture of laceration of gum\n",
      "2752:Suture of laceration of other part of mouth\n",
      "========== END ==========\n",
      "\n",
      "========= START =========\n",
      "========== DXS ==========\n",
      "80040:Cl skl vlt fx/br inj NEC:Closed fracture of vault of skull with intracranial injury of other and unspecified nature, unspecified state of consciousness\n",
      "8760:Open wound of back:Open wound of back, without mention of complication\n",
      "82521:Fx astragalus-closed:Closed fracture of astragalus\n",
      "95892:Trauma comp synd low ext:Traumatic compartment syndrome of lower extremity\n",
      "========== PRS ==========\n",
      "8314:Fasciotomy\n",
      "9604:Insertion of endotracheal tube\n",
      "967:Unknown Code\n",
      "8659:Closure of skin and subcutaneous tissue of other sites\n",
      "3808:Incision of vessel, lower limb arteries\n",
      "========== END ==========\n",
      "\n",
      "========= START =========\n",
      "========== DXS ==========\n",
      "95892:Trauma comp synd low ext:Traumatic compartment syndrome of lower extremity\n",
      "8901:Open wnd hip/thigh-compl:Open wound of hip and thigh, complicated\n",
      "90289:Inj abdominal vessel NEC:Injury to other specified blood vessels of abdomen and pelvis\n",
      "86389:GI injury NEC-closed:Injury to other gastrointestinal sites, without mention of open wound into cavity\n",
      "86329:Small intest inj NEC-cl:Other injury to small intestine, without mention of open wound into cavity\n",
      "8089:Pelvic fracture NOS-open:Open unspecified fracture of pelvis\n",
      "65641:Intrauter death-deliver:Intrauterine death, affecting management of mother, delivered, with or without mention of antepartum condition\n",
      "56081:Intestinal adhes w obstr:Intestinal or peritoneal adhesions with obstruction (postoperative) (postinfection)\n",
      "2851:Ac posthemorrhag anemia:Acute posthemorrhagic anemia\n",
      "========== PRS ==========\n",
      "========== END ==========\n",
      "\n",
      "========= START =========\n",
      "========== DXS ==========\n",
      "891:Open wound of knee leg (except thigh) and ankle:None\n",
      "========== PRS ==========\n",
      "9921:Injection of antibiotic\n",
      "9659:Other irrigation of wound\n",
      "8622:Excisional debridement of wound, infection, or burn\n",
      "9357:Application of other wound dressing\n",
      "8659:Closure of skin and subcutaneous tissue of other sites\n",
      "9659:Other irrigation of wound\n",
      "866:Unknown Code\n",
      "========== END ==========\n",
      "\n",
      "========= START =========\n",
      "========== DXS ==========\n",
      "8605:Traum pneumohemothor-opn:Traumatic pneumohemothorax with open wound into thorax\n",
      "========== PRS ==========\n",
      "8659:Closure of skin and subcutaneous tissue of other sites\n",
      "3404:Insertion of intercostal catheter for drainage\n",
      "5794:Insertion of indwelling urinary catheter\n",
      "3995:Hemodialysis\n",
      "7836:Unknown Code\n",
      "9605:Other intubation of respiratory tract\n",
      "3322:Fiber-optic bronchoscopy\n",
      "5329:Other unilateral femoral herniorrhaphy\n",
      "========== END ==========\n",
      "\n"
     ]
    }
   ],
   "source": [
    "n = e9654_report[e9654_report['score']<e9654_border]\n",
    "\n",
    "for _,r in n[:5].iterrows():\n",
    "    print(r['output'])"
   ]
  },
  {
   "cell_type": "code",
   "execution_count": 19,
   "id": "757ec547-82fb-4b96-a29b-0384618fc12e",
   "metadata": {},
   "outputs": [
    {
     "name": "stdout",
     "output_type": "stream",
     "text": [
      "========= START =========\n",
      "========== DXS ==========\n",
      "9100:Abrasion head:Abrasion or friction burn of face, neck, and scalp except eye, without mention of infection\n",
      "9010:Injury thoracic aorta:Injury to thoracic aorta\n",
      "8750:Open wound of chest:Open wound of chest (wall), without mention of complication\n",
      "86132:Lung laceration-open:Laceration of lung with open wound into thorax\n",
      "86131:Lung contusion-open:Contusion of lung with open wound into thorax\n",
      "========== PRS ==========\n",
      "9904:Transfusion of packed cells\n",
      "3404:Insertion of intercostal catheter for drainage\n",
      "9906:Transfusion of coagulation factors\n",
      "9906:Transfusion of coagulation factors\n",
      "========== END ==========\n",
      "\n",
      "========= START =========\n",
      "========== DXS ==========\n",
      "9560:Injury sciatic nerve:Injury to sciatic nerve\n",
      "9047:Injury leg vessels NEC:Injury to other specified blood vessels of lower extremity\n",
      "8900:Open wound of hip/thigh:Open wound of hip and thigh, without mention of complication\n",
      "8782:Opn wound scrotum/testes:Open wound of scrotum and testes, without mention of complication\n",
      "========== PRS ==========\n",
      "5423:Biopsy of peritoneum\n",
      "6441:Suture of laceration of penis\n",
      "625:Orchiopexy\n",
      "6441:Suture of laceration of penis\n",
      "========== END ==========\n",
      "\n",
      "========= START =========\n",
      "========== DXS ==========\n",
      "8900:Open wound of hip/thigh:Open wound of hip and thigh, without mention of complication\n",
      "9553:Injury radial nerve:Injury to radial nerve\n",
      "5693:Rectal & anal hemorrhage:Hemorrhage of rectum and anus\n",
      "71906:Joint effusion-l/leg:Effusion of joint, lower leg\n",
      "2851:Ac posthemorrhag anemia:Acute posthemorrhagic anemia\n",
      "========== PRS ==========\n",
      "8659:Closure of skin and subcutaneous tissue of other sites\n",
      "8622:Excisional debridement of wound, infection, or burn\n",
      "8209:Other incision of soft tissue of hand\n",
      "8605:Incision with removal of foreign body or device from skin and subcutaneous tissue\n",
      "========== END ==========\n",
      "\n",
      "========= START =========\n",
      "========== DXS ==========\n",
      "81219:Fx upper humerus NEC-opn:Other open fracture of upper end of humerus\n",
      "81219:Fx upper humerus NEC-opn:Other open fracture of upper end of humerus\n",
      "85416:Open brain inj-coma NOS:Intracranial injury of other and unspecified nature with open intracranial wound, with loss of consciousness of unspecified duration\n",
      "88002:Open wound of axilla:Open wound of axillary region, without mention of complication\n",
      "8770:Open wound of buttock:Open wound of buttock, without mention of complication\n",
      "========== PRS ==========\n",
      "7961:Debridement of open fracture site, humerus\n",
      "7812:Application of external fixator device, humerus\n",
      "8452:Insertion of recombinant bone morphogenetic protein\n",
      "8743:X-ray of ribs, sternum, and clavicle\n",
      "========== END ==========\n",
      "\n",
      "========= START =========\n",
      "========== DXS ==========\n",
      "80370:Opn skl fx NEC/menin hem:Other open skull fracture with subarachnoid, subdural, and extradural hemorrhage, unspecified state of consciousness\n",
      "85400:Brain injury NEC:Intracranial injury of other and unspecified nature without mention of open intracranial wound, unspecified state of consciousness\n",
      "8750:Open wound of chest:Open wound of chest (wall), without mention of complication\n",
      "80234:Fx ramus NOS-open:Open fracture of mandible, ramus, unspecified\n",
      "========== PRS ==========\n",
      "9604:Insertion of endotracheal tube\n",
      "0119:Other diagnostic procedures on skull\n",
      "9659:Other irrigation of wound\n",
      "8744:Routine chest x-ray, so described\n",
      "8838:Other computerized axial tomography\n",
      "========== END ==========\n",
      "\n"
     ]
    }
   ],
   "source": [
    "w = e9654_report[e9654_report['score']>e9654_border]\n",
    "\n",
    "for _,r in w[:5].iterrows():\n",
    "    print(r['output'])"
   ]
  },
  {
   "cell_type": "markdown",
   "id": "a1f919fa-a63a-443e-9977-d459d54c2b09",
   "metadata": {},
   "source": [
    "# E924.0"
   ]
  },
  {
   "cell_type": "code",
   "execution_count": 20,
   "id": "eb0d8daf-add7-48f4-8d58-20549deacf0e",
   "metadata": {},
   "outputs": [
    {
     "name": "stderr",
     "output_type": "stream",
     "text": [
      "100%|███████████████████████████████████████████████████████████████| 13/13 [00:01<00:00,  7.87it/s]\n",
      "100%|███████████████████████████████████████████████████████████████| 13/13 [00:01<00:00, 11.84it/s]\n",
      "100%|██████████████████████████████████████████████████████████████| 13/13 [00:00<00:00, 377.24it/s]\n",
      "100%|██████████████████████████████████████████████████████████████| 13/13 [00:00<00:00, 363.88it/s]\n",
      "/home/paul/Stemmler/StemmlerProject/mdf.py:51: UserWarning: you are shuffling a 'Tensor' object which is not a subclass of 'Sequence'; `shuffle` is not guaranteed to behave correctly. E.g., non-numpy array/tensor objects with view semantics may contain duplicates after shuffling.\n",
      "  np.random.shuffle(test_mdf)\n",
      "/home/paul/Stemmler/StemmlerProject/mdf.py:52: UserWarning: you are shuffling a 'Tensor' object which is not a subclass of 'Sequence'; `shuffle` is not guaranteed to behave correctly. E.g., non-numpy array/tensor objects with view semantics may contain duplicates after shuffling.\n",
      "  np.random.shuffle(ood_mdf)\n"
     ]
    },
    {
     "name": "stdout",
     "output_type": "stream",
     "text": [
      "torch.Size([440, 13])\n",
      "torch.Size([440, 13])\n"
     ]
    },
    {
     "name": "stderr",
     "output_type": "stream",
     "text": [
      " 73%|██████████████████████████████████████████████▌                 | 8/11 [00:00<00:00, 56.07it/s]/home/paul/anaconda3/envs/stemmler/lib/python3.8/site-packages/sklearn/svm/_classes.py:1661: RuntimeWarning: invalid value encountered in add\n",
      "  return self.decision_function(X) + self.offset_\n",
      "/home/paul/anaconda3/envs/stemmler/lib/python3.8/site-packages/sklearn/svm/_classes.py:1661: RuntimeWarning: invalid value encountered in add\n",
      "  return self.decision_function(X) + self.offset_\n",
      "100%|███████████████████████████████████████████████████████████████| 11/11 [00:01<00:00, 10.87it/s]\n"
     ]
    },
    {
     "name": "stdout",
     "output_type": "stream",
     "text": [
      " AUROC  DTACC  AUIN   AUOUT \n",
      " 82.80  75.00  85.29  82.56\n",
      "best hyper linear-1e-15\n",
      "saving data for plotting\n",
      "-------------------------------\n"
     ]
    },
    {
     "data": {
      "image/png": "[encoded data removed]",
      "text/plain": [
       "<Figure size 432x288 with 1 Axes>"
      ]
     },
     "metadata": {
      "needs_background": "light"
     },
     "output_type": "display_data"
    },
    {
     "name": "stdout",
     "output_type": "stream",
     "text": [
      "Normal: 330 Anomaly: 110\n"
     ]
    }
   ],
   "source": [
    "e9240_report, e9240_border = oc_svm_detector('e9240', e9240_trn_seq, e9240_gen_seq, TRN_FRAC, PRINT_SEQUENCES)"
   ]
  },
  {
   "cell_type": "code",
   "execution_count": 21,
   "id": "a5c71836-f079-420c-a8e4-5e9a0f03f358",
   "metadata": {},
   "outputs": [
    {
     "name": "stdout",
     "output_type": "stream",
     "text": [
      "========= START =========\n",
      "========== DXS ==========\n",
      "94222:2nd deg burn chest wall:Blisters, epidermal loss [second degree] of chest wall, excluding breast and nipple\n",
      "94223:2nd deg burn abdomn wall:Blisters, epidermal loss [second degree] of abdominal wall\n",
      "94224:2nd deg burn back:Blisters, epidermal loss [second degree] of back [any part]\n",
      "94325:2nd deg burn shoulder:Blisters, epidermal loss [second degree] of shoulder\n",
      "94128:2nd deg burn neck:Blisters, epidermal loss [second degree] of neck\n",
      "94121:2nd deg burn ear:Blisters, epidermal loss [second degree] of ear [any part]\n",
      "94127:2nd deg burn face NEC:Blisters, epidermal loss [second degree] of forehead and cheek\n",
      "94810:10-19% bdy brn/3 deg NOS:Burn [any degree] involving 10-19 percent of body surface with third degree burn, less than 10 percent or unspecified\n",
      "========== PRS ==========\n",
      "3893:Venous catheterization, not elsewhere classified\n",
      "8628:Nonexcisional debridement of wound, infection or burn\n",
      "9357:Application of other wound dressing\n",
      "9333:Other hydrotherapy\n",
      "========== END ==========\n",
      "\n",
      "========= START =========\n",
      "========== DXS ==========\n",
      "9492:2nd degree burn NOS:Blisters, epidermal loss [second degree], unspecified site\n",
      "========== PRS ==========\n",
      "9357:Application of other wound dressing\n",
      "9357:Application of other wound dressing\n",
      "8669:Other skin graft to other sites\n",
      "864:Radical excision of skin lesion\n",
      "9357:Application of other wound dressing\n",
      "========== END ==========\n",
      "\n",
      "========= START =========\n",
      "========== DXS ==========\n",
      "9462:2nd deg burn mult site:Blisters, epidermal loss [second degree] of multiple specified sites\n",
      "========== PRS ==========\n",
      "========== END ==========\n",
      "\n",
      "========= START =========\n",
      "========== DXS ==========\n",
      "9463:3rd deg burn mult site:Full-thickness skin loss [third degree NOS] of multiple specified sites\n",
      "========== PRS ==========\n",
      "<UNK>:Unknown Code\n",
      "========== END ==========\n",
      "\n",
      "========= START =========\n",
      "========== DXS ==========\n",
      "94800:Bdy brn < 10%/3d deg NOS:Burn [any degree] involving less than 10 percent of body surface with third degree burn, less than 10 percent or unspecified\n",
      "94524:2nd deg burn lower leg:Blisters, epidermal loss [second degree] of lower leg\n",
      "94522:2nd deg burn foot:Blisters, epidermal loss [second degree] of foot\n",
      "========== PRS ==========\n",
      "8622:Excisional debridement of wound, infection, or burn\n",
      "9659:Other irrigation of wound\n",
      "========== END ==========\n",
      "\n"
     ]
    }
   ],
   "source": [
    "for s in e9240_trn_seq[:5]:\n",
    "    print_seq_dsc(s)\n",
    "    print()"
   ]
  },
  {
   "cell_type": "code",
   "execution_count": 22,
   "id": "f0f88c1d-5913-40b0-9558-5d45d5b1277e",
   "metadata": {},
   "outputs": [
    {
     "name": "stdout",
     "output_type": "stream",
     "text": [
      "========= START =========\n",
      "========== DXS ==========\n",
      "948:Burns classified according to extent of body surface involved:None\n",
      "========== PRS ==========\n",
      "8628:Nonexcisional debridement of wound, infection or burn\n",
      "8628:Nonexcisional debridement of wound, infection or burn\n",
      "8628:Nonexcisional debridement of wound, infection or burn\n",
      "8628:Nonexcisional debridement of wound, infection or burn\n",
      "========== END ==========\n",
      "\n",
      "========= START =========\n",
      "========== DXS ==========\n",
      "94810:10-19% bdy brn/3 deg NOS:Burn [any degree] involving 10-19 percent of body surface with third degree burn, less than 10 percent or unspecified\n",
      "94333:3rd deg burn upper arm:Full-thickness skin loss [third degree, not otherwise specified] of upper arm\n",
      "94324:2nd deg burn axilla:Blisters, epidermal loss [second degree] of axilla\n",
      "94128:2nd deg burn neck:Blisters, epidermal loss [second degree] of neck\n",
      "94125:2nd deg burn nose:Blisters, epidermal loss [second degree] of nose (septum)\n",
      "========== PRS ==========\n",
      "========== END ==========\n",
      "\n",
      "========= START =========\n",
      "========== DXS ==========\n",
      "948:Burns classified according to extent of body surface involved:None\n",
      "94323:2nd deg burn upper arm:Blisters, epidermal loss [second degree] of upper arm\n",
      "94224:2nd deg burn back:Blisters, epidermal loss [second degree] of back [any part]\n",
      "========== PRS ==========\n",
      "8628:Nonexcisional debridement of wound, infection or burn\n",
      "9659:Other irrigation of wound\n",
      "========== END ==========\n",
      "\n",
      "========= START =========\n",
      "========== DXS ==========\n",
      "948:Burns classified according to extent of body surface involved:None\n",
      "9462:2nd deg burn mult site:Blisters, epidermal loss [second degree] of multiple specified sites\n",
      "========== PRS ==========\n",
      "8628:Nonexcisional debridement of wound, infection or burn\n",
      "8691:Excision of skin for graft\n",
      "866:Unknown Code\n",
      "========== END ==========\n",
      "\n",
      "========= START =========\n",
      "========== DXS ==========\n",
      "94800:Bdy brn < 10%/3d deg NOS:Burn [any degree] involving less than 10 percent of body surface with third degree burn, less than 10 percent or unspecified\n",
      "94427:2nd deg burn wrist:Blisters, epidermal loss [second degree] of wrist\n",
      "94426:2 deg burn back of hand:Blisters , epidermal loss [second degree] of back of hand\n",
      "94321:2nd deg burn forearm:Blisters, epidermal loss [second degree] of forearm\n",
      "========== PRS ==========\n",
      "8662:Other skin graft to hand\n",
      "========== END ==========\n",
      "\n"
     ]
    }
   ],
   "source": [
    "n = e9240_report[e9240_report['score']<e9240_border]\n",
    "\n",
    "for _,r in n[:5].iterrows():\n",
    "    print(r['output'])"
   ]
  },
  {
   "cell_type": "code",
   "execution_count": 23,
   "id": "ac6eda7e-a420-42cc-96ee-f16528c4bdab",
   "metadata": {},
   "outputs": [
    {
     "name": "stdout",
     "output_type": "stream",
     "text": [
      "========= START =========\n",
      "========== DXS ==========\n",
      "9480:Burn (any degree) involving less than 10 percent of body surface:None\n",
      "========== PRS ==========\n",
      "5794:Insertion of indwelling urinary catheter\n",
      "9357:Application of other wound dressing\n",
      "3893:Venous catheterization, not elsewhere classified\n",
      "========== END ==========\n",
      "\n",
      "========= START =========\n",
      "========== DXS ==========\n",
      "94800:Bdy brn < 10%/3d deg NOS:Burn [any degree] involving less than 10 percent of body surface with third degree burn, less than 10 percent or unspecified\n",
      "94532:3rd deg burn foot:Full-thickness skin loss [third degree NOS] of foot\n",
      "========== PRS ==========\n",
      "8622:Excisional debridement of wound, infection, or burn\n",
      "8665:Heterograft to skin\n",
      "8669:Other skin graft to other sites\n",
      "========== END ==========\n",
      "\n",
      "========= START =========\n",
      "========== DXS ==========\n",
      "94800:Bdy brn < 10%/3d deg NOS:Burn [any degree] involving less than 10 percent of body surface with third degree burn, less than 10 percent or unspecified\n",
      "94534:3rd deg burn low leg:Full-thickness skin loss [third degree nos] of lower leg\n",
      "94522:2nd deg burn foot:Blisters, epidermal loss [second degree] of foot\n",
      "94426:2 deg burn back of hand:Blisters , epidermal loss [second degree] of back of hand\n",
      "94424:2 deg burn fingr w thumb:Blisters, epidermal loss [second degree] of two or more digits of hand including thumb\n",
      "94423:2nd deg burn mult finger:Blisters, epidermal loss [second degree] of two or more digits of hand, not including thumb\n",
      "========== END ==========\n",
      "\n",
      "========= START =========\n",
      "========== DXS ==========\n",
      "V1582:History of tobacco use:Personal history of tobacco use\n",
      "94800:Bdy brn < 10%/3d deg NOS:Burn [any degree] involving less than 10 percent of body surface with third degree burn, less than 10 percent or unspecified\n",
      "94321:2nd deg burn forearm:Blisters, epidermal loss [second degree] of forearm\n",
      "94129:2nd deg burn head-mult:Blisters, epidermal loss [second degree] of multiple sites [except with eye] of face, head, and neck\n",
      "94233:3rd deg burn abdomn wall:Full-thickness skin loss [third degree, not otherwise specified] of abdominal wall\n",
      "========== PRS ==========\n",
      "========== END ==========\n",
      "\n",
      "========= START =========\n",
      "========== DXS ==========\n",
      "94800:Bdy brn < 10%/3d deg NOS:Burn [any degree] involving less than 10 percent of body surface with third degree burn, less than 10 percent or unspecified\n",
      "========== PRS ==========\n",
      "8622:Excisional debridement of wound, infection, or burn\n",
      "9659:Other irrigation of wound\n",
      "9659:Other irrigation of wound\n",
      "========== END ==========\n",
      "\n"
     ]
    }
   ],
   "source": [
    "w = e9240_report[e9240_report['score']>e9240_border]\n",
    "\n",
    "for _,r in w[:5].iterrows():\n",
    "    print(r['output'])"
   ]
  },
  {
   "cell_type": "code",
   "execution_count": null,
   "id": "f67491e5-f5ad-4c5b-b3f3-d7fbcfe0cfd6",
   "metadata": {},
   "outputs": [],
   "source": []
  }
 ],
 "metadata": {
  "kernelspec": {
   "display_name": "Python 3 (ipykernel)",
   "language": "python",
   "name": "python3"
  },
  "language_info": {
   "codemirror_mode": {
    "name": "ipython",
    "version": 3
   },
   "file_extension": ".py",
   "mimetype": "text/x-python",
   "name": "python",
   "nbconvert_exporter": "python",
   "pygments_lexer": "ipython3",
   "version": "3.8.12"
  }
 },
 "nbformat": 4,
 "nbformat_minor": 5
}
