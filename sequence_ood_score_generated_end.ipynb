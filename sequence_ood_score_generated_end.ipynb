{
 "cells": [
  {
   "cell_type": "code",
   "execution_count": 1,
   "id": "d6ace74a-f6f3-4529-b9d1-bfe196e9db0a",
   "metadata": {},
   "outputs": [
    {
     "name": "stderr",
     "output_type": "stream",
     "text": [
      "/home/paul/anaconda3/envs/stemmler/lib/python3.8/site-packages/tqdm/auto.py:22: TqdmWarning: IProgress not found. Please update jupyter and ipywidgets. See https://ipywidgets.readthedocs.io/en/stable/user_install.html\n",
      "  from .autonotebook import tqdm as notebook_tqdm\n"
     ]
    }
   ],
   "source": [
    "import numpy as np\n",
    "import pandas as pd\n",
    "\n",
    "from transformers import AutoTokenizer\n",
    "NTDBGPT2_tokenizer = AutoTokenizer.from_pretrained('dracoglacius/NTDB-GPT2')\n",
    "\n",
    "from utils import *\n",
    "from mdf import *\n",
    "from outputs import *"
   ]
  },
  {
   "cell_type": "markdown",
   "id": "0753465d-87c6-47b5-b5d0-bde4b4ef8de6",
   "metadata": {
    "tags": []
   },
   "source": [
    "## Overview\n",
    "\n",
    "We have the intuition that given a distribution with center of the hyper-elliposid $c$ and the shape of the ellipsoid defined by $\\Sigma$, $c$ and $\\sigma$ should not deviate from the empirical mean ($\\hat{c}$) and the covariance estimations ($\\hat{\\Sigma}$) taken from the training data. \n",
    "\n",
    "To obtain these estimates we need to:\n",
    "\n",
    "1. Feed the NTDB model with the training data (length $n$) and from the last token get the features of each layer ($n$ x 13 x 768)\n",
    "1. Calculate the sample mean ($\\hat{c}$) and the covariance estimate ($\\hat{\\Sigma}$), while also getting the estimated pseudo-inverse (called `.precision_` in sklearn)\n",
    "\n",
    "To obtain the OOD estimation we need to:\n",
    "\n",
    "1. Calculate the Mahalanobis Distance Feature (MDF) using the generated data (should be a vector equal to the number of layers)\n",
    "1. Calculate the Anomaly Score\n",
    "  1. This is a one-class SVM with a linear kernel with MDF as features"
   ]
  },
  {
   "cell_type": "markdown",
   "id": "b95ff2e7-2b38-443c-ba76-ed8b2dccc3eb",
   "metadata": {},
   "source": [
    "# Configurations"
   ]
  },
  {
   "cell_type": "code",
   "execution_count": 2,
   "id": "62b2dfff-c404-4e7e-b5e5-5f0541f2aed4",
   "metadata": {},
   "outputs": [],
   "source": [
    "PRINT_SEQUENCES = 20\n",
    "TRN_FRAC = 0.9"
   ]
  },
  {
   "cell_type": "markdown",
   "id": "a3587570-6e01-4818-8eb8-35b2e24423ce",
   "metadata": {},
   "source": [
    "## Load Data"
   ]
  },
  {
   "cell_type": "code",
   "execution_count": 3,
   "id": "38c8ac3e-17d0-4870-aad4-d34d434db0b2",
   "metadata": {},
   "outputs": [],
   "source": [
    "trn_seq = np.load(\"../data/25k_train_seqs_3_22_E8859_E8120_E9660_E9654_E9240.npy\")\n",
    "gen_seq = np.load(\"../data/25k_gen_seqs_3_22_E8859_E8120_E9660_E9654_E9240.npy\")\n",
    "\n",
    "e8120_trn_seq = filter_token_length([x for x in trn_seq if 'E812.0' in x], NTDBGPT2_tokenizer) # 5000 items\n",
    "e8859_trn_seq = filter_token_length([x for x in trn_seq if 'E885.9' in x], NTDBGPT2_tokenizer) # 5000 items\n",
    "e9660_trn_seq = filter_token_length([x for x in trn_seq if 'E966.0' in x], NTDBGPT2_tokenizer) # 5000 items\n",
    "e9654_trn_seq = filter_token_length([x for x in trn_seq if 'E965.4' in x], NTDBGPT2_tokenizer) # 5000 items\n",
    "e9240_trn_seq = filter_token_length([x for x in trn_seq if 'E924.0' in x], NTDBGPT2_tokenizer) # 5000 items\n",
    "\n",
    "e8120_gen_seq = filter_token_length([x for x in gen_seq if 'E812.0' in x], NTDBGPT2_tokenizer) # 5000 items\n",
    "e8859_gen_seq = filter_token_length([x for x in gen_seq if 'E885.9' in x], NTDBGPT2_tokenizer) # 5000 items\n",
    "e9660_gen_seq = filter_token_length([x for x in gen_seq if 'E966.0' in x], NTDBGPT2_tokenizer) # 5000 items\n",
    "e9654_gen_seq = filter_token_length([x for x in gen_seq if 'E965.4' in x], NTDBGPT2_tokenizer) # 5000 items\n",
    "e9240_gen_seq = filter_token_length([x for x in gen_seq if 'E924.0' in x], NTDBGPT2_tokenizer) # 5000 items"
   ]
  },
  {
   "cell_type": "markdown",
   "id": "72d97311-65ed-40ee-aaf3-42dba9ef4879",
   "metadata": {},
   "source": [
    "# E812.0"
   ]
  },
  {
   "cell_type": "code",
   "execution_count": 4,
   "id": "ce21c64b-7ffd-49de-9f09-805c936e9a76",
   "metadata": {
    "tags": []
   },
   "outputs": [
    {
     "name": "stderr",
     "output_type": "stream",
     "text": [
      "100%|███████████████████████████████████████████████████████████████| 13/13 [00:00<00:00, 17.81it/s]\n",
      "100%|███████████████████████████████████████████████████████████████| 13/13 [00:00<00:00, 28.25it/s]\n",
      "100%|██████████████████████████████████████████████████████████████| 13/13 [00:00<00:00, 591.11it/s]\n",
      "100%|██████████████████████████████████████████████████████████████| 13/13 [00:00<00:00, 656.40it/s]\n",
      "/home/paul/Stemmler/StemmlerProject/mdf.py:51: UserWarning: you are shuffling a 'Tensor' object which is not a subclass of 'Sequence'; `shuffle` is not guaranteed to behave correctly. E.g., non-numpy array/tensor objects with view semantics may contain duplicates after shuffling.\n",
      "  np.random.shuffle(test_mdf)\n",
      "/home/paul/Stemmler/StemmlerProject/mdf.py:52: UserWarning: you are shuffling a 'Tensor' object which is not a subclass of 'Sequence'; `shuffle` is not guaranteed to behave correctly. E.g., non-numpy array/tensor objects with view semantics may contain duplicates after shuffling.\n",
      "  np.random.shuffle(ood_mdf)\n"
     ]
    },
    {
     "name": "stdout",
     "output_type": "stream",
     "text": [
      "torch.Size([365, 13])\n",
      "torch.Size([365, 13])\n"
     ]
    },
    {
     "name": "stderr",
     "output_type": "stream",
     "text": [
      " 73%|██████████████████████████████████████████████▌                 | 8/11 [00:00<00:00, 66.90it/s]/home/paul/anaconda3/envs/stemmler/lib/python3.8/site-packages/sklearn/svm/_classes.py:1661: RuntimeWarning: invalid value encountered in add\n",
      "  return self.decision_function(X) + self.offset_\n",
      "/home/paul/anaconda3/envs/stemmler/lib/python3.8/site-packages/sklearn/svm/_classes.py:1661: RuntimeWarning: invalid value encountered in add\n",
      "  return self.decision_function(X) + self.offset_\n",
      "100%|███████████████████████████████████████████████████████████████| 11/11 [00:00<00:00, 16.44it/s]\n"
     ]
    },
    {
     "name": "stdout",
     "output_type": "stream",
     "text": [
      " AUROC  DTACC  AUIN   AUOUT \n",
      " 77.77  71.92  77.63  80.62\n",
      "best hyper linear-0.5\n",
      "saving data for plotting\n",
      "-------------------------------\n"
     ]
    },
    {
     "data": {
      "image/png": "[encoded data removed]",
      "text/plain": [
       "<Figure size 432x288 with 1 Axes>"
      ]
     },
     "metadata": {
      "needs_background": "light"
     },
     "output_type": "display_data"
    },
    {
     "name": "stdout",
     "output_type": "stream",
     "text": [
      "Normal: 273 Anomaly: 92\n"
     ]
    }
   ],
   "source": [
    "e8120_report, e8120_border, e8120_model, e8120_trn, e8120_tst, e8120_ood = oc_svm_detector('e8120', e8120_trn_seq, e8120_gen_seq, TRN_FRAC, PRINT_SEQUENCES)"
   ]
  },
  {
   "cell_type": "code",
   "execution_count": 5,
   "id": "3b6c16c2-e5ff-4004-b546-8fecdedf6a76",
   "metadata": {},
   "outputs": [],
   "source": [
    "e8120_gen_realistic = []\n",
    "for i, p in enumerate(e8120_model.predict(e8120_ood)):\n",
    "    if p == 1:\n",
    "        e8120_gen_realistic.append({\n",
    "            'label': 'GEN',\n",
    "            'ecode': 'E8120',\n",
    "            'seq': string_seq_dsc(e8120_gen_seq[i])\n",
    "        })"
   ]
  },
  {
   "cell_type": "code",
   "execution_count": 6,
   "id": "697147d8-6fa0-4ccf-9574-d517293a797e",
   "metadata": {
    "tags": []
   },
   "outputs": [],
   "source": [
    "#for s in e8120_trn_seq[:5]:\n",
    "#    print_seq_dsc(s)\n",
    "#    print()"
   ]
  },
  {
   "cell_type": "code",
   "execution_count": 7,
   "id": "139ea6cf-5df4-42f3-a1d5-cbb3a28a5abf",
   "metadata": {
    "tags": []
   },
   "outputs": [],
   "source": [
    "#n = e8120_report[e8120_report['score']<e8120_border]\n",
    "#\n",
    "#for _,r in n[:5].iterrows():\n",
    "#    print(r['output'])"
   ]
  },
  {
   "cell_type": "code",
   "execution_count": 8,
   "id": "f7236ebb-72f1-4af2-9fcb-28702b8fde49",
   "metadata": {
    "tags": []
   },
   "outputs": [],
   "source": [
    "#w = e8120_report[e8120_report['score']>e8120_border]\n",
    "#\n",
    "#for _,r in w[:5].iterrows():\n",
    "#    print(r['output'])"
   ]
  },
  {
   "cell_type": "markdown",
   "id": "cb9d7bc0-e32a-4af2-94aa-e895af86d9e7",
   "metadata": {
    "tags": []
   },
   "source": [
    "# E885.9"
   ]
  },
  {
   "cell_type": "code",
   "execution_count": 9,
   "id": "b2875a4e-51d5-4503-aa9b-c0bc10c21291",
   "metadata": {},
   "outputs": [
    {
     "name": "stderr",
     "output_type": "stream",
     "text": [
      "100%|███████████████████████████████████████████████████████████████| 13/13 [00:00<00:00, 18.07it/s]\n",
      "100%|███████████████████████████████████████████████████████████████| 13/13 [00:00<00:00, 24.73it/s]\n",
      "100%|██████████████████████████████████████████████████████████████| 13/13 [00:00<00:00, 578.60it/s]\n",
      "100%|██████████████████████████████████████████████████████████████| 13/13 [00:00<00:00, 619.76it/s]\n",
      "/home/paul/Stemmler/StemmlerProject/mdf.py:51: UserWarning: you are shuffling a 'Tensor' object which is not a subclass of 'Sequence'; `shuffle` is not guaranteed to behave correctly. E.g., non-numpy array/tensor objects with view semantics may contain duplicates after shuffling.\n",
      "  np.random.shuffle(test_mdf)\n",
      "/home/paul/Stemmler/StemmlerProject/mdf.py:52: UserWarning: you are shuffling a 'Tensor' object which is not a subclass of 'Sequence'; `shuffle` is not guaranteed to behave correctly. E.g., non-numpy array/tensor objects with view semantics may contain duplicates after shuffling.\n",
      "  np.random.shuffle(ood_mdf)\n"
     ]
    },
    {
     "name": "stdout",
     "output_type": "stream",
     "text": [
      "torch.Size([432, 13])\n",
      "torch.Size([432, 13])\n"
     ]
    },
    {
     "name": "stderr",
     "output_type": "stream",
     "text": [
      " 73%|██████████████████████████████████████████████▌                 | 8/11 [00:00<00:00, 59.12it/s]/home/paul/anaconda3/envs/stemmler/lib/python3.8/site-packages/sklearn/svm/_classes.py:1661: RuntimeWarning: invalid value encountered in add\n",
      "  return self.decision_function(X) + self.offset_\n",
      "/home/paul/anaconda3/envs/stemmler/lib/python3.8/site-packages/sklearn/svm/_classes.py:1661: RuntimeWarning: invalid value encountered in add\n",
      "  return self.decision_function(X) + self.offset_\n",
      "100%|███████████████████████████████████████████████████████████████| 11/11 [00:00<00:00, 11.84it/s]\n"
     ]
    },
    {
     "name": "stdout",
     "output_type": "stream",
     "text": [
      " AUROC  DTACC  AUIN   AUOUT \n",
      " 70.66  65.39  72.61  74.55\n",
      "best hyper linear-0.1\n",
      "saving data for plotting\n",
      "-------------------------------\n"
     ]
    },
    {
     "data": {
      "image/png": "[encoded data removed]",
      "text/plain": [
       "<Figure size 432x288 with 1 Axes>"
      ]
     },
     "metadata": {
      "needs_background": "light"
     },
     "output_type": "display_data"
    },
    {
     "name": "stdout",
     "output_type": "stream",
     "text": [
      "Normal: 323 Anomaly: 109\n"
     ]
    }
   ],
   "source": [
    "e8859_report, e8859_border, e8859_model, e8859_trn, e8859_tst, e8859_ood = oc_svm_detector('e8859', e8859_trn_seq, e8859_gen_seq, TRN_FRAC, PRINT_SEQUENCES)"
   ]
  },
  {
   "cell_type": "code",
   "execution_count": 10,
   "id": "66d6d560-e97a-469f-938b-a723c92c521a",
   "metadata": {},
   "outputs": [],
   "source": [
    "e8859_gen_realistic = []\n",
    "for i, p in enumerate(e8859_model.predict(e8859_ood)):\n",
    "    if p == 1:\n",
    "        e8859_gen_realistic.append({\n",
    "            'label': 'GEN',\n",
    "            'ecode': 'E8859',\n",
    "            'seq': string_seq_dsc(e8859_gen_seq[i])\n",
    "        })"
   ]
  },
  {
   "cell_type": "code",
   "execution_count": 11,
   "id": "152ff59e-dc66-42c0-9adf-7223721257a3",
   "metadata": {},
   "outputs": [],
   "source": [
    "#for s in e8859_trn_seq[:5]:\n",
    "#    print_seq_dsc(s)\n",
    "#    print()"
   ]
  },
  {
   "cell_type": "code",
   "execution_count": 12,
   "id": "a4f81d86-464e-4767-847c-30a3a8780628",
   "metadata": {},
   "outputs": [],
   "source": [
    "#n = e8859_report[e8859_report['score']<e8859_border]\n",
    "#\n",
    "#for _,r in n[:5].iterrows():\n",
    "#    print(r['output'])"
   ]
  },
  {
   "cell_type": "code",
   "execution_count": 13,
   "id": "a67a63ee-51dd-44da-a56d-5076d2fd9258",
   "metadata": {},
   "outputs": [],
   "source": [
    "#w = e8859_report[e8859_report['score']>e8859_border]\n",
    "#\n",
    "#for _,r in w[:5].iterrows():\n",
    "#    print(r['output'])"
   ]
  },
  {
   "cell_type": "markdown",
   "id": "e786f6df-e255-4995-95db-9013ace5f5f8",
   "metadata": {},
   "source": [
    "# E966.0"
   ]
  },
  {
   "cell_type": "code",
   "execution_count": 14,
   "id": "44619d7d-65a4-49bb-9cad-07cd4ec9adcf",
   "metadata": {},
   "outputs": [
    {
     "name": "stderr",
     "output_type": "stream",
     "text": [
      "100%|███████████████████████████████████████████████████████████████| 13/13 [00:00<00:00, 18.31it/s]\n",
      "100%|███████████████████████████████████████████████████████████████| 13/13 [00:00<00:00, 23.85it/s]\n",
      "100%|██████████████████████████████████████████████████████████████| 13/13 [00:00<00:00, 354.17it/s]\n",
      "100%|██████████████████████████████████████████████████████████████| 13/13 [00:00<00:00, 546.17it/s]\n",
      "/home/paul/Stemmler/StemmlerProject/mdf.py:51: UserWarning: you are shuffling a 'Tensor' object which is not a subclass of 'Sequence'; `shuffle` is not guaranteed to behave correctly. E.g., non-numpy array/tensor objects with view semantics may contain duplicates after shuffling.\n",
      "  np.random.shuffle(test_mdf)\n",
      "/home/paul/Stemmler/StemmlerProject/mdf.py:52: UserWarning: you are shuffling a 'Tensor' object which is not a subclass of 'Sequence'; `shuffle` is not guaranteed to behave correctly. E.g., non-numpy array/tensor objects with view semantics may contain duplicates after shuffling.\n",
      "  np.random.shuffle(ood_mdf)\n"
     ]
    },
    {
     "name": "stdout",
     "output_type": "stream",
     "text": [
      "torch.Size([421, 13])\n",
      "torch.Size([421, 13])\n"
     ]
    },
    {
     "name": "stderr",
     "output_type": "stream",
     "text": [
      " 73%|██████████████████████████████████████████████▌                 | 8/11 [00:00<00:00, 59.16it/s]/home/paul/anaconda3/envs/stemmler/lib/python3.8/site-packages/sklearn/svm/_classes.py:1661: RuntimeWarning: invalid value encountered in add\n",
      "  return self.decision_function(X) + self.offset_\n",
      "/home/paul/anaconda3/envs/stemmler/lib/python3.8/site-packages/sklearn/svm/_classes.py:1661: RuntimeWarning: invalid value encountered in add\n",
      "  return self.decision_function(X) + self.offset_\n",
      "100%|███████████████████████████████████████████████████████████████| 11/11 [00:00<00:00, 12.27it/s]\n"
     ]
    },
    {
     "name": "stdout",
     "output_type": "stream",
     "text": [
      " AUROC  DTACC  AUIN   AUOUT \n",
      " 76.27  69.71  77.17  77.94\n",
      "best hyper linear-0.1\n",
      "saving data for plotting\n",
      "-------------------------------\n"
     ]
    },
    {
     "data": {
      "image/png": "[encoded data removed]",
      "text/plain": [
       "<Figure size 432x288 with 1 Axes>"
      ]
     },
     "metadata": {
      "needs_background": "light"
     },
     "output_type": "display_data"
    },
    {
     "name": "stdout",
     "output_type": "stream",
     "text": [
      "Normal: 315 Anomaly: 106\n"
     ]
    }
   ],
   "source": [
    "e9660_report, e9660_border, e9660_model, e9660_trn, e9660_tst, e9660_ood = oc_svm_detector('e9660', e9660_trn_seq, e9660_gen_seq, TRN_FRAC, PRINT_SEQUENCES)"
   ]
  },
  {
   "cell_type": "code",
   "execution_count": 15,
   "id": "20ecda7b-01ff-4ecc-aebe-492303fb30b7",
   "metadata": {},
   "outputs": [],
   "source": [
    "e9660_gen_realistic = []\n",
    "for i, p in enumerate(e9660_model.predict(e9660_ood)):\n",
    "    if p == 1:\n",
    "        e9660_gen_realistic.append({\n",
    "            'label': 'GEN',\n",
    "            'ecode': 'E9660',\n",
    "            'seq': string_seq_dsc(e9660_gen_seq[i])\n",
    "        })"
   ]
  },
  {
   "cell_type": "code",
   "execution_count": 16,
   "id": "b497cfc9-0a47-4abd-aa90-870138b2cf35",
   "metadata": {},
   "outputs": [],
   "source": [
    "#for s in e9660_trn_seq[:5]:\n",
    "#    print_seq_dsc(s)\n",
    "#    print()"
   ]
  },
  {
   "cell_type": "code",
   "execution_count": 17,
   "id": "f07d5367-fa02-41f4-b621-88770133df00",
   "metadata": {},
   "outputs": [],
   "source": [
    "#n = e9660_report[e9660_report['score']<e9660_border]\n",
    "#\n",
    "#for _,r in n[:5].iterrows():\n",
    "#    print(r['output'])"
   ]
  },
  {
   "cell_type": "code",
   "execution_count": 18,
   "id": "dcf4f560-e5fd-4c6c-9070-14c832e29c10",
   "metadata": {},
   "outputs": [],
   "source": [
    "#w = e9660_report[e9660_report['score']>e9660_border]\n",
    "#\n",
    "#for _,r in w[:5].iterrows():\n",
    "#    print(r['output'])"
   ]
  },
  {
   "cell_type": "markdown",
   "id": "4976ed2c-e0df-487a-8ba1-d16593b31fe4",
   "metadata": {},
   "source": [
    "# E965.4"
   ]
  },
  {
   "cell_type": "code",
   "execution_count": 19,
   "id": "c834f5cc-378e-45ca-ab5e-5da25e57e097",
   "metadata": {},
   "outputs": [
    {
     "name": "stderr",
     "output_type": "stream",
     "text": [
      "100%|███████████████████████████████████████████████████████████████| 13/13 [00:00<00:00, 18.32it/s]\n",
      "100%|███████████████████████████████████████████████████████████████| 13/13 [00:00<00:00, 24.66it/s]\n",
      "100%|██████████████████████████████████████████████████████████████| 13/13 [00:00<00:00, 598.87it/s]\n",
      "100%|██████████████████████████████████████████████████████████████| 13/13 [00:00<00:00, 651.98it/s]\n",
      "/home/paul/Stemmler/StemmlerProject/mdf.py:51: UserWarning: you are shuffling a 'Tensor' object which is not a subclass of 'Sequence'; `shuffle` is not guaranteed to behave correctly. E.g., non-numpy array/tensor objects with view semantics may contain duplicates after shuffling.\n",
      "  np.random.shuffle(test_mdf)\n",
      "/home/paul/Stemmler/StemmlerProject/mdf.py:52: UserWarning: you are shuffling a 'Tensor' object which is not a subclass of 'Sequence'; `shuffle` is not guaranteed to behave correctly. E.g., non-numpy array/tensor objects with view semantics may contain duplicates after shuffling.\n",
      "  np.random.shuffle(ood_mdf)\n"
     ]
    },
    {
     "name": "stdout",
     "output_type": "stream",
     "text": [
      "torch.Size([379, 13])\n",
      "torch.Size([379, 13])\n"
     ]
    },
    {
     "name": "stderr",
     "output_type": "stream",
     "text": [
      " 73%|██████████████████████████████████████████████▌                 | 8/11 [00:00<00:00, 70.47it/s]/home/paul/anaconda3/envs/stemmler/lib/python3.8/site-packages/sklearn/svm/_classes.py:1661: RuntimeWarning: invalid value encountered in add\n",
      "  return self.decision_function(X) + self.offset_\n",
      "/home/paul/anaconda3/envs/stemmler/lib/python3.8/site-packages/sklearn/svm/_classes.py:1661: RuntimeWarning: invalid value encountered in add\n",
      "  return self.decision_function(X) + self.offset_\n",
      "100%|███████████████████████████████████████████████████████████████| 11/11 [00:00<00:00, 14.94it/s]\n"
     ]
    },
    {
     "name": "stdout",
     "output_type": "stream",
     "text": [
      " AUROC  DTACC  AUIN   AUOUT \n",
      " 79.95  72.30  81.16  81.13\n",
      "best hyper linear-1e-15\n",
      "saving data for plotting\n",
      "-------------------------------\n"
     ]
    },
    {
     "data": {
      "image/png": "[encoded data removed]",
      "text/plain": [
       "<Figure size 432x288 with 1 Axes>"
      ]
     },
     "metadata": {
      "needs_background": "light"
     },
     "output_type": "display_data"
    },
    {
     "name": "stdout",
     "output_type": "stream",
     "text": [
      "Normal: 284 Anomaly: 95\n"
     ]
    }
   ],
   "source": [
    "e9654_report, e9654_border, e9654_model, e9654_trn, e9654_tst, e9654_ood = oc_svm_detector('e9654', e9654_trn_seq, e9654_gen_seq, TRN_FRAC, PRINT_SEQUENCES)"
   ]
  },
  {
   "cell_type": "code",
   "execution_count": 20,
   "id": "1ff4a8df-39fc-45e4-8532-94ed13894440",
   "metadata": {},
   "outputs": [],
   "source": [
    "e9654_gen_realistic = []\n",
    "for i, p in enumerate(e9654_model.predict(e9654_ood)):\n",
    "    if p == 1:\n",
    "        e9654_gen_realistic.append({\n",
    "            'label': 'GEN',\n",
    "            'ecode': 'E9654',\n",
    "            'seq': string_seq_dsc(e9654_gen_seq[i])\n",
    "        })"
   ]
  },
  {
   "cell_type": "code",
   "execution_count": 21,
   "id": "cc3b3710-8bbf-4e38-b4ad-0e34afeca3da",
   "metadata": {},
   "outputs": [],
   "source": [
    "#for s in e9654_trn_seq[:5]:\n",
    "#    print_seq_dsc(s)\n",
    "#    print()"
   ]
  },
  {
   "cell_type": "code",
   "execution_count": 22,
   "id": "49d0644c-499f-4ce8-9329-073e7fb21f3e",
   "metadata": {},
   "outputs": [],
   "source": [
    "#n = e9654_report[e9654_report['score']<e9654_border]\n",
    "#\n",
    "#for _,r in n[:5].iterrows():\n",
    "#    print(r['output'])"
   ]
  },
  {
   "cell_type": "code",
   "execution_count": 23,
   "id": "757ec547-82fb-4b96-a29b-0384618fc12e",
   "metadata": {},
   "outputs": [],
   "source": [
    "#w = e9654_report[e9654_report['score']>e9654_border]\n",
    "#\n",
    "#for _,r in w[:5].iterrows():\n",
    "#    print(r['output'])"
   ]
  },
  {
   "cell_type": "markdown",
   "id": "a1f919fa-a63a-443e-9977-d459d54c2b09",
   "metadata": {},
   "source": [
    "# E924.0"
   ]
  },
  {
   "cell_type": "code",
   "execution_count": 24,
   "id": "eb0d8daf-add7-48f4-8d58-20549deacf0e",
   "metadata": {},
   "outputs": [
    {
     "name": "stderr",
     "output_type": "stream",
     "text": [
      "100%|███████████████████████████████████████████████████████████████| 13/13 [00:00<00:00, 13.73it/s]\n",
      "100%|███████████████████████████████████████████████████████████████| 13/13 [00:00<00:00, 20.42it/s]\n",
      "100%|██████████████████████████████████████████████████████████████| 13/13 [00:00<00:00, 492.11it/s]\n",
      "100%|██████████████████████████████████████████████████████████████| 13/13 [00:00<00:00, 552.15it/s]\n",
      "/home/paul/Stemmler/StemmlerProject/mdf.py:51: UserWarning: you are shuffling a 'Tensor' object which is not a subclass of 'Sequence'; `shuffle` is not guaranteed to behave correctly. E.g., non-numpy array/tensor objects with view semantics may contain duplicates after shuffling.\n",
      "  np.random.shuffle(test_mdf)\n",
      "/home/paul/Stemmler/StemmlerProject/mdf.py:52: UserWarning: you are shuffling a 'Tensor' object which is not a subclass of 'Sequence'; `shuffle` is not guaranteed to behave correctly. E.g., non-numpy array/tensor objects with view semantics may contain duplicates after shuffling.\n",
      "  np.random.shuffle(ood_mdf)\n"
     ]
    },
    {
     "name": "stdout",
     "output_type": "stream",
     "text": [
      "torch.Size([440, 13])\n",
      "torch.Size([440, 13])\n"
     ]
    },
    {
     "name": "stderr",
     "output_type": "stream",
     "text": [
      " 73%|██████████████████████████████████████████████▌                 | 8/11 [00:00<00:00, 56.41it/s]/home/paul/anaconda3/envs/stemmler/lib/python3.8/site-packages/sklearn/svm/_classes.py:1661: RuntimeWarning: invalid value encountered in add\n",
      "  return self.decision_function(X) + self.offset_\n",
      "/home/paul/anaconda3/envs/stemmler/lib/python3.8/site-packages/sklearn/svm/_classes.py:1661: RuntimeWarning: invalid value encountered in add\n",
      "  return self.decision_function(X) + self.offset_\n",
      "100%|███████████████████████████████████████████████████████████████| 11/11 [00:00<00:00, 11.02it/s]\n"
     ]
    },
    {
     "name": "stdout",
     "output_type": "stream",
     "text": [
      " AUROC  DTACC  AUIN   AUOUT \n",
      " 79.80  73.75  83.43  79.00\n",
      "best hyper linear-1e-15\n",
      "saving data for plotting\n",
      "-------------------------------\n"
     ]
    },
    {
     "data": {
      "image/png": "[encoded data removed]",
      "text/plain": [
       "<Figure size 432x288 with 1 Axes>"
      ]
     },
     "metadata": {
      "needs_background": "light"
     },
     "output_type": "display_data"
    },
    {
     "name": "stdout",
     "output_type": "stream",
     "text": [
      "Normal: 328 Anomaly: 112\n"
     ]
    }
   ],
   "source": [
    "e9240_report, e9240_border, e9240_model, e9240_trn, e9240_tst, e9240_ood = oc_svm_detector('e9240', e9240_trn_seq, e9240_gen_seq, TRN_FRAC, PRINT_SEQUENCES)"
   ]
  },
  {
   "cell_type": "code",
   "execution_count": 25,
   "id": "505fd7d1-ef4a-4f87-a601-2b7b0435dc0d",
   "metadata": {},
   "outputs": [],
   "source": [
    "e9240_gen_realistic = []\n",
    "for i, p in enumerate(e9240_model.predict(e9240_ood)):\n",
    "    if p == 1:\n",
    "        e9240_gen_realistic.append({\n",
    "            'label': 'GEN',\n",
    "            'ecode': 'E9240',\n",
    "            'seq': string_seq_dsc(e9240_gen_seq[i])\n",
    "        })"
   ]
  },
  {
   "cell_type": "code",
   "execution_count": 26,
   "id": "a5c71836-f079-420c-a8e4-5e9a0f03f358",
   "metadata": {},
   "outputs": [],
   "source": [
    "#for s in e9240_trn_seq[:5]:\n",
    "#    print_seq_dsc(s)\n",
    "#    print()"
   ]
  },
  {
   "cell_type": "code",
   "execution_count": 27,
   "id": "f0f88c1d-5913-40b0-9558-5d45d5b1277e",
   "metadata": {},
   "outputs": [],
   "source": [
    "#n = e9240_report[e9240_report['score']<e9240_border]\n",
    "#\n",
    "#for _,r in n[:5].iterrows():\n",
    "#    print(r['output'])"
   ]
  },
  {
   "cell_type": "code",
   "execution_count": 28,
   "id": "ac6eda7e-a420-42cc-96ee-f16528c4bdab",
   "metadata": {},
   "outputs": [],
   "source": [
    "#w = e9240_report[e9240_report['score']>e9240_border]\n",
    "#\n",
    "#for _,r in w[:5].iterrows():\n",
    "#    print(r['output'])"
   ]
  },
  {
   "cell_type": "code",
   "execution_count": null,
   "id": "770985b9-a8c6-4769-b423-f20b41e88471",
   "metadata": {},
   "outputs": [],
   "source": []
  },
  {
   "cell_type": "code",
   "execution_count": 30,
   "id": "1d2009b3-7ad7-4550-9324-bd0d7b6e614f",
   "metadata": {},
   "outputs": [
    {
     "data": {
      "text/plain": [
       "'<START> E812.0 <DSTART> 860.0 807.02 <PSTART> 93.52 88.01 87.41 <END>'"
      ]
     },
     "execution_count": 30,
     "metadata": {},
     "output_type": "execute_result"
    }
   ],
   "source": [
    "e8120_trn_seq[0]"
   ]
  },
  {
   "cell_type": "code",
   "execution_count": 35,
   "id": "f0a0dd66-cd2b-4072-b7da-f55b8bed8f09",
   "metadata": {},
   "outputs": [],
   "source": [
    "e8120_trn_seq_sample = [{'label': 'NTDB', 'ecode': 'E8120', 'seq': string_seq_dsc(x)} for x in e8120_trn_seq]\n",
    "e8859_trn_seq_sample = [{'label': 'NTDB', 'ecode': 'E8859', 'seq': string_seq_dsc(x)} for x in e8859_trn_seq]\n",
    "e9660_trn_seq_sample = [{'label': 'NTDB', 'ecode': 'E9660', 'seq': string_seq_dsc(x)} for x in e9660_trn_seq]\n",
    "e9654_trn_seq_sample = [{'label': 'NTDB', 'ecode': 'E9654', 'seq': string_seq_dsc(x)} for x in e9654_trn_seq]\n",
    "e9240_trn_seq_sample = [{'label': 'NTDB', 'ecode': 'E9240', 'seq': string_seq_dsc(x)} for x in e9240_trn_seq]"
   ]
  },
  {
   "cell_type": "code",
   "execution_count": 36,
   "id": "57b395f0-4aa8-434c-9959-61c3a723de2d",
   "metadata": {},
   "outputs": [],
   "source": [
    "e8120_trn_seq_sample = pd.DataFrame(e8120_trn_seq_sample).sample(n=10, random_state=42).reset_index(drop=True)\n",
    "e8859_trn_seq_sample = pd.DataFrame(e8859_trn_seq_sample).sample(n=10, random_state=42).reset_index(drop=True)\n",
    "e9660_trn_seq_sample = pd.DataFrame(e9660_trn_seq_sample).sample(n=10, random_state=42).reset_index(drop=True)\n",
    "e9654_trn_seq_sample = pd.DataFrame(e9654_trn_seq_sample).sample(n=10, random_state=42).reset_index(drop=True)\n",
    "e9240_trn_seq_sample = pd.DataFrame(e9240_trn_seq_sample).sample(n=10, random_state=42).reset_index(drop=True)"
   ]
  },
  {
   "cell_type": "code",
   "execution_count": 33,
   "id": "11d8dadd-3991-486e-b036-31565adee988",
   "metadata": {},
   "outputs": [],
   "source": [
    "e8120_gen_seq_sample = pd.DataFrame(e8120_gen_realistic).sample(n=10, random_state=42).reset_index(drop=True)\n",
    "e8859_gen_seq_sample = pd.DataFrame(e8859_gen_realistic).sample(n=10, random_state=42).reset_index(drop=True)\n",
    "e9660_gen_seq_sample = pd.DataFrame(e9660_gen_realistic).sample(n=10, random_state=42).reset_index(drop=True)\n",
    "e9654_gen_seq_sample = pd.DataFrame(e9654_gen_realistic).sample(n=10, random_state=42).reset_index(drop=True)\n",
    "e9240_gen_seq_sample = pd.DataFrame(e9240_gen_realistic).sample(n=10, random_state=42).reset_index(drop=True)"
   ]
  },
  {
   "cell_type": "code",
   "execution_count": 38,
   "id": "0ff49e38-9562-4650-b494-958b86568a50",
   "metadata": {},
   "outputs": [],
   "source": [
    "pd.concat([\n",
    "    e8120_trn_seq_sample,\n",
    "    e8859_trn_seq_sample,\n",
    "    e9660_trn_seq_sample,\n",
    "    e9654_trn_seq_sample,\n",
    "    e9240_trn_seq_sample,\n",
    "    e8120_gen_seq_sample,\n",
    "    e8859_gen_seq_sample,\n",
    "    e9660_gen_seq_sample,\n",
    "    e9654_gen_seq_sample,\n",
    "    e9240_gen_seq_sample,\n",
    "]).to_json(\"../outputs/clinical_eval.json\", orient='records', lines=True)"
   ]
  },
  {
   "cell_type": "code",
   "execution_count": null,
   "id": "c2118fc4-b8f6-4229-9051-a46122ac4815",
   "metadata": {},
   "outputs": [],
   "source": []
  }
 ],
 "metadata": {
  "kernelspec": {
   "display_name": "Python 3 (ipykernel)",
   "language": "python",
   "name": "python3"
  },
  "language_info": {
   "codemirror_mode": {
    "name": "ipython",
    "version": 3
   },
   "file_extension": ".py",
   "mimetype": "text/x-python",
   "name": "python",
   "nbconvert_exporter": "python",
   "pygments_lexer": "ipython3",
   "version": "3.8.12"
  }
 },
 "nbformat": 4,
 "nbformat_minor": 5
}
